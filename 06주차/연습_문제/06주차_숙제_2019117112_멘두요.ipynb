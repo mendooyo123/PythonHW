{
  "nbformat": 4,
  "nbformat_minor": 0,
  "metadata": {
    "colab": {
      "provenance": []
    },
    "kernelspec": {
      "name": "python3",
      "display_name": "Python 3"
    },
    "language_info": {
      "name": "python"
    }
  },
  "cells": [
    {
      "cell_type": "code",
      "execution_count": null,
      "metadata": {
        "colab": {
          "base_uri": "https://localhost:8080/"
        },
        "id": "yli1xwT58hZr",
        "outputId": "ed37baba-d9e9-4b1f-9111-f1211548b93c"
      },
      "outputs": [
        {
          "output_type": "stream",
          "name": "stdout",
          "text": [
            "3 45 32 5 7 8 4 44 5 90 17\n",
            "평균값은  23.6\n",
            "최댓값은  90\n",
            "최소값은  3\n"
          ]
        }
      ],
      "source": [
        "#문제_1\n",
        "import numpy\n",
        "\n",
        "nums=list(map(int,input().split()))\n",
        "average = numpy.mean(nums)\n",
        "max = numpy.max(nums)\n",
        "min = numpy.min(nums)\n",
        "\n",
        "print(f\"평균값은  {average:.1f}\")\n",
        "print(f\"최댓값은  {max}\")\n",
        "print(f\"최소값은  {min}\")\n"
      ]
    },
    {
      "cell_type": "code",
      "source": [
        "#문제_2\n",
        "x1 = int(input('x1 좌표를 입력하시오 : '))\n",
        "y1 = int(input('y1 좌표를 입력하시오 : '))\n",
        "x2 = int(input('x2 좌표를 입력하시오 : '))\n",
        "y2 = int(input('y2 좌표를 입력하시오 : '))\n",
        "if x2 > x1 or y2 > y1:\n",
        "  area = (x2-x1)*(y2-y1)/2\n",
        "  print(\"직각삼각형의 면적은 : \", area)"
      ],
      "metadata": {
        "colab": {
          "base_uri": "https://localhost:8080/"
        },
        "id": "b2WpdO7Z_Win",
        "outputId": "9aa957f6-5232-47ff-dc31-1cf67184641a"
      },
      "execution_count": null,
      "outputs": [
        {
          "output_type": "stream",
          "name": "stdout",
          "text": [
            "x1 좌표를 입력하시오 : 0\n",
            "y1 좌표를 입력하시오 : 0\n",
            "x2 좌표를 입력하시오 : 3\n",
            "y2 좌표를 입력하시오 : 4\n",
            "직각삼각형의 면적은 :  6.0\n"
          ]
        }
      ]
    },
    {
      "cell_type": "code",
      "source": [
        "#문제_3\n",
        "import numpy\n",
        "\n",
        "nums=list(map(int,input('쉼표로 구분된 정수를 여러 개 입력하시오: ').split()))\n",
        "print(\"입력된 정수의 리스트: \", nums)\n",
        "nums = sorted(nums)\n",
        "nums"
      ],
      "metadata": {
        "colab": {
          "base_uri": "https://localhost:8080/"
        },
        "id": "aF57fqQpD9Ia",
        "outputId": "1c649664-412a-4073-98b3-b6a64fe70f22"
      },
      "execution_count": null,
      "outputs": [
        {
          "output_type": "stream",
          "name": "stdout",
          "text": [
            "쉼표로 구분된 정수를 여러 개 입력하시오: 56 67 89 34 24 300 99\n",
            "입력된 정수의 리스트:  [56, 67, 89, 34, 24, 300, 99]\n"
          ]
        },
        {
          "output_type": "execute_result",
          "data": {
            "text/plain": [
              "[24, 34, 56, 67, 89, 99, 300]"
            ]
          },
          "metadata": {},
          "execution_count": 19
        }
      ]
    },
    {
      "cell_type": "code",
      "source": [
        "#문제_4 미완성\n",
        "def math(a,b):\n",
        "  result=[]\n",
        "  for i in range(1,b+1):\n",
        "    result.append(str(i))\n",
        "  return result\n",
        "a = int(input('범위의 시작 정수 : '))\n",
        "b = int(input('범위의 마지막 정수 : '))\n",
        "math(a,b)"
      ],
      "metadata": {
        "colab": {
          "base_uri": "https://localhost:8080/"
        },
        "id": "qHS2_zQWHgI9",
        "outputId": "39b9c9c2-19dd-4d08-ac2c-dcb6fd699928"
      },
      "execution_count": null,
      "outputs": [
        {
          "name": "stdout",
          "output_type": "stream",
          "text": [
            "범위의 시작 정수 : 3\n",
            "범위의 마지막 정수 : 5\n"
          ]
        },
        {
          "output_type": "execute_result",
          "data": {
            "text/plain": [
              "['1', '2', '3', '4', '5']"
            ]
          },
          "metadata": {},
          "execution_count": 26
        }
      ]
    },
    {
      "cell_type": "code",
      "source": [
        "#문제_5\n",
        "def unit_fraction(frac):\n",
        "  n=1\n",
        "  diff=1.0\n",
        "  while True:\n",
        "    new_diff = abs(1/n - frac)\n",
        "    if (new_diff <= diff):\n",
        "      diff = new_diff\n",
        "      print(\"frac = {:0.3f}, n = {:0.3f}, 1/n = {:0.3f}, diff = {:0.3f}\".format(\\\n",
        "                                                                                frac, n, 1/n, diff))\n",
        "    else:\n",
        "      break\n",
        "    n += 1\n",
        "  return n-1\n",
        "f_val = float(input(\"1보다 작고 0보다 큰 소수를 입력하세요: \"))\n",
        "\n",
        "if f_val <= 0.0 or f_val > 1.0:\n",
        "  print('입력 오류입니다.')\n",
        "else:\n",
        "  nf = unit_fraction(f_val)\n",
        "  print('가장 가까운 단위분수는 1/{0}이며, 이 값은 {1:.5f}입니다.'.format(nf, \\\n",
        "                                                        1/nf))\n"
      ],
      "metadata": {
        "colab": {
          "base_uri": "https://localhost:8080/"
        },
        "id": "PePXW9L_VHRu",
        "outputId": "90620838-259a-4e92-fcbe-9702c6614f69"
      },
      "execution_count": null,
      "outputs": [
        {
          "output_type": "stream",
          "name": "stdout",
          "text": [
            "1보다 작고 0보다 큰 소수를 입력하세요: 0.0732\n",
            "frac = 0.073, n = 1.000, 1/n = 1.000, diff = 0.927\n",
            "frac = 0.073, n = 2.000, 1/n = 0.500, diff = 0.427\n",
            "frac = 0.073, n = 3.000, 1/n = 0.333, diff = 0.260\n",
            "frac = 0.073, n = 4.000, 1/n = 0.250, diff = 0.177\n",
            "frac = 0.073, n = 5.000, 1/n = 0.200, diff = 0.127\n",
            "frac = 0.073, n = 6.000, 1/n = 0.167, diff = 0.093\n",
            "frac = 0.073, n = 7.000, 1/n = 0.143, diff = 0.070\n",
            "frac = 0.073, n = 8.000, 1/n = 0.125, diff = 0.052\n",
            "frac = 0.073, n = 9.000, 1/n = 0.111, diff = 0.038\n",
            "frac = 0.073, n = 10.000, 1/n = 0.100, diff = 0.027\n",
            "frac = 0.073, n = 11.000, 1/n = 0.091, diff = 0.018\n",
            "frac = 0.073, n = 12.000, 1/n = 0.083, diff = 0.010\n",
            "frac = 0.073, n = 13.000, 1/n = 0.077, diff = 0.004\n",
            "frac = 0.073, n = 14.000, 1/n = 0.071, diff = 0.002\n",
            "가장 가까운 단위분수는 1/14이며, 이 값은 0.07143입니다.\n"
          ]
        }
      ]
    },
    {
      "cell_type": "code",
      "source": [
        "#문제_6\n",
        "import numpy\n",
        "nums=list(map(int,input().split()))\n",
        "max = numpy.max(nums)\n",
        "min = numpy.min(nums)\n",
        "print(f\"100과 200중 큰 수는 : {max}\")\n",
        "print(f\"100과 200중 작은 수는 : {min}\")"
      ],
      "metadata": {
        "colab": {
          "base_uri": "https://localhost:8080/"
        },
        "id": "HYAF4kBVjMdr",
        "outputId": "ff3dcf0e-a5a6-42d1-ff83-963bc7a35f39"
      },
      "execution_count": null,
      "outputs": [
        {
          "output_type": "stream",
          "name": "stdout",
          "text": [
            "100 200\n",
            "100과 200중 큰 수는 : 200\n",
            "100과 200중 작은 수는 : 100\n"
          ]
        }
      ]
    },
    {
      "cell_type": "code",
      "source": [
        "#문제_7\n",
        "for _ in range(1, 6, 1):\n",
        "  print(\"{} 마일 = {} 킬로미터\".format(_,(_*1.61)))"
      ],
      "metadata": {
        "colab": {
          "base_uri": "https://localhost:8080/"
        },
        "id": "YmOrWbvsndri",
        "outputId": "31da3c0a-d9ca-43d4-a1e9-ad90eed49518"
      },
      "execution_count": null,
      "outputs": [
        {
          "output_type": "stream",
          "name": "stdout",
          "text": [
            "1 마일 = 1.61 킬로미터\n",
            "2 마일 = 3.22 킬로미터\n",
            "3 마일 = 4.83 킬로미터\n",
            "4 마일 = 6.44 킬로미터\n",
            "5 마일 = 8.05 킬로미터\n"
          ]
        }
      ]
    },
    {
      "cell_type": "code",
      "source": [
        "#문제_8\n",
        "import math\n",
        "\n",
        "x1 = int(input('x1 좌표를 입력하시오 : '))\n",
        "y1 = int(input('y1 좌표를 입력하시오 : '))\n",
        "x2 = int(input('x2 좌표를 입력하시오 : '))\n",
        "y2 = int(input('y2 좌표를 입력하시오 : '))\n",
        "c = math.sqrt(((x2 - x1) ** 2) + ((y2 - y1) ** 2))\n",
        "print(\"두 점의 거리 : \", c)"
      ],
      "metadata": {
        "colab": {
          "base_uri": "https://localhost:8080/"
        },
        "id": "qNrFu5chovNb",
        "outputId": "26a42833-26b7-4a38-899c-e2781d2953cf"
      },
      "execution_count": null,
      "outputs": [
        {
          "output_type": "stream",
          "name": "stdout",
          "text": [
            "x1 좌표를 입력하시오 : 0\n",
            "y1 좌표를 입력하시오 : 0\n",
            "x2 좌표를 입력하시오 : 3\n",
            "y2 좌표를 입력하시오 : 4\n",
            "두 점의 거리 :  5.0\n"
          ]
        }
      ]
    },
    {
      "cell_type": "code",
      "source": [
        "#문제_9\n",
        "a=[]\n",
        "for i in range(3):\n",
        "  a.append(int(input(\"세 수를 입력하세요:\")))\n",
        "\n",
        "print(\"정렬된 리스트는 다음과 같습니다: {}\".format(sorted(a)))"
      ],
      "metadata": {
        "colab": {
          "base_uri": "https://localhost:8080/"
        },
        "id": "f_CHqWG3xAV9",
        "outputId": "1605ae00-33f5-4a9e-a752-4b6a339605dc"
      },
      "execution_count": null,
      "outputs": [
        {
          "output_type": "stream",
          "name": "stdout",
          "text": [
            "세 수를 입력하세요:3\n",
            "세 수를 입력하세요:2\n",
            "세 수를 입력하세요:5\n",
            "정렬된 리스트는 다음과 같습니다: [2, 3, 5]\n"
          ]
        }
      ]
    },
    {
      "cell_type": "code",
      "source": [
        "#문제_10\n",
        "import math\n",
        "\n",
        "x = int(input('밑변을 입력하시오 : '))\n",
        "y = int(input('높이를 입력하시오 : '))\n",
        "c = x * y / 2\n",
        "print(\"삼각형의 면적 : \", c)"
      ],
      "metadata": {
        "colab": {
          "base_uri": "https://localhost:8080/"
        },
        "id": "sYZEy2oW09dw",
        "outputId": "49ed8a30-7109-4cb0-eee7-c0c1758cdaaf"
      },
      "execution_count": null,
      "outputs": [
        {
          "output_type": "stream",
          "name": "stdout",
          "text": [
            "밑변을 입력하시오 : 20\n",
            "높이를 입력하시오 : 15\n",
            "두 점의 거리 :  150.0\n"
          ]
        }
      ]
    }
  ]
}