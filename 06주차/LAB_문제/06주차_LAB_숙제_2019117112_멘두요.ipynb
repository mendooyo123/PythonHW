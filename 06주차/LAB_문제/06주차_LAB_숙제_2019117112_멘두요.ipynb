{
  "nbformat": 4,
  "nbformat_minor": 0,
  "metadata": {
    "colab": {
      "provenance": []
    },
    "kernelspec": {
      "name": "python3",
      "display_name": "Python 3"
    },
    "language_info": {
      "name": "python"
    }
  },
  "cells": [
    {
      "cell_type": "code",
      "execution_count": 1,
      "metadata": {
        "id": "MFGcfWjzQXhG"
      },
      "outputs": [],
      "source": [
        "##LAB 4-1 /문제_1\n",
        "def print_star():\n",
        "  print('**************')\n",
        "\n"
      ]
    },
    {
      "cell_type": "code",
      "source": [
        "##LAB 4-1 /문제_2\n",
        "def print_star():\n",
        "  print('**************')\n",
        "\n",
        "print_star()\n",
        "print_star()\n",
        "print_star()\n",
        "print_star()\n",
        "print_star()\n",
        "print_star()"
      ],
      "metadata": {
        "colab": {
          "base_uri": "https://localhost:8080/"
        },
        "id": "GRqbHypCRZo6",
        "outputId": "d670fbb3-66f0-4493-dd0f-241339101aba"
      },
      "execution_count": null,
      "outputs": [
        {
          "output_type": "stream",
          "name": "stdout",
          "text": [
            "**************\n",
            "**************\n",
            "**************\n",
            "**************\n",
            "**************\n",
            "**************\n"
          ]
        }
      ]
    },
    {
      "cell_type": "code",
      "source": [
        "##LAB 4-2\n",
        "def print_star3():\n",
        "  print('****************')\n",
        "  print('****************')\n",
        "  print('****************')\n",
        "  print('****************')\n",
        "  print('****************')\n",
        "\n",
        "\n",
        "print_star3()\n",
        "print_star3()\n"
      ],
      "metadata": {
        "colab": {
          "base_uri": "https://localhost:8080/"
        },
        "id": "zEyxEK2JRZrr",
        "outputId": "59b8c3b6-c054-458e-f33d-26eecbfae824"
      },
      "execution_count": null,
      "outputs": [
        {
          "output_type": "stream",
          "name": "stdout",
          "text": [
            "****************\n",
            "****************\n",
            "****************\n",
            "****************\n",
            "****************\n",
            "****************\n",
            "****************\n",
            "****************\n",
            "****************\n",
            "****************\n"
          ]
        }
      ]
    },
    {
      "cell_type": "code",
      "source": [
        "##LAB 4-3\n",
        "def print_hash():\n",
        "  print('###############')\n",
        "\n",
        "def print_star():\n",
        "  print('***************')\n",
        "\n",
        "def print_plus():\n",
        "  print('+++++++++++++++')\n",
        "\n",
        "print_hash()\n",
        "print_star()\n",
        "print_plus()\n",
        "print_plus()\n",
        "print_star()\n",
        "print_hash()"
      ],
      "metadata": {
        "colab": {
          "base_uri": "https://localhost:8080/"
        },
        "id": "zZxHG4XsRZt7",
        "outputId": "7d26a66a-6d75-411a-956e-9953e63c07c0"
      },
      "execution_count": null,
      "outputs": [
        {
          "output_type": "stream",
          "name": "stdout",
          "text": [
            "###############\n",
            "***************\n",
            "+++++++++++++++\n",
            "+++++++++++++++\n",
            "***************\n",
            "###############\n"
          ]
        }
      ]
    },
    {
      "cell_type": "code",
      "source": [
        "##LAB 4-4 /문제_1\n",
        "def print_star(n):\n",
        "  for _ in range(n):\n",
        "    print('*****************')\n",
        "print_star(10)"
      ],
      "metadata": {
        "colab": {
          "base_uri": "https://localhost:8080/"
        },
        "id": "8glQIoZFRZwP",
        "outputId": "a7cbf766-5835-42f5-da96-62c84f3a3fa0"
      },
      "execution_count": null,
      "outputs": [
        {
          "output_type": "stream",
          "name": "stdout",
          "text": [
            "*****************\n",
            "*****************\n",
            "*****************\n",
            "*****************\n",
            "*****************\n",
            "*****************\n",
            "*****************\n",
            "*****************\n",
            "*****************\n",
            "*****************\n"
          ]
        }
      ]
    },
    {
      "cell_type": "code",
      "source": [
        "##LAB 4-4 /문제_2\n",
        "def print_hash(n):\n",
        "  for _ in range(n):\n",
        "    print('###################')\n",
        "print_hash(10)"
      ],
      "metadata": {
        "colab": {
          "base_uri": "https://localhost:8080/"
        },
        "id": "fJtVqCxhRZy6",
        "outputId": "5c8f7a29-d990-4157-dc18-4566c4adcdfa"
      },
      "execution_count": null,
      "outputs": [
        {
          "output_type": "stream",
          "name": "stdout",
          "text": [
            "###################\n",
            "###################\n",
            "###################\n",
            "###################\n",
            "###################\n",
            "###################\n",
            "###################\n",
            "###################\n",
            "###################\n",
            "###################\n"
          ]
        }
      ]
    },
    {
      "cell_type": "code",
      "source": [
        "##LAB 4-4 /문제_3\n",
        "\n",
        "def print_hash(n):\n",
        "  for _ in range(n):\n",
        "    print('###################')\n",
        "print_hash(6)"
      ],
      "metadata": {
        "colab": {
          "base_uri": "https://localhost:8080/"
        },
        "id": "f_O8ka7RRZ1n",
        "outputId": "8b98ecc0-8d30-4c08-979a-67cf9d0e91b7"
      },
      "execution_count": null,
      "outputs": [
        {
          "output_type": "stream",
          "name": "stdout",
          "text": [
            "###################\n",
            "###################\n",
            "###################\n",
            "###################\n",
            "###################\n",
            "###################\n"
          ]
        }
      ]
    },
    {
      "cell_type": "code",
      "source": [
        "##LAB 4-4 /문제_4\n",
        "\n",
        "def print_hash(n):\n",
        "  for _ in range(n):\n",
        "    print(_,'###################')\n",
        "    \n",
        "  \n",
        "print_hash(6)"
      ],
      "metadata": {
        "colab": {
          "base_uri": "https://localhost:8080/"
        },
        "id": "m42ugeShUS92",
        "outputId": "f45aba24-a9a2-4913-b643-2f6efcf21424"
      },
      "execution_count": null,
      "outputs": [
        {
          "output_type": "stream",
          "name": "stdout",
          "text": [
            "0 ###################\n",
            "1 ###################\n",
            "2 ###################\n",
            "3 ###################\n",
            "4 ###################\n",
            "5 ###################\n"
          ]
        }
      ]
    },
    {
      "cell_type": "code",
      "source": [
        "##LAB 4-5 /문제_1\n",
        "def print_sub(a, b):\n",
        "  result = a - b\n",
        "  print(a,'과', b, '의 차는', result, '입니다.')\n",
        "\n",
        "print_sub(10,20)"
      ],
      "metadata": {
        "colab": {
          "base_uri": "https://localhost:8080/"
        },
        "id": "GD06pqLmUS_8",
        "outputId": "570e4077-0a6e-4125-88ab-dd875bb9c9c8"
      },
      "execution_count": null,
      "outputs": [
        {
          "output_type": "stream",
          "name": "stdout",
          "text": [
            "10 과 20 의 차는 -10 입니다.\n"
          ]
        }
      ]
    },
    {
      "cell_type": "code",
      "source": [
        "##LAB 4-5 /문제_2\n",
        "def print_mult(a, b):\n",
        "  result = a * b\n",
        "  print(a,'과', b, '의 곱은', result, '입니다.')\n",
        "\n",
        "print_mult(10,20)"
      ],
      "metadata": {
        "colab": {
          "base_uri": "https://localhost:8080/"
        },
        "id": "_zFqmh-aUTCj",
        "outputId": "be5bfbf0-f74c-4577-a22b-45cab36b50f9"
      },
      "execution_count": null,
      "outputs": [
        {
          "output_type": "stream",
          "name": "stdout",
          "text": [
            "10 과 20 의 곱은 200 입니다.\n"
          ]
        }
      ]
    },
    {
      "cell_type": "code",
      "source": [
        "##LAB 4-6 /문제_1\n",
        "def print_root(a,b,c):\n",
        "  r1 = (-b+(b ** 2 - 4 * a * c) ** 0.5) / (2 * a)\n",
        "  r2 = (-b - (b ** 2 - 4 * a *c) ** 0.5) / (2 * a)\n",
        "  print('해는', r1,'또는',r2)\n",
        "\n",
        "print_root(1, 4, -21)\n",
        "print_root(1, -6, 8)"
      ],
      "metadata": {
        "colab": {
          "base_uri": "https://localhost:8080/"
        },
        "id": "HFXHXwOSUTEs",
        "outputId": "afd9b878-3755-4ad1-bf89-5dde81d451a9"
      },
      "execution_count": null,
      "outputs": [
        {
          "output_type": "stream",
          "name": "stdout",
          "text": [
            "해는 3.0 또는 -7.0\n",
            "해는 4.0 또는 2.0\n"
          ]
        }
      ]
    },
    {
      "cell_type": "code",
      "source": [
        "##LAB 4-6 /문제_2\n",
        "def print_area(a,b):\n",
        "  r = a * b / 2\n",
        "  print('밑변 {}, 높이 {}인 삼각형의 면적은: {}'.format(a,b,int(r)))\n",
        "print_area(10,20)\n"
      ],
      "metadata": {
        "colab": {
          "base_uri": "https://localhost:8080/"
        },
        "id": "mbJ8YFfijiJa",
        "outputId": "d12d428f-7738-40ce-b1db-5e4d608521d0"
      },
      "execution_count": null,
      "outputs": [
        {
          "output_type": "stream",
          "name": "stdout",
          "text": [
            "밑변 10, 높이 20인 삼각형의 면적은: 100\n"
          ]
        }
      ]
    },
    {
      "cell_type": "code",
      "source": [
        "##LAB 4-7\n",
        "def circle_area_circum(radius):\n",
        "  area = 3.14 * radius * radius\n",
        "  circum = 2 * 3.14 * radius\n",
        "  return area, circum\n",
        "\n",
        "area, circum = circle_area_circum(10)\n",
        "print('반지름 10인 원의 면적은 {}, 원의 둘레는 {:04.1f}'.format(area, circum))"
      ],
      "metadata": {
        "colab": {
          "base_uri": "https://localhost:8080/"
        },
        "id": "imgFjYOdjiL5",
        "outputId": "57aad33b-14fe-4316-d591-ef4b1c659f03"
      },
      "execution_count": null,
      "outputs": [
        {
          "output_type": "stream",
          "name": "stdout",
          "text": [
            "반지름 10인 원의 면적은 314.0, 원의 둘레는 62.8\n"
          ]
        }
      ]
    },
    {
      "cell_type": "code",
      "source": [
        "##LAB 4-8\n",
        "def multiplies(n, m):\n",
        "  res = list()\n",
        "  for i in range(1, m+1):\n",
        "    res.append(n * i)\n",
        "  return res\n",
        "\n",
        "r1, r2, r3, r4 = multiplies(3, 4)\n",
        "print(r1, r2, r3, r4)\n",
        "r1, r2, r3, r4, r5 = multiplies(2, 5)\n",
        "print(r1, r2, r3, r4, r5)\n"
      ],
      "metadata": {
        "colab": {
          "base_uri": "https://localhost:8080/"
        },
        "id": "hvOTxbo1jiON",
        "outputId": "6dc43489-dd75-418c-8900-e6cba9c834af"
      },
      "execution_count": null,
      "outputs": [
        {
          "output_type": "stream",
          "name": "stdout",
          "text": [
            "3 6 9 12\n",
            "2 4 6 8 10\n"
          ]
        }
      ]
    },
    {
      "cell_type": "code",
      "source": [
        "##LAB 4-9 /문제_a\n",
        "def print_name(honorifics, first_name, last_name):\n",
        "  print(honorifics, first_name, last_name)\n",
        "\n",
        "print_name(first_name = 'Gildong', last_name = 'Hong', honorifics = 'Dr.')"
      ],
      "metadata": {
        "colab": {
          "base_uri": "https://localhost:8080/"
        },
        "id": "VY4ldgvdjiTA",
        "outputId": "b43027bb-3447-4bda-d5d8-8f131565ac90"
      },
      "execution_count": null,
      "outputs": [
        {
          "output_type": "stream",
          "name": "stdout",
          "text": [
            "Dr. Gildong Hong\n"
          ]
        }
      ]
    },
    {
      "cell_type": "code",
      "source": [
        "##LAB 4-9 /문제_b\n",
        "def print_name(honorifics, first_name, last_name):\n",
        "  print(honorifics, first_name, last_name)\n",
        "\n",
        "print_name('Gildong', 'Hong', 'Dr.')\n"
      ],
      "metadata": {
        "colab": {
          "base_uri": "https://localhost:8080/"
        },
        "id": "2R1BSlOIjiVh",
        "outputId": "37fb5e11-5cb6-4276-9e52-f3b6102428a4"
      },
      "execution_count": null,
      "outputs": [
        {
          "output_type": "stream",
          "name": "stdout",
          "text": [
            "Gildong Hong Dr.\n"
          ]
        }
      ]
    },
    {
      "cell_type": "code",
      "source": [
        "##LAB 4-10 /문제_1\n",
        "def sum_nums(*numbers):\n",
        "  result = 0\n",
        "  for n in numbers:\n",
        "      result += n\n",
        "      avg = result / len(numbers)\n",
        "  print('{}개의 인자 {}'.format(len(numbers),numbers))\n",
        "  print('합계:', result, '평균:', avg)\n",
        "sum_nums(10,20,30)\n",
        "  \n",
        "\n",
        "\n"
      ],
      "metadata": {
        "colab": {
          "base_uri": "https://localhost:8080/"
        },
        "id": "kqoeqZ9eUTGh",
        "outputId": "8070b783-ef35-4c84-9eae-2f8918acd331"
      },
      "execution_count": null,
      "outputs": [
        {
          "output_type": "stream",
          "name": "stdout",
          "text": [
            "3개의 인자 (10, 20, 30)\n",
            "합계: 60 평균: 20.0\n"
          ]
        }
      ]
    },
    {
      "cell_type": "code",
      "source": [
        "##LAB 4-10 /문제_2\n",
        "def sum_nums(*numbers):\n",
        "  result = 0\n",
        "  for n in numbers:\n",
        "      result += n\n",
        "      avg = result / len(numbers)\n",
        "  print('{}개의 인자 {}'.format(len(numbers),numbers))\n",
        "  print('합계:', result, '평균:', avg)\n",
        "  \n",
        "sum_nums(10,20,30,40,50)\n"
      ],
      "metadata": {
        "colab": {
          "base_uri": "https://localhost:8080/"
        },
        "id": "tclMzHE3GdEa",
        "outputId": "18a15fcd-2542-44b6-ec42-a87866053b51"
      },
      "execution_count": null,
      "outputs": [
        {
          "output_type": "stream",
          "name": "stdout",
          "text": [
            "5개의 인자 (10, 20, 30, 40, 50)\n",
            "합계: 150 평균: 30.0\n"
          ]
        }
      ]
    },
    {
      "cell_type": "code",
      "source": [
        "##LAB 4-10 /문제_3\n",
        "def min_nums(*inte):\n",
        "  minimum = min(inte)\n",
        "  print('최솟값은', minimum)\n",
        "\n",
        "min_nums(20,40,50,10)"
      ],
      "metadata": {
        "colab": {
          "base_uri": "https://localhost:8080/"
        },
        "id": "zg--sATmJj_8",
        "outputId": "973c8d78-9e07-454f-b48a-e6e56ccc56ea"
      },
      "execution_count": null,
      "outputs": [
        {
          "output_type": "stream",
          "name": "stdout",
          "text": [
            "최솟값은 10\n"
          ]
        }
      ]
    },
    {
      "cell_type": "code",
      "source": [
        "##LAB 4-11 /문제_1\n",
        "name = input('당신의 이름을 입력헤주세요 :')\n",
        "age = input('나이를 입력해주세요 :')\n",
        "work = input('직업을 입력해주세요 :')\n",
        "address = input('사는 곳을 입력해 주세요 :')\n",
        "print('당싱의 이름은 {}, 나이는 {}살, 직업은 {}, 사는 곳은 {}입니다.'.format(name,age,work,address))"
      ],
      "metadata": {
        "colab": {
          "base_uri": "https://localhost:8080/"
        },
        "id": "fNMlrUBGNEqP",
        "outputId": "bf3b6a44-e604-4e23-c358-ef73e84b37ed"
      },
      "execution_count": null,
      "outputs": [
        {
          "output_type": "stream",
          "name": "stdout",
          "text": [
            "당신의 이름을 입력헤주세요 :김철수\n",
            "나이를 입력해주세요 :21\n",
            "직업을 입력해주세요 :학생\n",
            "사는 곳을 입력해 주세요 :창원시\n",
            "당싱의 이름은 김철수, 나이는 21살, 직업은 학생, 사는 곳은 창원시입니다.\n"
          ]
        }
      ]
    },
    {
      "cell_type": "code",
      "source": [
        "##LAB 4-11 /문제_2\n",
        "name = input('당신의 이름을 입력헤주세요 :')\n",
        "age = input('나이를 입력해주세요 :')\n",
        "work = input('직업을 입력해주세요 :')\n",
        "address = input('사는 곳을 입력해 주세요 :')\n",
        "print('당싱의 이름은', name, ',나이는', age,'살, 직업은', work, '사는 곳은', address,'입니다.')"
      ],
      "metadata": {
        "colab": {
          "base_uri": "https://localhost:8080/"
        },
        "id": "brz8EXoENEyP",
        "outputId": "8d9d5d6f-7a8f-4ec6-bc07-509c146ed26b"
      },
      "execution_count": null,
      "outputs": [
        {
          "output_type": "stream",
          "name": "stdout",
          "text": [
            "당신의 이름을 입력헤주세요 :김철수\n",
            "나이를 입력해주세요 :21\n",
            "직업을 입력해주세요 :학생\n",
            "사는 곳을 입력해 주세요 :차원시\n",
            "당싱의 이름은 김철수 ,나이는 21 살, 직업은 학생 사는 곳은 차원시 입니다.\n"
          ]
        }
      ]
    },
    {
      "cell_type": "code",
      "source": [
        "##LAB 4-12 /문제_1\n",
        "'_'.join('ABCD')"
      ],
      "metadata": {
        "colab": {
          "base_uri": "https://localhost:8080/",
          "height": 36
        },
        "id": "ObQeRzCfNE0r",
        "outputId": "7079adc2-3dd1-4986-cab5-32c7656f53ea"
      },
      "execution_count": null,
      "outputs": [
        {
          "output_type": "execute_result",
          "data": {
            "text/plain": [
              "'A_B_C_D'"
            ],
            "application/vnd.google.colaboratory.intrinsic+json": {
              "type": "string"
            }
          },
          "metadata": {},
          "execution_count": 151
        }
      ]
    },
    {
      "cell_type": "code",
      "source": [
        "##LAB 4-12 /문제_2\n",
        "s1 = 'My favorite thing is monsters.'\n",
        "s1.replace('monsters','cartoons')"
      ],
      "metadata": {
        "colab": {
          "base_uri": "https://localhost:8080/",
          "height": 36
        },
        "id": "9PRi261KNE2-",
        "outputId": "916111c7-89e9-4e8f-fb95-675e687709cf"
      },
      "execution_count": null,
      "outputs": [
        {
          "output_type": "execute_result",
          "data": {
            "text/plain": [
              "'My favorite thing is cartoons.'"
            ],
            "application/vnd.google.colaboratory.intrinsic+json": {
              "type": "string"
            }
          },
          "metadata": {},
          "execution_count": 153
        }
      ]
    },
    {
      "cell_type": "code",
      "source": [],
      "metadata": {
        "id": "0VQR_jLPNE7I"
      },
      "execution_count": null,
      "outputs": []
    }
  ]
}