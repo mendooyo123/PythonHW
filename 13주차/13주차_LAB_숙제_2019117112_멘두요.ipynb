{
  "nbformat": 4,
  "nbformat_minor": 0,
  "metadata": {
    "colab": {
      "provenance": []
    },
    "kernelspec": {
      "name": "python3",
      "display_name": "Python 3"
    },
    "language_info": {
      "name": "python"
    }
  },
  "cells": [
    {
      "cell_type": "code",
      "execution_count": 1,
      "metadata": {
        "colab": {
          "base_uri": "https://localhost:8080/"
        },
        "id": "E4OYnRVbClXP",
        "outputId": "84465fcf-d33e-46f8-d21a-7dbd71f2bea0"
      },
      "outputs": [
        {
          "output_type": "stream",
          "name": "stdout",
          "text": [
            "200 - 100 = 100\n"
          ]
        }
      ],
      "source": [
        "##LAB 10-1 /문제_1\n",
        "def sub(a, b):\n",
        "  return a - b\n",
        "\n",
        "print('{} - {} = {}'.format(200, 100, sub(200, 100)))"
      ]
    },
    {
      "cell_type": "code",
      "source": [
        "##LAB 10-1 /문제_2\n",
        "print(' 200 - 100 = {}'.format( (lambda x, y : x - y )(200, 100)))"
      ],
      "metadata": {
        "colab": {
          "base_uri": "https://localhost:8080/"
        },
        "id": "YeN_SFRyC8ZQ",
        "outputId": "25afa0aa-32cb-41d2-8330-706a2e2966c3"
      },
      "execution_count": 2,
      "outputs": [
        {
          "output_type": "stream",
          "name": "stdout",
          "text": [
            " 200 - 100 = 100\n"
          ]
        }
      ]
    },
    {
      "cell_type": "code",
      "source": [
        "##LAB 10-2 /문제_1\n",
        "n_list = [1, 2, 3, 4, 5, 6, 7, 8, 9, 10]\n",
        "even_list = []\n",
        "for n in filter(lambda x: x % 2 == 0, n_list):\n",
        "    even_list.append(n)\n",
        "\n",
        "print('even_list =', even_list)"
      ],
      "metadata": {
        "colab": {
          "base_uri": "https://localhost:8080/"
        },
        "id": "NuSGNl6tC8bd",
        "outputId": "eff3b2a4-5b13-44eb-c09d-5f1105cc645f"
      },
      "execution_count": 3,
      "outputs": [
        {
          "output_type": "stream",
          "name": "stdout",
          "text": [
            "even_list = [2, 4, 6, 8, 10]\n"
          ]
        }
      ]
    },
    {
      "cell_type": "code",
      "source": [
        "##LAB 10-2 /문제_1-2\n",
        "n_list = [1, 2, 3, 4, 5, 6, 7, 8, 9, 10]\n",
        "\n",
        "even_list = list(filter(lambda x: x % 2 == 0, n_list))\n",
        "print('even_list =', even_list)\n"
      ],
      "metadata": {
        "colab": {
          "base_uri": "https://localhost:8080/"
        },
        "id": "GKCxROuzC8dt",
        "outputId": "bcd1d7da-ccb1-444a-b630-4a928f241418"
      },
      "execution_count": 4,
      "outputs": [
        {
          "output_type": "stream",
          "name": "stdout",
          "text": [
            "even_list = [2, 4, 6, 8, 10]\n"
          ]
        }
      ]
    },
    {
      "cell_type": "code",
      "source": [
        "##LAB 10-2 /문제_2\n",
        "n_list = [1, 2, 3, 4, 5, 6, 7, 8, 9, 10]\n",
        "odd_list = []\n",
        "for n in filter(lambda x: x % 2 == 1, n_list):\n",
        "    odd_list.append(n)\n",
        "\n",
        "print('odd_list =', odd_list)"
      ],
      "metadata": {
        "colab": {
          "base_uri": "https://localhost:8080/"
        },
        "id": "slpXWGw4C8f3",
        "outputId": "9f713193-f1a7-4867-8b03-b50ce751eaa3"
      },
      "execution_count": 5,
      "outputs": [
        {
          "output_type": "stream",
          "name": "stdout",
          "text": [
            "odd_list = [1, 3, 5, 7, 9]\n"
          ]
        }
      ]
    },
    {
      "cell_type": "code",
      "source": [
        "##LAB 10-2 /문제_2-2\n",
        "n_list = [1, 2, 3, 4, 5, 6, 7, 8, 9, 10]\n",
        "\n",
        "odd_list = list(filter(lambda x: x % 2 == 1, n_list))\n",
        "print('odd_list =', odd_list)"
      ],
      "metadata": {
        "colab": {
          "base_uri": "https://localhost:8080/"
        },
        "id": "S5bbc3zSC8hv",
        "outputId": "d6746184-ac55-4c54-ee6d-a1641d6992ec"
      },
      "execution_count": 6,
      "outputs": [
        {
          "output_type": "stream",
          "name": "stdout",
          "text": [
            "odd_list = [1, 3, 5, 7, 9]\n"
          ]
        }
      ]
    },
    {
      "cell_type": "code",
      "source": [
        "##LAB 10-3 /문제_1\n",
        "def to_upper(x):\n",
        "  return x.upper()\n",
        "\n",
        "a_list = ['a', 'b', 'c', 'd']\n",
        "\n",
        "upper_a_list = list(map(to_upper, a_list))\n",
        "print('upper_a_list =', upper_a_list)"
      ],
      "metadata": {
        "colab": {
          "base_uri": "https://localhost:8080/"
        },
        "id": "sVfbM_2GC8jp",
        "outputId": "12ea1ab0-f5e9-4f24-fefe-e5f978ae925b"
      },
      "execution_count": 7,
      "outputs": [
        {
          "output_type": "stream",
          "name": "stdout",
          "text": [
            "upper_a_list = ['A', 'B', 'C', 'D']\n"
          ]
        }
      ]
    },
    {
      "cell_type": "code",
      "source": [
        "##LAB 10-3 /문제_1-2\n",
        "a_list = ['a', 'b', 'c', 'd']\n",
        "\n",
        "upper_a_list = list(map(lambda x: x.upper(), a_list))\n",
        "print('upper_a_list =', upper_a_list)"
      ],
      "metadata": {
        "colab": {
          "base_uri": "https://localhost:8080/"
        },
        "id": "9yMJyqrlDwws",
        "outputId": "a510ae55-50e1-4707-ad6b-97ffe2e3df1f"
      },
      "execution_count": 8,
      "outputs": [
        {
          "output_type": "stream",
          "name": "stdout",
          "text": [
            "upper_a_list = ['A', 'B', 'C', 'D']\n"
          ]
        }
      ]
    },
    {
      "cell_type": "code",
      "source": [
        "##LAB 10-3 /문제_2\n",
        "def twice(x):\n",
        "  return x * 2\n",
        "\n",
        "def triple(x):\n",
        "  return x * 3\n",
        "\n",
        "n_list = [10, 20, 30]\n",
        "twice_list = list(map(twice, n_list))\n",
        "print('입력 값의 두 배 :', twice_list)"
      ],
      "metadata": {
        "colab": {
          "base_uri": "https://localhost:8080/"
        },
        "id": "CaD8QC88DwzS",
        "outputId": "27a9b161-db75-478c-feb6-b8ef83bda1fa"
      },
      "execution_count": 9,
      "outputs": [
        {
          "output_type": "stream",
          "name": "stdout",
          "text": [
            "입력 값의 두 배 : [20, 40, 60]\n"
          ]
        }
      ]
    },
    {
      "cell_type": "code",
      "source": [
        "##LAB 10-3 /문제_2-2\n",
        "triple_list = list(map(triple, n_list))\n",
        "print('입력 값의 세 배 :', triple_list)"
      ],
      "metadata": {
        "colab": {
          "base_uri": "https://localhost:8080/"
        },
        "id": "Pzl5LuqRDw1u",
        "outputId": "e16b2b9a-12d7-4920-911a-75caaa46c584"
      },
      "execution_count": 10,
      "outputs": [
        {
          "output_type": "stream",
          "name": "stdout",
          "text": [
            "입력 값의 세 배 : [30, 60, 90]\n"
          ]
        }
      ]
    },
    {
      "cell_type": "code",
      "source": [
        "##LAB 10-4 /문제_1\n",
        "from functools import reduce\n",
        "\n",
        "n = reduce(lambda x, y: x + y, range(1, 101))\n",
        "print('1에서 100까지의 합 :', n)"
      ],
      "metadata": {
        "colab": {
          "base_uri": "https://localhost:8080/"
        },
        "id": "r9iFCV_NDw4K",
        "outputId": "6b9fb0f0-89cb-4235-db0d-24539bd76431"
      },
      "execution_count": 11,
      "outputs": [
        {
          "output_type": "stream",
          "name": "stdout",
          "text": [
            "1에서 100까지의 합 : 5050\n"
          ]
        }
      ]
    },
    {
      "cell_type": "code",
      "source": [
        "##LAB 10-4 /문제_2\n",
        "from functools import reduce\n",
        "\n",
        "n = reduce(lambda x, y: x * y, range(1, 11))\n",
        "print('10! =', n)"
      ],
      "metadata": {
        "colab": {
          "base_uri": "https://localhost:8080/"
        },
        "id": "iln90YodDw6P",
        "outputId": "079160cd-6769-425d-be3b-857436cbf5ab"
      },
      "execution_count": 12,
      "outputs": [
        {
          "output_type": "stream",
          "name": "stdout",
          "text": [
            "10! = 3628800\n"
          ]
        }
      ]
    },
    {
      "cell_type": "code",
      "source": [
        "##LAB 10-5 /문제_1\n",
        "cubic = [x**3 for x in range(1, 11)]\n",
        "print('cubic =', cubic)"
      ],
      "metadata": {
        "colab": {
          "base_uri": "https://localhost:8080/"
        },
        "id": "H8yf9eMXEQhw",
        "outputId": "ef4f0d3e-726f-499f-dc72-9dacd9b7c1f4"
      },
      "execution_count": 13,
      "outputs": [
        {
          "output_type": "stream",
          "name": "stdout",
          "text": [
            "cubic = [1, 8, 27, 64, 125, 216, 343, 512, 729, 1000]\n"
          ]
        }
      ]
    },
    {
      "cell_type": "code",
      "source": [
        "##LAB 10-5 /문제_2\n",
        "a = ['welcome', 'to', 'the', 'python', 'world']\n",
        "first_a = [ word[0] for word in a]\n",
        "print('a =', a)\n",
        "print('first_a =', first_a)"
      ],
      "metadata": {
        "colab": {
          "base_uri": "https://localhost:8080/"
        },
        "id": "tJKFWtiwEQj_",
        "outputId": "d255a367-4bf9-4042-9c61-ffcc16886204"
      },
      "execution_count": 15,
      "outputs": [
        {
          "output_type": "stream",
          "name": "stdout",
          "text": [
            "a = ['welcome', 'to', 'the', 'python', 'world']\n",
            "first_a = ['w', 't', 't', 'p', 'w']\n"
          ]
        }
      ]
    },
    {
      "cell_type": "code",
      "source": [
        "##LAB 10-6 /문제_1\n",
        "cubic = [x**3 for x in range(1, 11) if x**3 <= 500]\n",
        "print('cubic =', cubic)"
      ],
      "metadata": {
        "colab": {
          "base_uri": "https://localhost:8080/"
        },
        "id": "xn3tjS5PEQmd",
        "outputId": "72a09e36-c2ac-4632-ca3d-fb45b3382a50"
      },
      "execution_count": 16,
      "outputs": [
        {
          "output_type": "stream",
          "name": "stdout",
          "text": [
            "cubic = [1, 8, 27, 64, 125, 216, 343]\n"
          ]
        }
      ]
    },
    {
      "cell_type": "code",
      "source": [
        "##LAB 10-6 /문제_2\n",
        "import string\n",
        "\n",
        "st = 'Hello 1234 Python'\n",
        "digit = [x for x in st if x.isdigit()]\n",
        "print(digit)"
      ],
      "metadata": {
        "colab": {
          "base_uri": "https://localhost:8080/"
        },
        "id": "WfVNwrBcEQou",
        "outputId": "010a08be-4f38-418c-b2fe-566cc5a50986"
      },
      "execution_count": 17,
      "outputs": [
        {
          "output_type": "stream",
          "name": "stdout",
          "text": [
            "['1', '2', '3', '4']\n"
          ]
        }
      ]
    },
    {
      "cell_type": "code",
      "source": [
        "##LAB 10-7 /문제_1\n",
        "class EvenCounter():\n",
        "  def __init__(self, n=0):\n",
        "    self.n = n\n",
        "  \n",
        "  def __iter__(self):\n",
        "    return self\n",
        "\n",
        "  def __next__(self):\n",
        "    t = self.n\n",
        "    self.n += 2\n",
        "    return t\n",
        "\n",
        "my_even = EvenCounter()\n",
        "for x in my_even:\n",
        "  print(x, end = ' ')\n",
        "  if x >= 7:\n",
        "    break"
      ],
      "metadata": {
        "colab": {
          "base_uri": "https://localhost:8080/"
        },
        "id": "HiY8__6PEQq2",
        "outputId": "7ec6df13-41d7-4ef2-c71b-a7665449bca5"
      },
      "execution_count": 18,
      "outputs": [
        {
          "output_type": "stream",
          "name": "stdout",
          "text": [
            "0 2 4 6 8 "
          ]
        }
      ]
    },
    {
      "cell_type": "code",
      "source": [
        "##LAB 10-7 /문제_2\n",
        "class EvenCounter():\n",
        "  def __init__(self, n=0):\n",
        "    self.n = n\n",
        "  \n",
        "  def __iter__(self):\n",
        "    return self\n",
        "\n",
        "  def __next__(self):\n",
        "    t = self.n\n",
        "    self.n += 2\n",
        "    return t\n",
        "\n",
        "my_even = EvenCounter()\n",
        "for x in my_even:\n",
        "  print(x, end = ' ')\n",
        "  if x >= 19:\n",
        "    break"
      ],
      "metadata": {
        "colab": {
          "base_uri": "https://localhost:8080/"
        },
        "id": "dCn8cs-yEQsr",
        "outputId": "2cf6f96e-bfa7-4310-f785-c9694db3ba8b"
      },
      "execution_count": 19,
      "outputs": [
        {
          "output_type": "stream",
          "name": "stdout",
          "text": [
            "0 2 4 6 8 10 12 14 16 18 20 "
          ]
        }
      ]
    },
    {
      "cell_type": "code",
      "source": [
        "##LAB 10-8 /문제_1\n",
        "txt = 'Welcome to Busan Metropolitan City.'\n",
        "txt.split()"
      ],
      "metadata": {
        "colab": {
          "base_uri": "https://localhost:8080/"
        },
        "id": "lscNuYdLE7M5",
        "outputId": "fe7f1a76-9c79-41a8-89f3-5fd165e61205"
      },
      "execution_count": 20,
      "outputs": [
        {
          "output_type": "execute_result",
          "data": {
            "text/plain": [
              "['Welcome', 'to', 'Busan', 'Metropolitan', 'City.']"
            ]
          },
          "metadata": {},
          "execution_count": 20
        }
      ]
    },
    {
      "cell_type": "code",
      "source": [
        "##LAB 10-8 /문제_2\n",
        "greet = 'Hello,My name is DongMin,Good to see you again'\n",
        "greet.split(',')"
      ],
      "metadata": {
        "colab": {
          "base_uri": "https://localhost:8080/"
        },
        "id": "NWFozSrRE7PV",
        "outputId": "ca1904c4-cab9-42f2-b452-995bafd21eee"
      },
      "execution_count": 21,
      "outputs": [
        {
          "output_type": "execute_result",
          "data": {
            "text/plain": [
              "['Hello', 'My name is DongMin', 'Good to see you again']"
            ]
          },
          "metadata": {},
          "execution_count": 21
        }
      ]
    },
    {
      "cell_type": "code",
      "source": [
        "##LAB 10-8 /문제_3\n",
        "fruits = 'Apple|Banana|Melon|Orange'.split('|')\n",
        "print(\"fruits =\",fruits)"
      ],
      "metadata": {
        "colab": {
          "base_uri": "https://localhost:8080/"
        },
        "id": "JIgArtxlE7Ru",
        "outputId": "7a4ca1b2-a2ee-4aee-a35a-fcbce32e5ade"
      },
      "execution_count": 26,
      "outputs": [
        {
          "output_type": "stream",
          "name": "stdout",
          "text": [
            "fruits = ['Apple', 'Banana', 'Melon', 'Orange']\n"
          ]
        }
      ]
    },
    {
      "cell_type": "code",
      "source": [],
      "metadata": {
        "id": "-aBIlB56E7T0"
      },
      "execution_count": null,
      "outputs": []
    },
    {
      "cell_type": "code",
      "source": [],
      "metadata": {
        "id": "mwIgtgGrE7Vl"
      },
      "execution_count": null,
      "outputs": []
    }
  ]
}