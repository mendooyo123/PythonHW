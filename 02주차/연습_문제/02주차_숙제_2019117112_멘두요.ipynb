{
  "cells": [
    {
      "cell_type": "code",
      "source": [
        "a = int(input('정사각형의 밑변을 입력하시오: '))\n",
        "print('정사각형의 면적 : ', a*a )\n"
      ],
      "metadata": {
        "id": "2TzDNCenboHA",
        "outputId": "a706e45b-f77b-45f2-e2c0-4e721fd7bda5",
        "colab": {
          "base_uri": "https://localhost:8080/"
        }
      },
      "execution_count": null,
      "outputs": [
        {
          "output_type": "stream",
          "name": "stdout",
          "text": [
            "정사각형의 밑변을 입력하시오: 40\n",
            "정사각형의 면적 :  1600\n"
          ]
        }
      ]
    },
    {
      "cell_type": "code",
      "source": [
        "a = int(input('섭씨온도를 입력하세요 : '))\n",
        "print('섭씨',a,'도는 화씨', (a*9/5)+32, '도 입니다.' )"
      ],
      "metadata": {
        "id": "peF5BATvbpJI",
        "outputId": "9e839eaa-c61a-4c5d-f353-bb3aa1b6b402",
        "colab": {
          "base_uri": "https://localhost:8080/"
        }
      },
      "execution_count": null,
      "outputs": [
        {
          "output_type": "stream",
          "name": "stdout",
          "text": [
            "섭씨온도를 입력하세요 : 30\n",
            "섭씨 30 도는 화씨 86.0 도 입니다.\n"
          ]
        }
      ]
    },
    {
      "cell_type": "code",
      "source": [
        "2 << 0 , 2 << 1 , 2 << 2 , 2 << 3 , 2 << 4 , 2 << 5 , 2 << 6 , 2 << 7 , 2 << 8 , 2 << 9\n"
      ],
      "metadata": {
        "id": "3Pzhek-SiM-S",
        "outputId": "1b847ec7-4256-446f-dbd8-72817d52ff87",
        "colab": {
          "base_uri": "https://localhost:8080/"
        }
      },
      "execution_count": null,
      "outputs": [
        {
          "output_type": "execute_result",
          "data": {
            "text/plain": [
              "(2, 4, 8, 16, 32, 64, 128, 256, 512, 1024)"
            ]
          },
          "metadata": {},
          "execution_count": 36
        }
      ]
    },
    {
      "cell_type": "code",
      "source": [
        "a = int(input(' 정수를 입력하세요 : '))\n",
        "print(' 이 수가 짝수인가요? ' , a % 2 == 0 ) "
      ],
      "metadata": {
        "id": "gzJfoElDsUhg",
        "outputId": "5be631eb-e800-4e0f-adc1-a6babd1f4d38",
        "colab": {
          "base_uri": "https://localhost:8080/"
        }
      },
      "execution_count": null,
      "outputs": [
        {
          "output_type": "stream",
          "name": "stdout",
          "text": [
            " 정수를 입력하세요 : 21\n",
            " 이 수가 짝수인가요?  False\n"
          ]
        }
      ]
    },
    {
      "cell_type": "code",
      "source": [
        "a = int(input('세 자리 정수를 입력하세요 : '))\n",
        "print('백의 자리: ', a // 100)\n",
        "print('십의 자리: ', a % 100 // 10)\n",
        "print('일의 자리: ', a % 10)"
      ],
      "metadata": {
        "id": "wnBWKBcKsznd",
        "outputId": "d2c4cc55-5506-405b-cc90-a947e6b790fb",
        "colab": {
          "base_uri": "https://localhost:8080/"
        }
      },
      "execution_count": null,
      "outputs": [
        {
          "output_type": "stream",
          "name": "stdout",
          "text": [
            "세 자리 정수를 입력하세요 : 456\n",
            "백의 자리:  4\n",
            "십의 자리:  5\n",
            "일의 자리:  6\n"
          ]
        }
      ]
    }
  ],
  "metadata": {
    "colab": {
      "provenance": [],
      "toc_visible": true
    },
    "kernelspec": {
      "display_name": "Python 3",
      "name": "python3"
    }
  },
  "nbformat": 4,
  "nbformat_minor": 0
}