{
  "nbformat": 4,
  "nbformat_minor": 0,
  "metadata": {
    "colab": {
      "provenance": []
    },
    "kernelspec": {
      "name": "python3",
      "display_name": "Python 3"
    },
    "language_info": {
      "name": "python"
    }
  },
  "cells": [
    {
      "cell_type": "markdown",
      "source": [
        "##2주차\n"
      ],
      "metadata": {
        "id": "YB9iMM3k9Q-s"
      }
    },
    {
      "cell_type": "code",
      "execution_count": null,
      "metadata": {
        "colab": {
          "base_uri": "https://localhost:8080/"
        },
        "id": "AuTo9QwR9QUF",
        "outputId": "7e216c88-237c-457f-83f5-692ab8ea1001"
      },
      "outputs": [
        {
          "output_type": "stream",
          "name": "stdout",
          "text": [
            "나의 이름은 : 홍길동\n",
            "나의 나이는 : 27\n",
            "나의 키는 179 cm 입니다.\n",
            "10 + 20 = 30\n",
            "10 * 20 = 200\n"
          ]
        }
      ],
      "source": [
        "##LAB 2-1\n",
        "print('나의 이름은 :', '홍길동')\n",
        "print('나의 나이는 :', 27)\n",
        "print('나의 키는', 179, 'cm 입니다.')\n",
        "print('10 + 20 =', 10 + 20)\n",
        "print('10 * 20 =', 10 * 20)\n"
      ]
    },
    {
      "cell_type": "code",
      "source": [
        "##LAB 2-4\n",
        "name = '전우치'\n",
        "print('나의 이름은 :', name)\n",
        "\n",
        "age = 27\n",
        "print('나의 나이는 :', age)\n",
        "\n",
        "height = 179\n",
        "print('나의 키는', height, 'cm 입니다.')\n",
        "\n",
        "sum = 10 + 20\n",
        "print('10 + 20 =', sum)\n",
        "\n",
        "mult = 10 * 20\n",
        "print('10 * 20 =', mult)"
      ],
      "metadata": {
        "colab": {
          "base_uri": "https://localhost:8080/"
        },
        "id": "IaIyZUE9_CVs",
        "outputId": "8521509d-1e85-4053-97ee-d6b99bc98829"
      },
      "execution_count": null,
      "outputs": [
        {
          "output_type": "stream",
          "name": "stdout",
          "text": [
            "나의 이름은 : 전우치\n",
            "나의 나이는 : 27\n",
            "나의 키는 179 cm 입니다.\n",
            "10 + 20 = 30\n",
            "10 * 20 = 200\n"
          ]
        }
      ]
    },
    {
      "cell_type": "code",
      "source": [
        "##LAB 2-6\n",
        "width = 20\n",
        "height = 40\n",
        "width = 30\n",
        "area = width * height\n",
        "print('사각형의 면적', area)"
      ],
      "metadata": {
        "colab": {
          "base_uri": "https://localhost:8080/"
        },
        "id": "Hp111dGV_7od",
        "outputId": "639afd08-d853-4256-9a14-f46d5064f43f"
      },
      "execution_count": null,
      "outputs": [
        {
          "output_type": "stream",
          "name": "stdout",
          "text": [
            "사각형의 면적 1200\n"
          ]
        }
      ]
    },
    {
      "cell_type": "code",
      "source": [
        "##LAB 2-7\n",
        "a = 123 * 456\n",
        "b = 1357 + 2468\n",
        "c = 5 ** 4\n",
        "d = 10 / 4\n",
        "e = 10 // 5\n",
        "f = 10 % 5\n",
        "print(\"123 * 456 = {} \\n1357 + 2468 = {} \\n5 ** 4 = {} \\n10 / 4 = {} \\n10 // 5 = {} \\n10 % 5 = {} \\n \".format(a,b,c,d,e,f))\n",
        "\n",
        "\n",
        "##LAB 2-7 /문제_2\n",
        "a = 5 % 2\n",
        "print(\"5를 2로 나눈 나머지는: \", a)\n",
        "\n",
        "\n",
        "##LAB 2-7 /문제_3\n",
        "a = 2 ** (1/2)\n",
        "b = 3 ** (1/2)\n",
        "print(\"2의 제곱근: {} \\n3의 제곱근: {} \\n \".format(a, b))\n"
      ],
      "metadata": {
        "colab": {
          "base_uri": "https://localhost:8080/"
        },
        "id": "U6qhtRJw_7vA",
        "outputId": "8af1d5d8-2eae-4a7a-ee94-c2e6bd19d74c"
      },
      "execution_count": null,
      "outputs": [
        {
          "output_type": "stream",
          "name": "stdout",
          "text": [
            "123 * 456 = 56088 \n",
            "1357 + 2468 = 3825 \n",
            "5 ** 4 = 625 \n",
            "10 / 4 = 2.5 \n",
            "10 // 5 = 2 \n",
            "10 % 5 = 0 \n",
            " \n",
            "5를 2로 나눈 나머지는:  1\n",
            "2의 제곱근: 1.4142135623730951 \n",
            "3의 제곱근: 1.7320508075688772 \n",
            " \n"
          ]
        }
      ]
    },
    {
      "cell_type": "code",
      "source": [
        "##LAB 2-8\n",
        "a = 8 + 2j\n",
        "b = 4 + 3j\n",
        "print(\"a + b = {} \\na - b = {} \\na * b = {} \\na / b = {} \\n\".format(a+b,a-b,a*b,a/b))"
      ],
      "metadata": {
        "colab": {
          "base_uri": "https://localhost:8080/"
        },
        "id": "xS2kx5l-DAbR",
        "outputId": "1ea64b66-343b-4d92-f9f0-c579b7b9fa41"
      },
      "execution_count": null,
      "outputs": [
        {
          "output_type": "stream",
          "name": "stdout",
          "text": [
            "a + b = (12+5j) \n",
            "a - b = (4-1j) \n",
            "a * b = (26+32j) \n",
            "a / b = (1.52-0.64j) \n",
            "\n"
          ]
        }
      ]
    },
    {
      "cell_type": "code",
      "source": [
        "##LAB 2-10\n",
        "name = input('이름을 입력하세요 : ')\n",
        "print(name, '님이 입장하셨습니다.')\n",
        "\n"
      ],
      "metadata": {
        "colab": {
          "base_uri": "https://localhost:8080/"
        },
        "id": "U0vumE47Kthv",
        "outputId": "110e8935-05cc-44d1-e42b-0d24b2848423"
      },
      "execution_count": null,
      "outputs": [
        {
          "output_type": "stream",
          "name": "stdout",
          "text": [
            "이름을 입력하세요 : 김유신\n",
            "김유신 님이 입장하셨습니다.\n"
          ]
        }
      ]
    },
    {
      "cell_type": "code",
      "source": [
        "##LAB 2-10 /문제_2\n",
        "m = int(input('숫자 m을 입력하세요 : '))\n",
        "n = int(input('숫자 n을 입력하세요 : '))\n",
        "print('m + n = {} \\nm - n = {} \\n'.format(m+n,m-n))"
      ],
      "metadata": {
        "colab": {
          "base_uri": "https://localhost:8080/"
        },
        "id": "Ez3HkgHvKtnE",
        "outputId": "d4498c7b-36da-46ef-f9c8-2e3b03c55e6d"
      },
      "execution_count": null,
      "outputs": [
        {
          "output_type": "stream",
          "name": "stdout",
          "text": [
            "숫자 m을 입력하세요 : 30\n",
            "숫자 n을 입력하세요 : 50\n",
            "m + n = 80 \n",
            "m - n = -20 \n",
            "\n"
          ]
        }
      ]
    }
  ]
}