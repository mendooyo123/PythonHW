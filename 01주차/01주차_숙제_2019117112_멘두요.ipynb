{
  "nbformat": 4,
  "nbformat_minor": 0,
  "metadata": {
    "colab": {
      "provenance": []
    },
    "kernelspec": {
      "name": "python3",
      "display_name": "Python 3"
    },
    "language_info": {
      "name": "python"
    }
  },
  "cells": [
    {
      "cell_type": "markdown",
      "source": [
        "01주차: 컴퓨팅사고와 SW coding\n",
        "2019117112_멘두요"
      ],
      "metadata": {
        "id": "SOH8rImOeweM"
      }
    },
    {
      "cell_type": "code",
      "execution_count": null,
      "metadata": {
        "colab": {
          "base_uri": "https://localhost:8080/"
        },
        "id": "9CQbjAptXJkN",
        "outputId": "33568ace-69ec-4eaf-eaf2-d8d3baf2dea5"
      },
      "outputs": [
        {
          "output_type": "stream",
          "name": "stdout",
          "text": [
            "300\n",
            "100 + 200\n",
            "100 200\n",
            "100 200\n",
            "Hello Phyton !\n",
            "HelloPhyton!\n",
            "HelloPyhton!\n",
            "**********\n"
          ]
        }
      ],
      "source": [
        "print(100 + 200)\n",
        "print('100 + 200')\n",
        "print(100, 200)\n",
        "print('100', '200')\n",
        "print('Hello', 'Python', '!')\n",
        "print('Hello' + 'Python' + '!')\n",
        "print('Hello''Python''!')\n",
        "print('*' * 10)"
      ]
    },
    {
      "cell_type": "code",
      "source": [
        "print('Hello python!') #NameError: name 'Print' is not defined\n",
        "print(\"Hello python!\") #SyntaxError: EOL while scanning string literal\n",
        "print('Hello Python!') #SyntaxError: invalid syntax\n",
        "print('100' + '200') #TypeError: unsupported operand type(s) for +: 'int' and 'str'"
      ],
      "metadata": {
        "colab": {
          "base_uri": "https://localhost:8080/"
        },
        "id": "euUE4A-Ff_nJ",
        "outputId": "8fc49efd-c657-47e7-909a-a0a6fca83be1"
      },
      "execution_count": null,
      "outputs": [
        {
          "output_type": "stream",
          "name": "stdout",
          "text": [
            "Hello python!\n",
            "Hello python!\n",
            "Hello Python!\n",
            "100200\n"
          ]
        }
      ]
    },
    {
      "cell_type": "code",
      "source": [
        "print('50 + 30 =', 50 + 30)\n",
        "print('50 - 30 =', 50 - 30)\n",
        "print('50 * 30 =', 50 * 30)\n",
        "print('50 / 30 =', 50 / 30)"
      ],
      "metadata": {
        "colab": {
          "base_uri": "https://localhost:8080/"
        },
        "id": "TrSZCMBdiY9z",
        "outputId": "5c3a3ad8-77e4-4e74-9779-a22885c90246"
      },
      "execution_count": null,
      "outputs": [
        {
          "output_type": "stream",
          "name": "stdout",
          "text": [
            "50 + 30 = 80\n",
            "50 - 30 = 20\n",
            "50 * 30 = 1500\n",
            "50 / 30 = 1.6666666666666667\n"
          ]
        }
      ]
    },
    {
      "cell_type": "code",
      "source": [
        "side = int(input()) \n",
        "c = '*' \n",
        "for i in range(side):\n",
        "    print((c*i).rjust(side-1)+c+(c*i).ljust(side-1))"
      ],
      "metadata": {
        "colab": {
          "base_uri": "https://localhost:8080/"
        },
        "id": "U5Qb9Wctj9Ha",
        "outputId": "99be51e1-35d9-40b7-dd35-75795fbc5830"
      },
      "execution_count": null,
      "outputs": [
        {
          "output_type": "stream",
          "name": "stdout",
          "text": [
            "4\n",
            "   *   \n",
            "  ***  \n",
            " ***** \n",
            "*******\n"
          ]
        }
      ]
    },
    {
      "cell_type": "code",
      "source": [
        "def factorial(n):\n",
        "    if n == 1:\n",
        "        return 1\n",
        "    return n * factorial(n - 1)\n",
        "print(factorial(3))\n",
        "print(factorial(5))\n",
        "print(factorial(12))\n",
        "print(factorial(20))\n"
      ],
      "metadata": {
        "colab": {
          "base_uri": "https://localhost:8080/"
        },
        "id": "gBpTsa1Uoipz",
        "outputId": "1734627c-9e2b-4b28-823f-9581c9a5dbb1"
      },
      "execution_count": null,
      "outputs": [
        {
          "output_type": "stream",
          "name": "stdout",
          "text": [
            "6\n",
            "120\n",
            "479001600\n",
            "2432902008176640000\n"
          ]
        }
      ]
    }
  ]
}