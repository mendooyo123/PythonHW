{
  "nbformat": 4,
  "nbformat_minor": 0,
  "metadata": {
    "colab": {
      "provenance": []
    },
    "kernelspec": {
      "name": "python3",
      "display_name": "Python 3"
    },
    "language_info": {
      "name": "python"
    }
  },
  "cells": [
    {
      "cell_type": "code",
      "execution_count": 1,
      "metadata": {
        "id": "W6CiMYAgFcRw",
        "colab": {
          "base_uri": "https://localhost:8080/",
          "height": 201
        },
        "outputId": "bad160df-8a9b-408d-a084-788d740ff2e1"
      },
      "outputs": [
        {
          "output_type": "error",
          "ename": "IndexError",
          "evalue": "ignored",
          "traceback": [
            "\u001b[0;31m---------------------------------------------------------------------------\u001b[0m",
            "\u001b[0;31mIndexError\u001b[0m                                Traceback (most recent call last)",
            "\u001b[0;32m<ipython-input-1-4d780a628ca9>\u001b[0m in \u001b[0;36m<module>\u001b[0;34m\u001b[0m\n\u001b[1;32m      1\u001b[0m \u001b[0;31m##LAB 8-1 /문제_1\u001b[0m\u001b[0;34m\u001b[0m\u001b[0;34m\u001b[0m\u001b[0;34m\u001b[0m\u001b[0m\n\u001b[1;32m      2\u001b[0m \u001b[0ma\u001b[0m \u001b[0;34m=\u001b[0m \u001b[0;34m[\u001b[0m\u001b[0;36m10\u001b[0m\u001b[0;34m,\u001b[0m \u001b[0;36m20\u001b[0m\u001b[0;34m,\u001b[0m \u001b[0;36m30\u001b[0m\u001b[0;34m]\u001b[0m\u001b[0;34m\u001b[0m\u001b[0;34m\u001b[0m\u001b[0m\n\u001b[0;32m----> 3\u001b[0;31m \u001b[0ma\u001b[0m\u001b[0;34m[\u001b[0m\u001b[0;36m3\u001b[0m\u001b[0;34m]\u001b[0m\u001b[0;34m\u001b[0m\u001b[0;34m\u001b[0m\u001b[0m\n\u001b[0m",
            "\u001b[0;31mIndexError\u001b[0m: list index out of range"
          ]
        }
      ],
      "source": [
        "##LAB 8-1 /문제_1\n",
        "a = [10, 20, 30]\n",
        "a[3]"
      ]
    },
    {
      "cell_type": "code",
      "source": [
        "##LAB 8-1 /문제_1_2\n",
        "n = int('20%')"
      ],
      "metadata": {
        "colab": {
          "base_uri": "https://localhost:8080/",
          "height": 166
        },
        "id": "5SsexHryuB6y",
        "outputId": "34521e44-17b7-4a56-8927-1e81075c253f"
      },
      "execution_count": 2,
      "outputs": [
        {
          "output_type": "error",
          "ename": "ValueError",
          "evalue": "ignored",
          "traceback": [
            "\u001b[0;31m---------------------------------------------------------------------------\u001b[0m",
            "\u001b[0;31mValueError\u001b[0m                                Traceback (most recent call last)",
            "\u001b[0;32m<ipython-input-2-9ff1c6791fc8>\u001b[0m in \u001b[0;36m<module>\u001b[0;34m\u001b[0m\n\u001b[0;32m----> 1\u001b[0;31m \u001b[0mn\u001b[0m \u001b[0;34m=\u001b[0m \u001b[0mint\u001b[0m\u001b[0;34m(\u001b[0m\u001b[0;34m'20%'\u001b[0m\u001b[0;34m)\u001b[0m\u001b[0;34m\u001b[0m\u001b[0;34m\u001b[0m\u001b[0m\n\u001b[0m",
            "\u001b[0;31mValueError\u001b[0m: invalid literal for int() with base 10: '20%'"
          ]
        }
      ]
    },
    {
      "cell_type": "code",
      "source": [
        "##LAB 8-1 /문제_1_3\n",
        "a = 100 + '200'"
      ],
      "metadata": {
        "colab": {
          "base_uri": "https://localhost:8080/",
          "height": 184
        },
        "id": "y9CWBI0yuV5R",
        "outputId": "f1bd1343-781b-46d7-d0f9-a74bd4f4c22f"
      },
      "execution_count": 4,
      "outputs": [
        {
          "output_type": "error",
          "ename": "TypeError",
          "evalue": "ignored",
          "traceback": [
            "\u001b[0;31m---------------------------------------------------------------------------\u001b[0m",
            "\u001b[0;31mTypeError\u001b[0m                                 Traceback (most recent call last)",
            "\u001b[0;32m<ipython-input-4-7665974ee37c>\u001b[0m in \u001b[0;36m<module>\u001b[0;34m\u001b[0m\n\u001b[1;32m      1\u001b[0m \u001b[0;31m##LAB 8-1 /문제_1_3\u001b[0m\u001b[0;34m\u001b[0m\u001b[0;34m\u001b[0m\u001b[0;34m\u001b[0m\u001b[0m\n\u001b[0;32m----> 2\u001b[0;31m \u001b[0ma\u001b[0m \u001b[0;34m=\u001b[0m \u001b[0;36m100\u001b[0m \u001b[0;34m+\u001b[0m \u001b[0;34m'200'\u001b[0m\u001b[0;34m\u001b[0m\u001b[0;34m\u001b[0m\u001b[0m\n\u001b[0m",
            "\u001b[0;31mTypeError\u001b[0m: unsupported operand type(s) for +: 'int' and 'str'"
          ]
        }
      ]
    },
    {
      "cell_type": "code",
      "source": [
        "##LAB 8-1 /문제_3\n",
        "import RANDOM"
      ],
      "metadata": {
        "colab": {
          "base_uri": "https://localhost:8080/",
          "height": 305
        },
        "id": "ENg7Qw9muCAn",
        "outputId": "f495a8ef-8ba4-4fca-dd3b-72891dd407f8"
      },
      "execution_count": 3,
      "outputs": [
        {
          "output_type": "error",
          "ename": "ModuleNotFoundError",
          "evalue": "ignored",
          "traceback": [
            "\u001b[0;31m---------------------------------------------------------------------------\u001b[0m",
            "\u001b[0;31mModuleNotFoundError\u001b[0m                       Traceback (most recent call last)",
            "\u001b[0;32m<ipython-input-3-f3f963bb53a2>\u001b[0m in \u001b[0;36m<module>\u001b[0;34m\u001b[0m\n\u001b[0;32m----> 1\u001b[0;31m \u001b[0;32mimport\u001b[0m \u001b[0mRANDOM\u001b[0m\u001b[0;34m\u001b[0m\u001b[0;34m\u001b[0m\u001b[0m\n\u001b[0m",
            "\u001b[0;31mModuleNotFoundError\u001b[0m: No module named 'RANDOM'",
            "",
            "\u001b[0;31m---------------------------------------------------------------------------\u001b[0;32m\nNOTE: If your import is failing due to a missing package, you can\nmanually install dependencies using either !pip or !apt.\n\nTo view examples of installing some common dependencies, click the\n\"Open Examples\" button below.\n\u001b[0;31m---------------------------------------------------------------------------\u001b[0m\n"
          ],
          "errorDetails": {
            "actions": [
              {
                "action": "open_url",
                "actionText": "Open Examples",
                "url": "/notebooks/snippets/importing_libraries.ipynb"
              }
            ]
          }
        }
      ]
    },
    {
      "cell_type": "code",
      "source": [
        "##LAB 8-1-2 /문제_1\n",
        "try :\n",
        "  a = [10, 20, 30]\n",
        "  a[3]\n",
        "except Exception as e:\n",
        "  print(e)"
      ],
      "metadata": {
        "colab": {
          "base_uri": "https://localhost:8080/"
        },
        "id": "Qy3HF5r1uCCz",
        "outputId": "b4bb0d15-f031-4a62-def9-e00c2b66b98f"
      },
      "execution_count": 7,
      "outputs": [
        {
          "output_type": "stream",
          "name": "stdout",
          "text": [
            "list index out of range\n"
          ]
        }
      ]
    },
    {
      "cell_type": "code",
      "source": [
        "##LAB 8-1-2 /문제_2\n",
        "try :\n",
        "  n = int('20%')\n",
        "except Exception as e:\n",
        "  print(e)"
      ],
      "metadata": {
        "colab": {
          "base_uri": "https://localhost:8080/"
        },
        "id": "FSMHVkGwuLV7",
        "outputId": "c19626a2-b954-48b5-8062-366926c8c889"
      },
      "execution_count": 6,
      "outputs": [
        {
          "output_type": "stream",
          "name": "stdout",
          "text": [
            "invalid literal for int() with base 10: '20%'\n"
          ]
        }
      ]
    },
    {
      "cell_type": "code",
      "source": [
        "##LAB 8-1-2 /문제_3\n",
        "try :\n",
        "  import RANDOM\n",
        "except Exception as e:\n",
        "  print(e)"
      ],
      "metadata": {
        "colab": {
          "base_uri": "https://localhost:8080/"
        },
        "id": "ITtHSqJquLYW",
        "outputId": "6f96d8f2-79bf-463b-f207-67da03e85081"
      },
      "execution_count": 5,
      "outputs": [
        {
          "output_type": "stream",
          "name": "stdout",
          "text": [
            "No module named 'RANDOM'\n"
          ]
        }
      ]
    },
    {
      "cell_type": "code",
      "source": [
        "##LAB 8-2 /문제_1\n",
        "try:\n",
        "  Test = 10 * (30 / 0)\n",
        "except ZeroDivisionError:\n",
        "  print(\"10 * (30 / 0)\")"
      ],
      "metadata": {
        "colab": {
          "base_uri": "https://localhost:8080/"
        },
        "id": "WshEb38PuLap",
        "outputId": "75d38960-b198-4e19-d9e6-d87253917da7"
      },
      "execution_count": 10,
      "outputs": [
        {
          "output_type": "stream",
          "name": "stdout",
          "text": [
            "10 * (30 / 0)\n"
          ]
        }
      ]
    },
    {
      "cell_type": "code",
      "source": [
        "##LAB 8-2 /문제_2\n",
        "try:\n",
        "  x = int(input(\"정수 x를 입력하세요: \"))\n",
        "except:\n",
        "  print('정수를 입력하세요: ')\n"
      ],
      "metadata": {
        "colab": {
          "base_uri": "https://localhost:8080/"
        },
        "id": "UvIh4SkMuLc7",
        "outputId": "2cc24265-d026-4ef4-9a20-a65a303b3248"
      },
      "execution_count": 8,
      "outputs": [
        {
          "output_type": "stream",
          "name": "stdout",
          "text": [
            "정수 x를 입력하세요: ㄴ\n",
            "정수를 입력하세요: \n"
          ]
        }
      ]
    },
    {
      "cell_type": "code",
      "source": [
        "##LAB 8-2 /문제_3\n",
        "import sys\n",
        "try:\n",
        "  f = open('myfile.txt')\n",
        "  s = f.readline()\n",
        "except:\n",
        "  print(\"myfile.txt가 없습니다.\")"
      ],
      "metadata": {
        "colab": {
          "base_uri": "https://localhost:8080/"
        },
        "id": "eFJKVolmuLfS",
        "outputId": "40ba70dd-cb34-4271-f7cb-8b0ea81d4e82"
      },
      "execution_count": 9,
      "outputs": [
        {
          "output_type": "stream",
          "name": "stdout",
          "text": [
            "myfile.txt가 없습니다.\n"
          ]
        }
      ]
    },
    {
      "cell_type": "code",
      "source": [
        "##LAB 8-3 /문제_1\n",
        "a = [1, 2, 3, 4, 5]\n",
        "try:\n",
        "  b = int(input(\"a의 요소를 하나 선택하시오 : \"))\n",
        "  print(\"{} 은(는) {} 번째 원소입니다.\".format(b, a.index(b)+1))\n",
        "except:\n",
        "  print(\"a의 원소에 {}(이)가 없습니다.\".format(b))"
      ],
      "metadata": {
        "colab": {
          "base_uri": "https://localhost:8080/"
        },
        "id": "7RJltBk3uLhw",
        "outputId": "c817985a-25a4-4ce5-b98f-c668e8335847"
      },
      "execution_count": 11,
      "outputs": [
        {
          "output_type": "stream",
          "name": "stdout",
          "text": [
            "a의 원소를 하나 선택하시오 : 1\n",
            "1 은(는) 1 번째 원소입니다.\n"
          ]
        }
      ]
    },
    {
      "cell_type": "code",
      "source": [
        "##LAB 8-3 /문제_2\n",
        "a = [1, 2, 3, 4, 5]\n",
        "try:\n",
        "  b = int(input(\"a의 요소를 하나 선택하시오 : \"))\n",
        "  print(\"{} 은(는) {} 번째 원소입니다.\".format(b, a.index(b)+1))\n",
        "\n",
        "except:\n",
        "  print(\"오류 : 입력 값이 정수나 실수가 아님\")"
      ],
      "metadata": {
        "colab": {
          "base_uri": "https://localhost:8080/"
        },
        "id": "p6MWhwTvxWDJ",
        "outputId": "6e528e5f-933c-4188-eef9-da146e103cd2"
      },
      "execution_count": 13,
      "outputs": [
        {
          "output_type": "stream",
          "name": "stdout",
          "text": [
            "a의 요소를 하나 선택하시오 : 삼\n",
            "오류 : 입력 값이 정수나 실수가 아님\n"
          ]
        }
      ]
    },
    {
      "cell_type": "code",
      "source": [
        "##LAB 8-4 /문제_1\n",
        "f = open('numbers.txt','w')\n",
        "f.write('100\\n')\n",
        "f.write('200\\n')\n",
        "f.write('300\\n')\n",
        "f.write('400')\n",
        "f.close()"
      ],
      "metadata": {
        "id": "llqy1NWnxWI2"
      },
      "execution_count": 19,
      "outputs": []
    },
    {
      "cell_type": "code",
      "source": [
        "##LAB 8-4 /문제_2\n",
        "f = open('we_will_rock.txt', 'w')\n",
        "f.write(\"Buddy, you're a boy, make a big noise\\n\")\n",
        "f.write(\"Playing in the street, gonna be a big man someday\\n\")\n",
        "f.write(\"You got mud on your face, you big disgrace\\n\")\n",
        "f.write(\"Kicking your can all over the place, singin''\\n\")\n",
        "f.write(\"We will, we will rock you\\nWe will, we will rock you\\n\")\n",
        "f.close()"
      ],
      "metadata": {
        "id": "ad_mDqznxWNO"
      },
      "execution_count": 18,
      "outputs": []
    },
    {
      "cell_type": "code",
      "source": [
        "##LAB 8-5 /문제_1\n",
        "f = open('numbers.txt','r')\n",
        "\n",
        "a = f.readline().rstrip()\n",
        "print(a)\n",
        "a = f.readline().rstrip()\n",
        "print(a)\n",
        "a = f.readline().rstrip()\n",
        "print(a)\n",
        "a = f.readline().rstrip()\n",
        "print(a)"
      ],
      "metadata": {
        "colab": {
          "base_uri": "https://localhost:8080/"
        },
        "id": "HkehFG_yxWPe",
        "outputId": "e65e5160-85bb-48af-f033-134c32a9f9ff"
      },
      "execution_count": 20,
      "outputs": [
        {
          "output_type": "stream",
          "name": "stdout",
          "text": [
            "100\n",
            "200\n",
            "300\n",
            "400\n"
          ]
        }
      ]
    },
    {
      "cell_type": "code",
      "source": [
        "##LAB 8-5 /문제_2\n",
        "f = open('we_will_rock.txt','r')\n",
        "\n",
        "a = f.readline().rstrip()\n",
        "print(a)\n",
        "a = f.readline().rstrip()\n",
        "print(a)\n",
        "a = f.readline().rstrip()\n",
        "print(a)\n",
        "a = f.readline().rstrip()\n",
        "print(a)\n",
        "a = f.readline().rstrip()\n",
        "print(a)\n",
        "a = f.readline().rstrip()\n",
        "print(a)"
      ],
      "metadata": {
        "colab": {
          "base_uri": "https://localhost:8080/"
        },
        "id": "u907cVdYxWT5",
        "outputId": "057a64bd-c55b-4871-cb59-1189400a5cee"
      },
      "execution_count": 23,
      "outputs": [
        {
          "output_type": "stream",
          "name": "stdout",
          "text": [
            "Buddy, you're a boy, make a big noise\n",
            "Playing in the street, gonna be a big man someday\n",
            "You got mud on your face, you big disgrace\n",
            "Kicking your can all over the place, singin''\n",
            "We will, we will rock you\n",
            "We will, we will rock you\n"
          ]
        }
      ]
    },
    {
      "cell_type": "code",
      "source": [
        "##LAB 8-5 /문제_1\n",
        "file_name = input('입력할 파일의 이름 : ')\n",
        "f = open(file_name, 'r')\n",
        "a = 1\n",
        "s = f.readline()\n",
        "while s :      \n",
        "    s = s.upper()\n",
        "    print('{}'.format(s), end='')\n",
        "    s = f.readline()\n",
        "\n",
        "f.close()"
      ],
      "metadata": {
        "colab": {
          "base_uri": "https://localhost:8080/"
        },
        "id": "jxrMmPWy0ZMJ",
        "outputId": "0cc4fb28-2405-424a-88f2-725e5321c754"
      },
      "execution_count": 28,
      "outputs": [
        {
          "output_type": "stream",
          "name": "stdout",
          "text": [
            "입력할 파일의 이름 : we_will_rock.txt\n",
            "BUDDY, YOU'RE A BOY, MAKE A BIG NOISE\n",
            "PLAYING IN THE STREET, GONNA BE A BIG MAN SOMEDAY\n",
            "YOU GOT MUD ON YOUR FACE, YOU BIG DISGRACE\n",
            "KICKING YOUR CAN ALL OVER THE PLACE, SINGIN''\n",
            "WE WILL, WE WILL ROCK YOU\n",
            "WE WILL, WE WILL ROCK YOU\n"
          ]
        }
      ]
    },
    {
      "cell_type": "code",
      "source": [
        "file_name = input('입력할 파일의 이름 : ')\n",
        "for i in reversed(list(open(file_name))):\n",
        "    print(i.rstrip())"
      ],
      "metadata": {
        "colab": {
          "base_uri": "https://localhost:8080/"
        },
        "id": "qDFL1QGX1mvr",
        "outputId": "6edd5ee1-48ef-4b38-eb55-a49a78cc3b7b"
      },
      "execution_count": 29,
      "outputs": [
        {
          "output_type": "stream",
          "name": "stdout",
          "text": [
            "입력할 파일의 이름 : we_will_rock.txt\n",
            "We will, we will rock you\n",
            "We will, we will rock you\n",
            "Kicking your can all over the place, singin''\n",
            "You got mud on your face, you big disgrace\n",
            "Playing in the street, gonna be a big man someday\n",
            "Buddy, you're a boy, make a big noise\n"
          ]
        }
      ]
    },
    {
      "cell_type": "code",
      "source": [],
      "metadata": {
        "id": "Na8CIqkr1m2W"
      },
      "execution_count": null,
      "outputs": []
    }
  ]
}