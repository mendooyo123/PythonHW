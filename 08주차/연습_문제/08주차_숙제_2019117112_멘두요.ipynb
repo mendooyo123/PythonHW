{
  "nbformat": 4,
  "nbformat_minor": 0,
  "metadata": {
    "colab": {
      "provenance": []
    },
    "kernelspec": {
      "name": "python3",
      "display_name": "Python 3"
    },
    "language_info": {
      "name": "python"
    }
  },
  "cells": [
    {
      "cell_type": "code",
      "execution_count": null,
      "metadata": {
        "id": "fhZqL0_Mt_c4"
      },
      "outputs": [],
      "source": [
        "#문제_1\n",
        "f = open('greet.txt', 'w')\n",
        "f.write('Hi, everyone.\\n')\n",
        "f.write('Welcome to Python.')\n",
        "f.close() "
      ]
    },
    {
      "cell_type": "code",
      "source": [
        "#문제_2-1미완성\n",
        "\n",
        "f = open('number1to10.txt', 'w')\n",
        "\n",
        "for i in range(1, 11):\n",
        "  f.write(str(i)+'\\n')\n",
        "f.close() "
      ],
      "metadata": {
        "id": "tBeuWxGLw0uo"
      },
      "execution_count": null,
      "outputs": []
    },
    {
      "cell_type": "code",
      "source": [
        "#문제_3\n",
        "f = open('my_hello.txt', 'w')\n",
        "f.write('2019117112 - 멘두요\\n')\n",
        "f.close() "
      ],
      "metadata": {
        "id": "pJAryQZ-xOPO"
      },
      "execution_count": null,
      "outputs": []
    },
    {
      "cell_type": "code",
      "source": [
        "!ls -al"
      ],
      "metadata": {
        "id": "QRxHrrdexVDe"
      },
      "execution_count": null,
      "outputs": []
    },
    {
      "cell_type": "code",
      "source": [
        "!cat my_hello.txt"
      ],
      "metadata": {
        "id": "Ocg6S9NmxViu"
      },
      "execution_count": null,
      "outputs": []
    },
    {
      "cell_type": "code",
      "source": [
        "!chmod 555 my_hello.txt"
      ],
      "metadata": {
        "id": "lon2TYFXxVri"
      },
      "execution_count": null,
      "outputs": []
    },
    {
      "cell_type": "code",
      "source": [
        "#문제_4-1\n",
        "f = open('hello.txt', 'w')\n",
        "f.write('Hello.\\n')\n",
        "f.write('Hi, there.')\n",
        "f.write('Welcome to Python!')\n",
        "f.close() "
      ],
      "metadata": {
        "id": "FpxxwGmTxV1i"
      },
      "execution_count": null,
      "outputs": []
    },
    {
      "cell_type": "code",
      "source": [
        "#문제_4-2\n",
        "f = open('hello.txt', 'r')\n",
        "s = f.read()\n",
        "print(s)\n",
        "f.close() "
      ],
      "metadata": {
        "id": "OVIfIrzXxjuZ"
      },
      "execution_count": null,
      "outputs": []
    },
    {
      "cell_type": "code",
      "source": [
        "#문제_5\n",
        "import random\n",
        "\n",
        "f = open('randint30.txt', 'w')\n",
        "for i in range(0, 30):\n",
        "  n = random.randint(1, 10)\n",
        "  f.write(str(n)+' ')\n",
        "f.close() "
      ],
      "metadata": {
        "id": "tEDj22lUxpJU"
      },
      "execution_count": null,
      "outputs": []
    },
    {
      "cell_type": "code",
      "source": [],
      "metadata": {
        "id": "Xdz1eTzOx0C9"
      },
      "execution_count": null,
      "outputs": []
    }
  ]
}