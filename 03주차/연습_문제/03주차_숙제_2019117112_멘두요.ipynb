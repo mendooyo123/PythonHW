{
  "nbformat": 4,
  "nbformat_minor": 0,
  "metadata": {
    "colab": {
      "provenance": []
    },
    "kernelspec": {
      "name": "python3",
      "display_name": "Python 3"
    },
    "language_info": {
      "name": "python"
    }
  },
  "cells": [
    {
      "cell_type": "code",
      "execution_count": null,
      "metadata": {
        "colab": {
          "base_uri": "https://localhost:8080/"
        },
        "id": "SFRkoVJd-V6l",
        "outputId": "0ae2c743-6263-439f-b28c-ae606e96c9fc"
      },
      "outputs": [
        {
          "output_type": "stream",
          "name": "stdout",
          "text": [
            "세 정수를 입력하시오 : 9 88 7\n",
            "7 9 88\n"
          ]
        }
      ],
      "source": [
        "#문제_1\n",
        "a, b, c = input(\"세 정수를 입력하시오 : \").split()\n",
        "a = int(a)\n",
        "b = int(b)\n",
        "c = int(c)\n",
        "if a > b:\n",
        "    a, b = b, a\n",
        "if b > c:\n",
        "    b, c = c, b\n",
        "if a > b:\n",
        "    a, b = b, a   \n",
        "\n",
        "print(a, b, c)\n"
      ]
    },
    {
      "cell_type": "code",
      "source": [
        "#문제_2\n",
        "x, y = input(\"점의 좌표 x, y를 입력하시오 : \").split()\n",
        "x = int(x)\n",
        "y = int(y)\n",
        "if x > 0 and y > 0:\n",
        "  print(\"1사분면에 있음\")\n",
        "elif x < 0 and y > 0:\n",
        "  print(\"2사분면에 있음\")\n",
        "elif x < 0 and y < 0:\n",
        "  print(\"3사분면에 있음\")\n",
        "else:\n",
        "  print(\"4사분면에 있음\")\n"
      ],
      "metadata": {
        "colab": {
          "base_uri": "https://localhost:8080/"
        },
        "id": "QHC5pPlHJOGY",
        "outputId": "2f444bde-627a-4760-b936-05770307f3e6"
      },
      "execution_count": null,
      "outputs": [
        {
          "output_type": "stream",
          "name": "stdout",
          "text": [
            "점의 좌표 x, y를 입력하시오 : 2 -5\n",
            "4사분면에 있음\n"
          ]
        }
      ]
    },
    {
      "cell_type": "code",
      "source": [
        "#문제_3\n",
        "game_score = int(input('게임점수를 입룍하시오 : '))\n",
        "if game_score > 1000:\n",
        "  print(\"고수입니다.\")\n",
        "else:\n",
        "  print(\"입문자입니다. \")"
      ],
      "metadata": {
        "colab": {
          "base_uri": "https://localhost:8080/"
        },
        "id": "-dyBYYtkLBDg",
        "outputId": "4ba815dc-50ff-4868-8ffe-d6749f5bfa6d"
      },
      "execution_count": null,
      "outputs": [
        {
          "output_type": "stream",
          "name": "stdout",
          "text": [
            "게임점수를 입룍하시오 : 4222\n",
            "고수입니다.\n"
          ]
        }
      ]
    },
    {
      "cell_type": "code",
      "source": [
        "#문제_4_1\n",
        "for i in range(3):\n",
        "    print('Python ')\n",
        "    print('is ')\n",
        "    print('FUN! ')"
      ],
      "metadata": {
        "colab": {
          "base_uri": "https://localhost:8080/"
        },
        "id": "fpPecwB7Y8cZ",
        "outputId": "50b54bec-2c60-4cf2-84e4-09430c176b11"
      },
      "execution_count": null,
      "outputs": [
        {
          "output_type": "stream",
          "name": "stdout",
          "text": [
            "Python \n",
            "is \n",
            "FUN! \n",
            "Python \n",
            "is \n",
            "FUN! \n",
            "Python \n",
            "is \n",
            "FUN! \n"
          ]
        }
      ]
    },
    {
      "cell_type": "code",
      "source": [
        "#문제_4_2\n",
        "for i in range(3):\n",
        "    print('Python ')\n",
        "    print('is ')\n",
        "print('FUN! ')"
      ],
      "metadata": {
        "colab": {
          "base_uri": "https://localhost:8080/"
        },
        "id": "qH4QgS3KZI9x",
        "outputId": "d7403299-063b-414a-be3e-43a18438abce"
      },
      "execution_count": null,
      "outputs": [
        {
          "output_type": "stream",
          "name": "stdout",
          "text": [
            "Python \n",
            "is \n",
            "Python \n",
            "is \n",
            "Python \n",
            "is \n",
            "FUN! \n"
          ]
        }
      ]
    },
    {
      "cell_type": "code",
      "source": [
        "#문제_5\n",
        "n = int(input('숫자를 입력하세요 : '))\n",
        "x = 0;\n",
        "\n",
        "for i in range(2,n):\n",
        "  if n%i == 0:\n",
        "    x = 1\n",
        "\n",
        "if x == 0:\n",
        "  print(n, \"는 소수입니다.\")\n",
        "else:\n",
        "  print(n, \"는 소수가 아닙니다.\")"
      ],
      "metadata": {
        "colab": {
          "base_uri": "https://localhost:8080/"
        },
        "id": "OYZI7rwaZOQ2",
        "outputId": "d3ac0721-5446-49d1-9ef3-5d0e82317df1"
      },
      "execution_count": null,
      "outputs": [
        {
          "output_type": "stream",
          "name": "stdout",
          "text": [
            "숫자를 입력하세요 : 9\n",
            "9 소수가 아닙니다\n"
          ]
        }
      ]
    },
    {
      "cell_type": "code",
      "source": [
        "#문제_6\n",
        "for n in range(100, 1000, 1):         \n",
        "     num1 = n // 100\n",
        "     num2 = (n%100) // 10\n",
        "     num3 = ((n%100) % 10)\n",
        "\n",
        "     number = (num1**3) + (num2**3) + (num3**3)  \n",
        " \n",
        "     if(n == number ):            \n",
        "         print( n )     "
      ],
      "metadata": {
        "colab": {
          "base_uri": "https://localhost:8080/"
        },
        "id": "GvLiQTSsbebr",
        "outputId": "29403756-0eff-45af-ed52-6a08c7990f05"
      },
      "execution_count": null,
      "outputs": [
        {
          "output_type": "stream",
          "name": "stdout",
          "text": [
            "153\n",
            "370\n",
            "371\n",
            "407\n"
          ]
        }
      ]
    },
    {
      "cell_type": "code",
      "source": [
        "#문제_7\n",
        "num = int(input('1에서 9까지의 수를 입력하세요 : '))\n",
        "while (num < 1 or num > 9):\n",
        "  num = int(input('1에서 9까지의 수를 다시 입력하세요 : '))\n",
        "for i in range(1, 10):\n",
        "  print(num, \"*\", i, \"=\", num * i)"
      ],
      "metadata": {
        "colab": {
          "base_uri": "https://localhost:8080/"
        },
        "id": "3ZaVChSOb9qV",
        "outputId": "de906aa1-fc90-480c-cd85-491992da98aa"
      },
      "execution_count": null,
      "outputs": [
        {
          "output_type": "stream",
          "name": "stdout",
          "text": [
            "1에서 9까지의 수를 입력하세요 : 22\n",
            "1에서 9까지의 수를 다시 입력하세요 : 223\n",
            "1에서 9까지의 수를 다시 입력하세요 : 1\n",
            "1 * 1 = 1\n",
            "1 * 2 = 2\n",
            "1 * 3 = 3\n",
            "1 * 4 = 4\n",
            "1 * 5 = 5\n",
            "1 * 6 = 6\n",
            "1 * 7 = 7\n",
            "1 * 8 = 8\n",
            "1 * 9 = 9\n"
          ]
        }
      ]
    },
    {
      "cell_type": "code",
      "source": [
        "#문제_8\n",
        "print(\"맛나 식당에 오신 것을 환영합니다. 메뉴는 다음과 같습니다. \\n- 삼겹구이 (입력 s) \\n- 오삼불고기 (입력 o) \\n- 된장찌개 (입력 d) \\n\")\n",
        "menu = input('메뉴를 선택하세요 (알파벳 s, o, d 입력) : ')\n",
        "if menu == 's':\n",
        "  print(\"삼겹구이를 선택하였습니다.\")\n",
        "elif menu == 'o':\n",
        "  print(\"오삼불고기를 선택하였습니다.\")\n",
        "elif menu == 'd':\n",
        "  print(\"된장찌개를 선택하였습니다.\")\n",
        "else:\n",
        "  print(\"메뉴를 다시 입력하세요: \") \n",
        "  menu = input('메뉴를 선택하세요 (알파벳 s, o, d 입력) : ')\n",
        "if menu == 's':\n",
        "  print(\"삼겹구이를 선택하였습니다.\")\n",
        "elif menu == 'o':\n",
        "  print(\"오삼불고기를 선택하였습니다.\")\n",
        "elif menu == 'd':\n",
        "  print(\"된장찌개를 선택하였습니다.\")"
      ],
      "metadata": {
        "colab": {
          "base_uri": "https://localhost:8080/"
        },
        "id": "qG4eF-EBdVMe",
        "outputId": "cd741d1e-d183-4710-b2ed-468ff779d5b0"
      },
      "execution_count": null,
      "outputs": [
        {
          "output_type": "stream",
          "name": "stdout",
          "text": [
            "맛나 식당에 오신 것을 환영합니다. 메뉴는 다음과 같습니다. \n",
            "- 삼겹구이 (입력 s) \n",
            "- 오삼불고기 (입력 o) \n",
            "- 된장찌개 (입력 d) \n",
            "\n",
            "메뉴를 선택하세요 (알파벳 s, o, d 입력) : oo\n",
            "메뉴를 다시 입력하세요: \n",
            "메뉴를 선택하세요 (알파벳 s, o, d 입력) : o\n",
            "오삼불고기를 선택하였습니다.\n"
          ]
        }
      ]
    },
    {
      "cell_type": "code",
      "source": [
        "#문제_9\n",
        "num = int(input('숫자를 입력하세요 : '))\n",
        "for i in range(1, num+1):\n",
        "  print(\" \"*(num-i), \"*\"*i)"
      ],
      "metadata": {
        "colab": {
          "base_uri": "https://localhost:8080/"
        },
        "id": "xCK4YgnWi8D1",
        "outputId": "53dbc709-96e9-465b-e50f-4e0bd5a90aeb"
      },
      "execution_count": null,
      "outputs": [
        {
          "output_type": "stream",
          "name": "stdout",
          "text": [
            "숫자를 입력하세요 : 10\n",
            "          *\n",
            "         **\n",
            "        ***\n",
            "       ****\n",
            "      *****\n",
            "     ******\n",
            "    *******\n",
            "   ********\n",
            "  *********\n",
            " **********\n"
          ]
        }
      ]
    },
    {
      "cell_type": "code",
      "source": [
        "#문제_10\n",
        "n = int(input(\"n을 입력하시오: \"))\n",
        "arr = [[col+row*n for col in range(1, (n+1))] for row in range(n)]\n",
        "if n < 10 and n > 0:\n",
        "  for i in range(0, n):\n",
        "    if i % 2 == 1:\n",
        "        print(arr[i][::-1], end=\"\")\n",
        "    else:\n",
        "        print(arr[i][::1], end=\"\")\n",
        "    print()"
      ],
      "metadata": {
        "colab": {
          "base_uri": "https://localhost:8080/"
        },
        "id": "UBt5DwEWrMdG",
        "outputId": "8117d842-4895-4566-f948-ce23b6b09d89"
      },
      "execution_count": null,
      "outputs": [
        {
          "output_type": "stream",
          "name": "stdout",
          "text": [
            "n을 입력하시오: 5\n",
            "[1, 2, 3, 4, 5]\n",
            "[10, 9, 8, 7, 6]\n",
            "[11, 12, 13, 14, 15]\n",
            "[20, 19, 18, 17, 16]\n",
            "[21, 22, 23, 24, 25]\n"
          ]
        }
      ]
    }
  ]
}