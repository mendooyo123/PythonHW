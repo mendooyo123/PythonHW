{
  "nbformat": 4,
  "nbformat_minor": 0,
  "metadata": {
    "colab": {
      "provenance": []
    },
    "kernelspec": {
      "name": "python3",
      "display_name": "Python 3"
    },
    "language_info": {
      "name": "python"
    }
  },
  "cells": [
    {
      "cell_type": "code",
      "execution_count": null,
      "metadata": {
        "colab": {
          "base_uri": "https://localhost:8080/"
        },
        "id": "_EIXBtVsaTjJ",
        "outputId": "fe567502-9c28-41c7-8e55-37da2f58035a"
      },
      "outputs": [
        {
          "output_type": "stream",
          "name": "stdout",
          "text": [
            "game_score = 1300\n",
            "당신은 고수입니다.\n"
          ]
        }
      ],
      "source": [
        "##LAB 3-1 /문제_1\n",
        "score = int(input(\"game_score = \"))\n",
        "if score > 1000:\n",
        "  print(\"당신은 고수입니다.\")\n"
      ]
    },
    {
      "cell_type": "code",
      "source": [
        "##LAB 3-1 /문제_2\n",
        "a = int(input(\"num_a = \"))\n",
        "b = int(input(\"num_b = \"))\n",
        "if a > b:\n",
        "  print(\"num_a가 더 많습니다.\")\n",
        "elif a == b:\n",
        "  print(\"두 값이 일치합니다.\")\n",
        "else:\n",
        "  print(\"num_b가 더 많습니다\")    \n"
      ],
      "metadata": {
        "colab": {
          "base_uri": "https://localhost:8080/"
        },
        "id": "wIXuvJXycZ2s",
        "outputId": "4aef7e45-1dbf-4941-8e2b-87a1a3335622"
      },
      "execution_count": null,
      "outputs": [
        {
          "output_type": "stream",
          "name": "stdout",
          "text": [
            "num_a = 300\n",
            "num_b = 300\n",
            "두 값이 일치합니다.\n"
          ]
        }
      ]
    },
    {
      "cell_type": "code",
      "source": [
        "##LAB 3-2 /문제_1\n",
        "n = int(input(\"정수를 입력하세요 : \" ))\n",
        "if n < 101 and n > 0:\n",
        "  print(\"n =\", n)\n",
        "  if n % 2 == 0:\n",
        "    print(n,\"은(는) 짝수입니다.\")\n",
        "  \n",
        "\n",
        "  \n",
        "\n",
        "\n"
      ],
      "metadata": {
        "colab": {
          "base_uri": "https://localhost:8080/"
        },
        "id": "UGVEVbdgcZ9r",
        "outputId": "55b18dc0-c9fd-4f2d-ae8e-0f37f654409f"
      },
      "execution_count": null,
      "outputs": [
        {
          "output_type": "stream",
          "name": "stdout",
          "text": [
            "정수를 입력하세요 : 50\n",
            "n = 50\n",
            "50 은(는) 짝수입니다.\n"
          ]
        }
      ]
    },
    {
      "cell_type": "code",
      "source": [
        "##LAB 3-2 /문제_2\n",
        "x = int(input(\"정수를 입력하세요 : \"))\n",
        "if x < 101 and x > -101:\n",
        "  print(\"x = \", x)\n",
        "  if x > 0:\n",
        "    print(x,\"은/는 자연수입니다.\")"
      ],
      "metadata": {
        "colab": {
          "base_uri": "https://localhost:8080/"
        },
        "id": "p__H8_4DcaEU",
        "outputId": "3150fc16-4f6d-4a68-ebdf-9d4a58089432"
      },
      "execution_count": null,
      "outputs": [
        {
          "output_type": "stream",
          "name": "stdout",
          "text": [
            "정수를 입력하세요 : -10\n",
            "x =  -10\n"
          ]
        }
      ]
    },
    {
      "cell_type": "code",
      "source": [
        "##LAB 3-3 /문제_1\n",
        "score = int(input(\"게임점수를 입력하세요 : \"))\n",
        "if score < 1000:\n",
        "  print(\"game_score = {} \\n입문자입니다.\".format(score))\n",
        "else:\n",
        "  print(\"game_score = {} \\n고수입니다.\".format(score))"
      ],
      "metadata": {
        "colab": {
          "base_uri": "https://localhost:8080/"
        },
        "id": "ywSLEmsUfBbM",
        "outputId": "f384a317-0ea7-4e98-a2aa-2f769c1905cc"
      },
      "execution_count": null,
      "outputs": [
        {
          "output_type": "stream",
          "name": "stdout",
          "text": [
            "게임점수를 입력하세요 : 1300\n",
            "game_score = 1300 \n",
            "고수입니다.\n"
          ]
        }
      ]
    },
    {
      "cell_type": "code",
      "source": [
        "##LAB 3-3 /문제_2\n",
        "x = int(input(\"한 정수를 입력하세요 : \"))\n",
        "y = int(input(\"다른 정수를 입력하세요: \"))\n",
        "if x > y and x < y:\n",
        "  print(\"두 값이 일치하지 않습니다.\")\n",
        "else:\n",
        "  print(\"두 값이 일치합니다.\")"
      ],
      "metadata": {
        "colab": {
          "base_uri": "https://localhost:8080/"
        },
        "id": "K_4fHZS7fBhz",
        "outputId": "9debcd7d-1ba4-4663-9f5d-850db267c5a6"
      },
      "execution_count": null,
      "outputs": [
        {
          "output_type": "stream",
          "name": "stdout",
          "text": [
            "한 정수를 입력하세요 : 300\n",
            "다른 정수를 입력하세요: 300\n",
            "두 값이 일치합니다.\n"
          ]
        }
      ]
    },
    {
      "cell_type": "code",
      "source": [
        "##LAB 3-3 /문제_3\n",
        "a = str(input(\"당신은 성인인가요(성인이면 1, 미성년이면 0):\"))\n",
        "if a == '0':\n",
        "  print(\"당신은 미성년자입니다.\")\n",
        "elif a == '1':\n",
        "  s = input(\"결혼 하셨나요(기혼이면 1, 미혼이면 0):\")\n",
        "  if s == '0':\n",
        "    print(\"당신은 결혼하지 않은 성인입니다.\")\n",
        "  if s == '1':\n",
        "    print(\"당신은 결혼한성인입니다.\")"
      ],
      "metadata": {
        "colab": {
          "base_uri": "https://localhost:8080/"
        },
        "id": "gh6rAdtkfBj9",
        "outputId": "1e00273b-1398-4045-dba5-a5a82738cd3a"
      },
      "execution_count": null,
      "outputs": [
        {
          "output_type": "stream",
          "name": "stdout",
          "text": [
            "당신은 성인인가요(성인이면 1, 미성년이면 0):1\n",
            "결혼 하셨나요(기혼이면 1, 미혼이면 0):0\n",
            "당신은 결혼하지 않은 성인입니다.\n"
          ]
        }
      ]
    },
    {
      "cell_type": "code",
      "source": [
        "##LAB 3-4 /문제_1\n",
        "num = 2\n",
        "if num < 10 and num > 1:\n",
        "  print(True)\n",
        "else:\n",
        "  print(False)\n"
      ],
      "metadata": {
        "colab": {
          "base_uri": "https://localhost:8080/"
        },
        "id": "Wl2cQFS2fBsT",
        "outputId": "afc2d281-09ec-4618-8272-8a0c310d77bd"
      },
      "execution_count": null,
      "outputs": [
        {
          "output_type": "stream",
          "name": "stdout",
          "text": [
            "True\n"
          ]
        }
      ]
    },
    {
      "cell_type": "code",
      "source": [
        "##LAB 3-4 /문제_2\n",
        "age = 12\n",
        "if age > 10 and age < 19:\n",
        "  print(\"age = {} \\n청소년입니다\".format(age))\n",
        "else:\n",
        "  print(\"age = {}\".format(age))"
      ],
      "metadata": {
        "colab": {
          "base_uri": "https://localhost:8080/"
        },
        "id": "6_MST_vGfBum",
        "outputId": "941c43d4-df41-45ee-8bb1-a2c6ecf6b2ce"
      },
      "execution_count": null,
      "outputs": [
        {
          "output_type": "stream",
          "name": "stdout",
          "text": [
            "age = 12 \n",
            "청소년입니다\n"
          ]
        }
      ]
    },
    {
      "cell_type": "code",
      "source": [
        "##LAB 3-5\n",
        "speed = int(input(\"자동차의 속도를 입력하세요(단위 : km/h):\"))\n",
        "if speed > 100:\n",
        "  print(\"고속\")\n",
        "elif speed < 100 and speed > 60:\n",
        "  print(\"중속\")\n",
        "else:\n",
        "  print(\"저속\")"
      ],
      "metadata": {
        "colab": {
          "base_uri": "https://localhost:8080/"
        },
        "id": "tGZNsq8-fBxF",
        "outputId": "2364db78-22fc-4e28-b0b5-92f4ba96bfb5"
      },
      "execution_count": null,
      "outputs": [
        {
          "output_type": "stream",
          "name": "stdout",
          "text": [
            "자동차의 속도를 입력하세요(단위 : km/h):75\n",
            "중속\n"
          ]
        }
      ]
    },
    {
      "cell_type": "code",
      "source": [
        "##LAB 3-6 /문제_1\n",
        "for i in range(5):\n",
        "  print(\"Hello, Python!\")"
      ],
      "metadata": {
        "colab": {
          "base_uri": "https://localhost:8080/"
        },
        "id": "pOaJNyFOfBzF",
        "outputId": "6479a56c-21f1-425d-c526-1f89f16a8299"
      },
      "execution_count": null,
      "outputs": [
        {
          "output_type": "stream",
          "name": "stdout",
          "text": [
            "Hello, Python!\n",
            "Hello, Python!\n",
            "Hello, Python!\n",
            "Hello, Python!\n",
            "Hello, Python!\n"
          ]
        }
      ]
    },
    {
      "cell_type": "code",
      "source": [
        "##LAB 3-6 /문제_2\n",
        "for i in range(5):\n",
        "  print(i)\n",
        "  "
      ],
      "metadata": {
        "colab": {
          "base_uri": "https://localhost:8080/"
        },
        "id": "5tN1AOPfOaCM",
        "outputId": "37a22650-8662-4645-c368-48bdf8729d48"
      },
      "execution_count": null,
      "outputs": [
        {
          "output_type": "stream",
          "name": "stdout",
          "text": [
            "0\n",
            "1\n",
            "2\n",
            "3\n",
            "4\n"
          ]
        }
      ]
    },
    {
      "cell_type": "code",
      "source": [
        "##LAB 3-7 /문제_1\n",
        "list(range(1,101))"
      ],
      "metadata": {
        "colab": {
          "base_uri": "https://localhost:8080/"
        },
        "id": "zuhQvijHOaEk",
        "outputId": "90f06500-0d4f-46db-8a08-da4b5ea99435"
      },
      "execution_count": null,
      "outputs": [
        {
          "output_type": "execute_result",
          "data": {
            "text/plain": [
              "[1,\n",
              " 2,\n",
              " 3,\n",
              " 4,\n",
              " 5,\n",
              " 6,\n",
              " 7,\n",
              " 8,\n",
              " 9,\n",
              " 10,\n",
              " 11,\n",
              " 12,\n",
              " 13,\n",
              " 14,\n",
              " 15,\n",
              " 16,\n",
              " 17,\n",
              " 18,\n",
              " 19,\n",
              " 20,\n",
              " 21,\n",
              " 22,\n",
              " 23,\n",
              " 24,\n",
              " 25,\n",
              " 26,\n",
              " 27,\n",
              " 28,\n",
              " 29,\n",
              " 30,\n",
              " 31,\n",
              " 32,\n",
              " 33,\n",
              " 34,\n",
              " 35,\n",
              " 36,\n",
              " 37,\n",
              " 38,\n",
              " 39,\n",
              " 40,\n",
              " 41,\n",
              " 42,\n",
              " 43,\n",
              " 44,\n",
              " 45,\n",
              " 46,\n",
              " 47,\n",
              " 48,\n",
              " 49,\n",
              " 50,\n",
              " 51,\n",
              " 52,\n",
              " 53,\n",
              " 54,\n",
              " 55,\n",
              " 56,\n",
              " 57,\n",
              " 58,\n",
              " 59,\n",
              " 60,\n",
              " 61,\n",
              " 62,\n",
              " 63,\n",
              " 64,\n",
              " 65,\n",
              " 66,\n",
              " 67,\n",
              " 68,\n",
              " 69,\n",
              " 70,\n",
              " 71,\n",
              " 72,\n",
              " 73,\n",
              " 74,\n",
              " 75,\n",
              " 76,\n",
              " 77,\n",
              " 78,\n",
              " 79,\n",
              " 80,\n",
              " 81,\n",
              " 82,\n",
              " 83,\n",
              " 84,\n",
              " 85,\n",
              " 86,\n",
              " 87,\n",
              " 88,\n",
              " 89,\n",
              " 90,\n",
              " 91,\n",
              " 92,\n",
              " 93,\n",
              " 94,\n",
              " 95,\n",
              " 96,\n",
              " 97,\n",
              " 98,\n",
              " 99,\n",
              " 100]"
            ]
          },
          "metadata": {},
          "execution_count": 85
        }
      ]
    },
    {
      "cell_type": "code",
      "source": [
        "##LAB 3-7 /문제_2\n",
        "list(range(2, 101, 2))"
      ],
      "metadata": {
        "colab": {
          "base_uri": "https://localhost:8080/"
        },
        "id": "FSOQnQOzOaG1",
        "outputId": "6920acd2-3aba-492d-bb6d-75cb6762b55d"
      },
      "execution_count": null,
      "outputs": [
        {
          "output_type": "execute_result",
          "data": {
            "text/plain": [
              "[2,\n",
              " 4,\n",
              " 6,\n",
              " 8,\n",
              " 10,\n",
              " 12,\n",
              " 14,\n",
              " 16,\n",
              " 18,\n",
              " 20,\n",
              " 22,\n",
              " 24,\n",
              " 26,\n",
              " 28,\n",
              " 30,\n",
              " 32,\n",
              " 34,\n",
              " 36,\n",
              " 38,\n",
              " 40,\n",
              " 42,\n",
              " 44,\n",
              " 46,\n",
              " 48,\n",
              " 50,\n",
              " 52,\n",
              " 54,\n",
              " 56,\n",
              " 58,\n",
              " 60,\n",
              " 62,\n",
              " 64,\n",
              " 66,\n",
              " 68,\n",
              " 70,\n",
              " 72,\n",
              " 74,\n",
              " 76,\n",
              " 78,\n",
              " 80,\n",
              " 82,\n",
              " 84,\n",
              " 86,\n",
              " 88,\n",
              " 90,\n",
              " 92,\n",
              " 94,\n",
              " 96,\n",
              " 98,\n",
              " 100]"
            ]
          },
          "metadata": {},
          "execution_count": 100
        }
      ]
    },
    {
      "cell_type": "code",
      "source": [
        "##LAB /문제_3\n",
        "list(range(1,100, 2))"
      ],
      "metadata": {
        "colab": {
          "base_uri": "https://localhost:8080/"
        },
        "id": "2BLwaQFjOaJG",
        "outputId": "1d4de430-f245-41d8-bde7-d298e40be4c5"
      },
      "execution_count": null,
      "outputs": [
        {
          "output_type": "execute_result",
          "data": {
            "text/plain": [
              "[1,\n",
              " 3,\n",
              " 5,\n",
              " 7,\n",
              " 9,\n",
              " 11,\n",
              " 13,\n",
              " 15,\n",
              " 17,\n",
              " 19,\n",
              " 21,\n",
              " 23,\n",
              " 25,\n",
              " 27,\n",
              " 29,\n",
              " 31,\n",
              " 33,\n",
              " 35,\n",
              " 37,\n",
              " 39,\n",
              " 41,\n",
              " 43,\n",
              " 45,\n",
              " 47,\n",
              " 49,\n",
              " 51,\n",
              " 53,\n",
              " 55,\n",
              " 57,\n",
              " 59,\n",
              " 61,\n",
              " 63,\n",
              " 65,\n",
              " 67,\n",
              " 69,\n",
              " 71,\n",
              " 73,\n",
              " 75,\n",
              " 77,\n",
              " 79,\n",
              " 81,\n",
              " 83,\n",
              " 85,\n",
              " 87,\n",
              " 89,\n",
              " 91,\n",
              " 93,\n",
              " 95,\n",
              " 97,\n",
              " 99]"
            ]
          },
          "metadata": {},
          "execution_count": 103
        }
      ]
    },
    {
      "cell_type": "code",
      "source": [
        "##LAB 3-7 /문제_4\n",
        "list(range(-99,0))"
      ],
      "metadata": {
        "colab": {
          "base_uri": "https://localhost:8080/"
        },
        "id": "WTfBoXW1OaK-",
        "outputId": "35b2eee1-5d79-4eea-9749-857c7dc3a28a"
      },
      "execution_count": null,
      "outputs": [
        {
          "output_type": "execute_result",
          "data": {
            "text/plain": [
              "[-99,\n",
              " -98,\n",
              " -97,\n",
              " -96,\n",
              " -95,\n",
              " -94,\n",
              " -93,\n",
              " -92,\n",
              " -91,\n",
              " -90,\n",
              " -89,\n",
              " -88,\n",
              " -87,\n",
              " -86,\n",
              " -85,\n",
              " -84,\n",
              " -83,\n",
              " -82,\n",
              " -81,\n",
              " -80,\n",
              " -79,\n",
              " -78,\n",
              " -77,\n",
              " -76,\n",
              " -75,\n",
              " -74,\n",
              " -73,\n",
              " -72,\n",
              " -71,\n",
              " -70,\n",
              " -69,\n",
              " -68,\n",
              " -67,\n",
              " -66,\n",
              " -65,\n",
              " -64,\n",
              " -63,\n",
              " -62,\n",
              " -61,\n",
              " -60,\n",
              " -59,\n",
              " -58,\n",
              " -57,\n",
              " -56,\n",
              " -55,\n",
              " -54,\n",
              " -53,\n",
              " -52,\n",
              " -51,\n",
              " -50,\n",
              " -49,\n",
              " -48,\n",
              " -47,\n",
              " -46,\n",
              " -45,\n",
              " -44,\n",
              " -43,\n",
              " -42,\n",
              " -41,\n",
              " -40,\n",
              " -39,\n",
              " -38,\n",
              " -37,\n",
              " -36,\n",
              " -35,\n",
              " -34,\n",
              " -33,\n",
              " -32,\n",
              " -31,\n",
              " -30,\n",
              " -29,\n",
              " -28,\n",
              " -27,\n",
              " -26,\n",
              " -25,\n",
              " -24,\n",
              " -23,\n",
              " -22,\n",
              " -21,\n",
              " -20,\n",
              " -19,\n",
              " -18,\n",
              " -17,\n",
              " -16,\n",
              " -15,\n",
              " -14,\n",
              " -13,\n",
              " -12,\n",
              " -11,\n",
              " -10,\n",
              " -9,\n",
              " -8,\n",
              " -7,\n",
              " -6,\n",
              " -5,\n",
              " -4,\n",
              " -3,\n",
              " -2,\n",
              " -1]"
            ]
          },
          "metadata": {},
          "execution_count": 109
        }
      ]
    },
    {
      "cell_type": "code",
      "source": [
        "#LAB 3-8 /문제_1\n",
        "s = 0\n",
        "for i in range(1,101):\n",
        "  s = s + i\n",
        "  print('i = {}, s = {}'.format(i,s))\n",
        "\n",
        "print(\"1에서 100까지의 합:\",s)"
      ],
      "metadata": {
        "colab": {
          "base_uri": "https://localhost:8080/"
        },
        "id": "U35ountnYFbl",
        "outputId": "79d56027-0e98-4aaf-a508-955050043600"
      },
      "execution_count": null,
      "outputs": [
        {
          "output_type": "stream",
          "name": "stdout",
          "text": [
            "i = 1, s = 1\n",
            "i = 2, s = 3\n",
            "i = 3, s = 6\n",
            "i = 4, s = 10\n",
            "i = 5, s = 15\n",
            "i = 6, s = 21\n",
            "i = 7, s = 28\n",
            "i = 8, s = 36\n",
            "i = 9, s = 45\n",
            "i = 10, s = 55\n",
            "i = 11, s = 66\n",
            "i = 12, s = 78\n",
            "i = 13, s = 91\n",
            "i = 14, s = 105\n",
            "i = 15, s = 120\n",
            "i = 16, s = 136\n",
            "i = 17, s = 153\n",
            "i = 18, s = 171\n",
            "i = 19, s = 190\n",
            "i = 20, s = 210\n",
            "i = 21, s = 231\n",
            "i = 22, s = 253\n",
            "i = 23, s = 276\n",
            "i = 24, s = 300\n",
            "i = 25, s = 325\n",
            "i = 26, s = 351\n",
            "i = 27, s = 378\n",
            "i = 28, s = 406\n",
            "i = 29, s = 435\n",
            "i = 30, s = 465\n",
            "i = 31, s = 496\n",
            "i = 32, s = 528\n",
            "i = 33, s = 561\n",
            "i = 34, s = 595\n",
            "i = 35, s = 630\n",
            "i = 36, s = 666\n",
            "i = 37, s = 703\n",
            "i = 38, s = 741\n",
            "i = 39, s = 780\n",
            "i = 40, s = 820\n",
            "i = 41, s = 861\n",
            "i = 42, s = 903\n",
            "i = 43, s = 946\n",
            "i = 44, s = 990\n",
            "i = 45, s = 1035\n",
            "i = 46, s = 1081\n",
            "i = 47, s = 1128\n",
            "i = 48, s = 1176\n",
            "i = 49, s = 1225\n",
            "i = 50, s = 1275\n",
            "i = 51, s = 1326\n",
            "i = 52, s = 1378\n",
            "i = 53, s = 1431\n",
            "i = 54, s = 1485\n",
            "i = 55, s = 1540\n",
            "i = 56, s = 1596\n",
            "i = 57, s = 1653\n",
            "i = 58, s = 1711\n",
            "i = 59, s = 1770\n",
            "i = 60, s = 1830\n",
            "i = 61, s = 1891\n",
            "i = 62, s = 1953\n",
            "i = 63, s = 2016\n",
            "i = 64, s = 2080\n",
            "i = 65, s = 2145\n",
            "i = 66, s = 2211\n",
            "i = 67, s = 2278\n",
            "i = 68, s = 2346\n",
            "i = 69, s = 2415\n",
            "i = 70, s = 2485\n",
            "i = 71, s = 2556\n",
            "i = 72, s = 2628\n",
            "i = 73, s = 2701\n",
            "i = 74, s = 2775\n",
            "i = 75, s = 2850\n",
            "i = 76, s = 2926\n",
            "i = 77, s = 3003\n",
            "i = 78, s = 3081\n",
            "i = 79, s = 3160\n",
            "i = 80, s = 3240\n",
            "i = 81, s = 3321\n",
            "i = 82, s = 3403\n",
            "i = 83, s = 3486\n",
            "i = 84, s = 3570\n",
            "i = 85, s = 3655\n",
            "i = 86, s = 3741\n",
            "i = 87, s = 3828\n",
            "i = 88, s = 3916\n",
            "i = 89, s = 4005\n",
            "i = 90, s = 4095\n",
            "i = 91, s = 4186\n",
            "i = 92, s = 4278\n",
            "i = 93, s = 4371\n",
            "i = 94, s = 4465\n",
            "i = 95, s = 4560\n",
            "i = 96, s = 4656\n",
            "i = 97, s = 4753\n",
            "i = 98, s = 4851\n",
            "i = 99, s = 4950\n",
            "i = 100, s = 5050\n",
            "1에서 100까지의 합: 5050\n"
          ]
        }
      ]
    },
    {
      "cell_type": "code",
      "source": [
        "##LAB 3-8 /문제_2\n",
        "for i in range(2, 101, 2):\n",
        "  print(\"1에서 100까지의 짝수:\",i)"
      ],
      "metadata": {
        "colab": {
          "base_uri": "https://localhost:8080/"
        },
        "id": "V8NgDxH_YFeK",
        "outputId": "90db2c7a-47a2-4d40-ae7f-ff26cc7e08cb"
      },
      "execution_count": null,
      "outputs": [
        {
          "output_type": "stream",
          "name": "stdout",
          "text": [
            "1에서 100까지의 짝수: 2\n",
            "1에서 100까지의 짝수: 4\n",
            "1에서 100까지의 짝수: 6\n",
            "1에서 100까지의 짝수: 8\n",
            "1에서 100까지의 짝수: 10\n",
            "1에서 100까지의 짝수: 12\n",
            "1에서 100까지의 짝수: 14\n",
            "1에서 100까지의 짝수: 16\n",
            "1에서 100까지의 짝수: 18\n",
            "1에서 100까지의 짝수: 20\n",
            "1에서 100까지의 짝수: 22\n",
            "1에서 100까지의 짝수: 24\n",
            "1에서 100까지의 짝수: 26\n",
            "1에서 100까지의 짝수: 28\n",
            "1에서 100까지의 짝수: 30\n",
            "1에서 100까지의 짝수: 32\n",
            "1에서 100까지의 짝수: 34\n",
            "1에서 100까지의 짝수: 36\n",
            "1에서 100까지의 짝수: 38\n",
            "1에서 100까지의 짝수: 40\n",
            "1에서 100까지의 짝수: 42\n",
            "1에서 100까지의 짝수: 44\n",
            "1에서 100까지의 짝수: 46\n",
            "1에서 100까지의 짝수: 48\n",
            "1에서 100까지의 짝수: 50\n",
            "1에서 100까지의 짝수: 52\n",
            "1에서 100까지의 짝수: 54\n",
            "1에서 100까지의 짝수: 56\n",
            "1에서 100까지의 짝수: 58\n",
            "1에서 100까지의 짝수: 60\n",
            "1에서 100까지의 짝수: 62\n",
            "1에서 100까지의 짝수: 64\n",
            "1에서 100까지의 짝수: 66\n",
            "1에서 100까지의 짝수: 68\n",
            "1에서 100까지의 짝수: 70\n",
            "1에서 100까지의 짝수: 72\n",
            "1에서 100까지의 짝수: 74\n",
            "1에서 100까지의 짝수: 76\n",
            "1에서 100까지의 짝수: 78\n",
            "1에서 100까지의 짝수: 80\n",
            "1에서 100까지의 짝수: 82\n",
            "1에서 100까지의 짝수: 84\n",
            "1에서 100까지의 짝수: 86\n",
            "1에서 100까지의 짝수: 88\n",
            "1에서 100까지의 짝수: 90\n",
            "1에서 100까지의 짝수: 92\n",
            "1에서 100까지의 짝수: 94\n",
            "1에서 100까지의 짝수: 96\n",
            "1에서 100까지의 짝수: 98\n",
            "1에서 100까지의 짝수: 100\n"
          ]
        }
      ]
    },
    {
      "cell_type": "code",
      "source": [
        "##LAB 3-8 /문제_3\n",
        "for i in range(1,100,2):\n",
        "  print(\"1에서 100까지의 홀수:\",i)"
      ],
      "metadata": {
        "colab": {
          "base_uri": "https://localhost:8080/"
        },
        "id": "zNch_p32YFgy",
        "outputId": "d6e8befb-d435-45de-d301-8212a5eb402c"
      },
      "execution_count": null,
      "outputs": [
        {
          "output_type": "stream",
          "name": "stdout",
          "text": [
            "1에서 100까지의 홀수: 1\n",
            "1에서 100까지의 홀수: 3\n",
            "1에서 100까지의 홀수: 5\n",
            "1에서 100까지의 홀수: 7\n",
            "1에서 100까지의 홀수: 9\n",
            "1에서 100까지의 홀수: 11\n",
            "1에서 100까지의 홀수: 13\n",
            "1에서 100까지의 홀수: 15\n",
            "1에서 100까지의 홀수: 17\n",
            "1에서 100까지의 홀수: 19\n",
            "1에서 100까지의 홀수: 21\n",
            "1에서 100까지의 홀수: 23\n",
            "1에서 100까지의 홀수: 25\n",
            "1에서 100까지의 홀수: 27\n",
            "1에서 100까지의 홀수: 29\n",
            "1에서 100까지의 홀수: 31\n",
            "1에서 100까지의 홀수: 33\n",
            "1에서 100까지의 홀수: 35\n",
            "1에서 100까지의 홀수: 37\n",
            "1에서 100까지의 홀수: 39\n",
            "1에서 100까지의 홀수: 41\n",
            "1에서 100까지의 홀수: 43\n",
            "1에서 100까지의 홀수: 45\n",
            "1에서 100까지의 홀수: 47\n",
            "1에서 100까지의 홀수: 49\n",
            "1에서 100까지의 홀수: 51\n",
            "1에서 100까지의 홀수: 53\n",
            "1에서 100까지의 홀수: 55\n",
            "1에서 100까지의 홀수: 57\n",
            "1에서 100까지의 홀수: 59\n",
            "1에서 100까지의 홀수: 61\n",
            "1에서 100까지의 홀수: 63\n",
            "1에서 100까지의 홀수: 65\n",
            "1에서 100까지의 홀수: 67\n",
            "1에서 100까지의 홀수: 69\n",
            "1에서 100까지의 홀수: 71\n",
            "1에서 100까지의 홀수: 73\n",
            "1에서 100까지의 홀수: 75\n",
            "1에서 100까지의 홀수: 77\n",
            "1에서 100까지의 홀수: 79\n",
            "1에서 100까지의 홀수: 81\n",
            "1에서 100까지의 홀수: 83\n",
            "1에서 100까지의 홀수: 85\n",
            "1에서 100까지의 홀수: 87\n",
            "1에서 100까지의 홀수: 89\n",
            "1에서 100까지의 홀수: 91\n",
            "1에서 100까지의 홀수: 93\n",
            "1에서 100까지의 홀수: 95\n",
            "1에서 100까지의 홀수: 97\n",
            "1에서 100까지의 홀수: 99\n"
          ]
        }
      ]
    },
    {
      "cell_type": "code",
      "source": [
        "##LAB 3-9\n",
        "n = 7\n",
        "for i in range(1,n+1):\n",
        "  print(\" \" * (n-i), '#' )"
      ],
      "metadata": {
        "colab": {
          "base_uri": "https://localhost:8080/"
        },
        "id": "pkjjW4CBYFjO",
        "outputId": "8816c352-11ab-42f4-bee5-8794299a00a4"
      },
      "execution_count": null,
      "outputs": [
        {
          "output_type": "stream",
          "name": "stdout",
          "text": [
            "       #\n",
            "      #\n",
            "     #\n",
            "    #\n",
            "   #\n",
            "  #\n",
            " #\n"
          ]
        }
      ]
    },
    {
      "cell_type": "code",
      "source": [],
      "metadata": {
        "id": "iQqvRgj5kriA"
      },
      "execution_count": null,
      "outputs": []
    }
  ]
}