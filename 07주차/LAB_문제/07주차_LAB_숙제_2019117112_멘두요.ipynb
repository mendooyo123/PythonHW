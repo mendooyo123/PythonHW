{
  "nbformat": 4,
  "nbformat_minor": 0,
  "metadata": {
    "colab": {
      "provenance": []
    },
    "kernelspec": {
      "name": "python3",
      "display_name": "Python 3"
    },
    "language_info": {
      "name": "python"
    }
  },
  "cells": [
    {
      "cell_type": "code",
      "source": [
        "##LAB 7-1 \n",
        "import datetime as dt\n",
        "today = dt.datetime.now()\n",
        "year = today.year\n",
        "month = today.month\n",
        "day = today.day\n",
        "hour = today.hour\n",
        "minute = today.minute\n",
        "second = today.second\n",
        "\n",
        "if today.hour >= 12:\n",
        "  ampm = '오후'\n",
        "else:\n",
        "  ampm = '오전'\n",
        "print('오늘의 날짜 : {}년 {}월 {}일'.format(year, month, day))\n",
        "print('현재시간 : {} {}시 {}분 {}초'.format(ampm, hour, minute, second))"
      ],
      "metadata": {
        "colab": {
          "base_uri": "https://localhost:8080/"
        },
        "id": "eW6vTZwLVNPR",
        "outputId": "b3e349f9-3d70-435e-cf3d-e6496d95cdff"
      },
      "execution_count": null,
      "outputs": [
        {
          "output_type": "stream",
          "name": "stdout",
          "text": [
            "오늘의 날짜 : 2022년 11월 21일\n",
            "현재시간 : 오후 18시 0분 39초\n"
          ]
        }
      ]
    },
    {
      "cell_type": "code",
      "source": [
        "##LAB 7-2 /문제_1\n",
        "xMas = dt.datetime(2025, 12, 25)\n",
        "tgap = xMas - today\n",
        "gap_days = tgap.days\n",
        "gap_hours = tgap.seconds//3600\n",
        "print('오늘은 {}년 {}월 {}일입니다'.format(year, month, day))\n",
        "print('2025년 크리스마스까지는 {}일 {}시간 남았습니다.'.format(gap_days, gap_hours))"
      ],
      "metadata": {
        "colab": {
          "base_uri": "https://localhost:8080/"
        },
        "id": "MvZLT3j1VNWr",
        "outputId": "6955ea82-12ae-4767-e591-55e611e1e823"
      },
      "execution_count": null,
      "outputs": [
        {
          "output_type": "stream",
          "name": "stdout",
          "text": [
            "오늘은 2022년 11월 21일입니다\n",
            "2025년 크리스마스까지는 1129일 5시간 남았습니다.\n"
          ]
        }
      ]
    },
    {
      "cell_type": "code",
      "source": [
        "##LAB 7-2 /문제_2\n",
        "newyear = dt.datetime(2036, 1, 1)\n",
        "tgap = newyear - today\n",
        "gap_days = tgap.days\n",
        "gap_hours = tgap.seconds//3600\n",
        "print('오늘은 {}년 {}월 {}일입니다'.format(year, month, day))\n",
        "print('2036년 새해 까지는 {}일 {}시간 남았습니다.'.format(gap_days, gap_hours))"
      ],
      "metadata": {
        "colab": {
          "base_uri": "https://localhost:8080/"
        },
        "id": "TIr0WUfiWizh",
        "outputId": "0a71380f-8eb5-4d44-8dfd-907e5002cb2e"
      },
      "execution_count": null,
      "outputs": [
        {
          "output_type": "stream",
          "name": "stdout",
          "text": [
            "오늘은 2022년 11월 21일입니다\n",
            "2036년 새해 까지는 4788일 5시간 남았습니다.\n"
          ]
        }
      ]
    },
    {
      "cell_type": "code",
      "source": [
        "##LAB 7-2 /문제_3\n",
        "birthday = dt.datetime(2023, 2, 25)\n",
        "tgap = birthday - today\n",
        "gap_days = tgap.days\n",
        "gap_hours = tgap.seconds//3600\n",
        "print('오늘은 {}년 {}월 {}일입니다'.format(year, month, day))\n",
        "print('2023년 생일 까지는 {}일 {}시간 남았습니다.'.format(gap_days, gap_hours))\n"
      ],
      "metadata": {
        "colab": {
          "base_uri": "https://localhost:8080/"
        },
        "id": "FDWwurPrWi5X",
        "outputId": "d4655e6b-3a8b-4c68-86b8-32e35636d653"
      },
      "execution_count": null,
      "outputs": [
        {
          "output_type": "stream",
          "name": "stdout",
          "text": [
            "오늘은 2022년 11월 21일입니다\n",
            "2023년 생일 까지는 95일 5시간 남았습니다.\n"
          ]
        }
      ]
    },
    {
      "cell_type": "code",
      "source": [
        "##LAB 7-3 /문제_1\n",
        "import datetime as dt\n",
        "print('오늘 =', dt.datetime.now())\n",
        "thousand = dt.timedelta(days = 1000)\n",
        "plus1000day = dt.datetime.now() + thousand\n",
        "print('1000d일 후 =', plus1000day)"
      ],
      "metadata": {
        "colab": {
          "base_uri": "https://localhost:8080/"
        },
        "id": "5aN_oiuTWi7m",
        "outputId": "d5550552-3ef1-49b0-95e8-9424da89ffd5"
      },
      "execution_count": null,
      "outputs": [
        {
          "output_type": "stream",
          "name": "stdout",
          "text": [
            "오늘 = 2022-11-21 18:42:00.375677\n",
            "1000d일 후 = 2025-08-17 18:42:00.379113\n"
          ]
        }
      ]
    },
    {
      "cell_type": "code",
      "source": [
        "##LAB 7-3 /문제_2\n",
        "import datetime\n",
        "couple_day= input('처음으로 사귄 연도와 월, 일을 입력하시오 :')\n",
        "couple_day = datetime.datetime(2019, 3, 30)\n",
        "hundred = datetime.timedelta(days = 100)\n",
        "plus100day = couple_day + hundred\n",
        "print('100일 기념일은:',plus100day.strftime('%Y년 %m월 %d일입니다. '))"
      ],
      "metadata": {
        "colab": {
          "base_uri": "https://localhost:8080/"
        },
        "id": "Hmy-kUE0NJHT",
        "outputId": "84e07546-a55e-41d3-ebb6-29a85e5ce07f"
      },
      "execution_count": null,
      "outputs": [
        {
          "output_type": "stream",
          "name": "stdout",
          "text": [
            "처음으로 사귄 연도와 월, 일을 입력하시오 :2019 3 30\n",
            "100일 기념일은: 2019년 07월 08일입니다. \n"
          ]
        }
      ]
    },
    {
      "cell_type": "code",
      "source": [
        "##LAB 7-4 /문제_1\n",
        "import math\n",
        "\n",
        "for _ in range(2, 11):\n",
        "  print(\"4** {} = {}\".format(_, 4** _))"
      ],
      "metadata": {
        "id": "-SV5WIR8fx8E",
        "colab": {
          "base_uri": "https://localhost:8080/"
        },
        "outputId": "d2bf933a-2fb2-4861-8d73-15cc2eea3893"
      },
      "execution_count": null,
      "outputs": [
        {
          "output_type": "stream",
          "name": "stdout",
          "text": [
            "4** 2 = 16\n",
            "4** 3 = 64\n",
            "4** 4 = 256\n",
            "4** 5 = 1024\n",
            "4** 6 = 4096\n",
            "4** 7 = 16384\n",
            "4** 8 = 65536\n",
            "4** 9 = 262144\n",
            "4** 10 = 1048576\n"
          ]
        }
      ]
    },
    {
      "cell_type": "code",
      "source": [
        "##LAB 7-4 /문제_3\n",
        "import math \n",
        "for _ in range(0, 190, 10):\n",
        "  print(\"sin( {}) = {:04.2f}\".format(_,math.sin(math.pi * (_/180))))"
      ],
      "metadata": {
        "colab": {
          "base_uri": "https://localhost:8080/"
        },
        "id": "iHjsgNyJS3eh",
        "outputId": "6f26fc35-1677-4b1b-d2a7-24a0f989d3f7"
      },
      "execution_count": null,
      "outputs": [
        {
          "output_type": "stream",
          "name": "stdout",
          "text": [
            "sin( 0) = 0.00\n",
            "sin( 10) = 0.17\n",
            "sin( 20) = 0.34\n",
            "sin( 30) = 0.50\n",
            "sin( 40) = 0.64\n",
            "sin( 50) = 0.77\n",
            "sin( 60) = 0.87\n",
            "sin( 70) = 0.94\n",
            "sin( 80) = 0.98\n",
            "sin( 90) = 1.00\n",
            "sin( 100) = 0.98\n",
            "sin( 110) = 0.94\n",
            "sin( 120) = 0.87\n",
            "sin( 130) = 0.77\n",
            "sin( 140) = 0.64\n",
            "sin( 150) = 0.50\n",
            "sin( 160) = 0.34\n",
            "sin( 170) = 0.17\n",
            "sin( 180) = 0.00\n"
          ]
        }
      ]
    },
    {
      "cell_type": "code",
      "source": [
        "#LAB 7-5 /문제_1\n",
        "import random \n",
        "random.randrange(0, 101, 5)\n",
        "a_list = [random.randrange(0, 101, 5),random.randrange(0, 101, 5),random.randrange(0, 101, 5)]\n",
        "a_list\n",
        "\n",
        "\n",
        "  \n"
      ],
      "metadata": {
        "colab": {
          "base_uri": "https://localhost:8080/"
        },
        "id": "psQd6pw_cqWz",
        "outputId": "4ecf7ff9-029b-42fd-ac20-22b358da04e0"
      },
      "execution_count": null,
      "outputs": [
        {
          "output_type": "execute_result",
          "data": {
            "text/plain": [
              "[15, 70, 35]"
            ]
          },
          "metadata": {},
          "execution_count": 110
        }
      ]
    },
    {
      "cell_type": "code",
      "source": [
        "#LAB 7-5 /문제_2\n",
        "import random\n",
        "a = list(range(1,11))\n",
        "random.sample(a,3)"
      ],
      "metadata": {
        "colab": {
          "base_uri": "https://localhost:8080/"
        },
        "id": "7OtCHVGIcqZZ",
        "outputId": "4836315b-12d3-49bf-d624-455561c4d2d3"
      },
      "execution_count": null,
      "outputs": [
        {
          "output_type": "execute_result",
          "data": {
            "text/plain": [
              "[7, 2, 1]"
            ]
          },
          "metadata": {},
          "execution_count": 111
        }
      ]
    }
  ]
}