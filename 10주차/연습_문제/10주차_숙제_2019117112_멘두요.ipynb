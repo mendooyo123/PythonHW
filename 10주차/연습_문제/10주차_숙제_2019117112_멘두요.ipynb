{
  "nbformat": 4,
  "nbformat_minor": 0,
  "metadata": {
    "colab": {
      "provenance": []
    },
    "kernelspec": {
      "name": "python3",
      "display_name": "Python 3"
    },
    "language_info": {
      "name": "python"
    }
  },
  "cells": [
    {
      "cell_type": "code",
      "execution_count": null,
      "metadata": {
        "colab": {
          "base_uri": "https://localhost:8080/"
        },
        "id": "57BxGaaox9gT",
        "outputId": "5d97fc48-2ad0-4c48-b41d-f8ee4968c634"
      },
      "outputs": [
        {
          "output_type": "stream",
          "name": "stdout",
          "text": [
            "<class '__main__.Dog'>\n"
          ]
        }
      ],
      "source": [
        "#문제_1\n",
        "class Dog:\n",
        "  def __init__(self, name, age):\n",
        "    self.name = name\n",
        "    self.age = age\n",
        "    \n",
        "my_dog = Dog('Mango', 3)\n",
        "print(type(my_dog))"
      ]
    },
    {
      "cell_type": "code",
      "source": [
        "print('my_dog의 이름은 {}이고, 나이는 {}살입니다.'.format(my_dog.name, my_dog.age))"
      ],
      "metadata": {
        "id": "Fy5I6mjqyYh4"
      },
      "execution_count": null,
      "outputs": []
    },
    {
      "cell_type": "code",
      "source": [
        "#문제_2\n",
        "class Counter:\n",
        "  def __init__(self, number=0):\n",
        "    self.number = number\n",
        "    \n",
        "  def reset(self):\n",
        "    self.number = 0\n",
        "    \n",
        "  def inc(self):\n",
        "    self.number = self.number + 1\n",
        "    if self.number >= 100:\n",
        "      self.number = 0\n",
        "    \n",
        "  def dec(self):\n",
        "    self.number = self.number - 1\n",
        "    if self.number <= -1:\n",
        "      self.number = 0\n",
        "\n",
        "  def __str__(self):\n",
        "    return 'C({})'.format(self.number)\n",
        "    \n",
        "c1 = Counter(10)\n",
        "c1.inc()\n",
        "print('c1 =', c1)\n",
        "\n",
        "c2 = Counter()\n",
        "c2.inc()\n",
        "c2.inc()\n",
        "c2.dec()\n",
        "print('c2 =', c2)\n",
        "c2.reset()\n",
        "print('c2 =', c2)"
      ],
      "metadata": {
        "colab": {
          "base_uri": "https://localhost:8080/"
        },
        "id": "jQGYi07byf1V",
        "outputId": "5db9ae42-ce47-4627-af9c-4493620ffdec"
      },
      "execution_count": null,
      "outputs": [
        {
          "output_type": "stream",
          "name": "stdout",
          "text": [
            "c1 = C(11)\n",
            "c2 = C(1)\n",
            "c2 = C(0)\n"
          ]
        }
      ]
    }
  ]
}