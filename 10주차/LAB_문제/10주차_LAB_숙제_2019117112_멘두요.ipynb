{
  "nbformat": 4,
  "nbformat_minor": 0,
  "metadata": {
    "colab": {
      "provenance": []
    },
    "kernelspec": {
      "name": "python3",
      "display_name": "Python 3"
    },
    "language_info": {
      "name": "python"
    }
  },
  "cells": [
    {
      "cell_type": "code",
      "execution_count": 2,
      "metadata": {
        "colab": {
          "base_uri": "https://localhost:8080/"
        },
        "id": "7OlPjtc53jDZ",
        "outputId": "ce90b7a2-b4c5-4c5b-ccd6-b0bc8b5a9bd2"
      },
      "outputs": [
        {
          "output_type": "stream",
          "name": "stdout",
          "text": [
            "100\n",
            "20000\n",
            "2.0\n"
          ]
        }
      ],
      "source": [
        "##LAB 9-1 /문제_1\n",
        "print((200).__sub__(100))\n",
        "print((200).__mul__(100))\n",
        "print((200).__truediv__(100))"
      ]
    },
    {
      "cell_type": "code",
      "source": [
        "##LAB 9-1 /문제_2\n",
        "[10, 20, 30, 40].pop()"
      ],
      "metadata": {
        "colab": {
          "base_uri": "https://localhost:8080/"
        },
        "id": "t7s0z6An4C-h",
        "outputId": "d6fa209c-73c2-4319-c007-bb71b554cce5"
      },
      "execution_count": 3,
      "outputs": [
        {
          "output_type": "execute_result",
          "data": {
            "text/plain": [
              "40"
            ]
          },
          "metadata": {},
          "execution_count": 3
        }
      ]
    },
    {
      "cell_type": "code",
      "source": [
        "##LAB 9-1 /문제_3\n",
        "리스트 객체가 호출할 수 없는 메소드는 keys()입니다."
      ],
      "metadata": {
        "id": "-XjfX08m4DA1"
      },
      "execution_count": null,
      "outputs": []
    },
    {
      "cell_type": "code",
      "source": [
        "##LAB 9-1 /문제_4\n",
        "dir(int)"
      ],
      "metadata": {
        "colab": {
          "base_uri": "https://localhost:8080/"
        },
        "id": "UzmA1Mil4DDF",
        "outputId": "f970c1a3-34ae-46a2-cfe7-0e754224f9d6"
      },
      "execution_count": 4,
      "outputs": [
        {
          "output_type": "execute_result",
          "data": {
            "text/plain": [
              "['__abs__',\n",
              " '__add__',\n",
              " '__and__',\n",
              " '__bool__',\n",
              " '__ceil__',\n",
              " '__class__',\n",
              " '__delattr__',\n",
              " '__dir__',\n",
              " '__divmod__',\n",
              " '__doc__',\n",
              " '__eq__',\n",
              " '__float__',\n",
              " '__floor__',\n",
              " '__floordiv__',\n",
              " '__format__',\n",
              " '__ge__',\n",
              " '__getattribute__',\n",
              " '__getnewargs__',\n",
              " '__gt__',\n",
              " '__hash__',\n",
              " '__index__',\n",
              " '__init__',\n",
              " '__init_subclass__',\n",
              " '__int__',\n",
              " '__invert__',\n",
              " '__le__',\n",
              " '__lshift__',\n",
              " '__lt__',\n",
              " '__mod__',\n",
              " '__mul__',\n",
              " '__ne__',\n",
              " '__neg__',\n",
              " '__new__',\n",
              " '__or__',\n",
              " '__pos__',\n",
              " '__pow__',\n",
              " '__radd__',\n",
              " '__rand__',\n",
              " '__rdivmod__',\n",
              " '__reduce__',\n",
              " '__reduce_ex__',\n",
              " '__repr__',\n",
              " '__rfloordiv__',\n",
              " '__rlshift__',\n",
              " '__rmod__',\n",
              " '__rmul__',\n",
              " '__ror__',\n",
              " '__round__',\n",
              " '__rpow__',\n",
              " '__rrshift__',\n",
              " '__rshift__',\n",
              " '__rsub__',\n",
              " '__rtruediv__',\n",
              " '__rxor__',\n",
              " '__setattr__',\n",
              " '__sizeof__',\n",
              " '__str__',\n",
              " '__sub__',\n",
              " '__subclasshook__',\n",
              " '__truediv__',\n",
              " '__trunc__',\n",
              " '__xor__',\n",
              " 'as_integer_ratio',\n",
              " 'bit_length',\n",
              " 'conjugate',\n",
              " 'denominator',\n",
              " 'from_bytes',\n",
              " 'imag',\n",
              " 'numerator',\n",
              " 'real',\n",
              " 'to_bytes']"
            ]
          },
          "metadata": {},
          "execution_count": 4
        }
      ]
    },
    {
      "cell_type": "code",
      "source": [
        "##LAB 9-1 /문제_5\n",
        "dir(list)"
      ],
      "metadata": {
        "colab": {
          "base_uri": "https://localhost:8080/"
        },
        "id": "VS3KFwof4DFd",
        "outputId": "2758c7a2-78c8-4b10-9130-f689ec95678a"
      },
      "execution_count": 6,
      "outputs": [
        {
          "output_type": "execute_result",
          "data": {
            "text/plain": [
              "['__add__',\n",
              " '__class__',\n",
              " '__contains__',\n",
              " '__delattr__',\n",
              " '__delitem__',\n",
              " '__dir__',\n",
              " '__doc__',\n",
              " '__eq__',\n",
              " '__format__',\n",
              " '__ge__',\n",
              " '__getattribute__',\n",
              " '__getitem__',\n",
              " '__gt__',\n",
              " '__hash__',\n",
              " '__iadd__',\n",
              " '__imul__',\n",
              " '__init__',\n",
              " '__init_subclass__',\n",
              " '__iter__',\n",
              " '__le__',\n",
              " '__len__',\n",
              " '__lt__',\n",
              " '__mul__',\n",
              " '__ne__',\n",
              " '__new__',\n",
              " '__reduce__',\n",
              " '__reduce_ex__',\n",
              " '__repr__',\n",
              " '__reversed__',\n",
              " '__rmul__',\n",
              " '__setattr__',\n",
              " '__setitem__',\n",
              " '__sizeof__',\n",
              " '__str__',\n",
              " '__subclasshook__',\n",
              " 'append',\n",
              " 'clear',\n",
              " 'copy',\n",
              " 'count',\n",
              " 'extend',\n",
              " 'index',\n",
              " 'insert',\n",
              " 'pop',\n",
              " 'remove',\n",
              " 'reverse',\n",
              " 'sort']"
            ]
          },
          "metadata": {},
          "execution_count": 6
        }
      ]
    },
    {
      "cell_type": "code",
      "source": [
        "##LAB 9-3\n",
        "\n",
        "1.클래스\n",
        "#이렇게 객체를 사용한 프로그래밍 언어를 객체 지향(object oriented) 언어라고 \n",
        "#부르며 평소에 자주 사용되는 list, dict 등도 모두 각자의 용도에 맞게 만들어진 클래스 입니다.\n",
        "2.객체\n",
        "#파이썬은 모든것이 객체입니다.객체는 어떠한 속성값과 행동을 가지고 있는 데이터입니다. \n",
        "#파이썬의 모든것들(숫자, 문자, 함수 등)은 여러 속성과 행동을 가지고 있는 데이터입니다.\n",
        "3.인스턴스\n",
        "#클래스(class)의 객체(object)가 소프트웨어에 실체화되면 이제 그것을 인스턴스(instance)라고 부릅니다.\n",
        "4.클래스의 속성\n",
        "#클래스 속성은 메서드와 동일 단계에 작성하게 됩니다.\n",
        "#self를 사용하지 않고 정의합니다. 그러므로 모든 클래스에 동일하게 영향을 미칩니다. \n",
        "#인스턴스가 생성될 때 초기화되지 않으므로, 클래스명.클래스 속성으로 참조가 가능합니다.\n",
        "5.클래스의 동작\n",
        "#클래스안에 있는 메소드\n",
        "\n"
      ],
      "metadata": {
        "id": "-04iMWfa4DHu"
      },
      "execution_count": null,
      "outputs": []
    },
    {
      "cell_type": "code",
      "source": [
        "##LAB 9-4\n",
        "class Dog:\n",
        "  def bark(self):\n",
        "    \n",
        "    print(\"멍멍>>\")\n",
        "my_dog = Dog()\n",
        "my_dog.bark()\n",
        "\n",
        "    \n"
      ],
      "metadata": {
        "colab": {
          "base_uri": "https://localhost:8080/"
        },
        "id": "eUKLf_5A4DKA",
        "outputId": "4d2ba871-48a8-4979-b67e-fb1206dc324a"
      },
      "execution_count": 11,
      "outputs": [
        {
          "output_type": "stream",
          "name": "stdout",
          "text": [
            "멍멍>>\n"
          ]
        }
      ]
    },
    {
      "cell_type": "code",
      "source": [
        "##LAB 9-5\n",
        "class Dog:\n",
        "  def __init__(self, name):\n",
        "    self.name = name\n",
        "  def bark(self):\n",
        "    print(self.name ,\": 멍멍>>\")\n",
        "\n",
        "my_dog = Dog('Jindo')\n",
        "my_dog.bark()"
      ],
      "metadata": {
        "colab": {
          "base_uri": "https://localhost:8080/"
        },
        "id": "1DwuoxDo4DMV",
        "outputId": "33171192-d3d1-4a8f-ab41-f56b6f26c2e6"
      },
      "execution_count": 12,
      "outputs": [
        {
          "output_type": "stream",
          "name": "stdout",
          "text": [
            "Jindo : 멍멍>>\n"
          ]
        }
      ]
    },
    {
      "cell_type": "code",
      "source": [
        "##LAB 9-6\n",
        "class Dog:\n",
        "  def __init__(self, name):\n",
        "    self.name = name\n",
        "  def __str__(self):\n",
        "    return 'my_dog의 정보 : Dog(name = '+self.name+')'\n",
        "\n",
        "Jindo0 = Dog('Jindo')\n",
        "print(Jindo0)"
      ],
      "metadata": {
        "colab": {
          "base_uri": "https://localhost:8080/"
        },
        "id": "0lF_tFRZ4DOh",
        "outputId": "a08d2c7b-0084-4789-8f25-a01301607aa3"
      },
      "execution_count": 16,
      "outputs": [
        {
          "output_type": "stream",
          "name": "stdout",
          "text": [
            "my_dog의 정보 : Dog(name = Jindo)\n"
          ]
        }
      ]
    },
    {
      "cell_type": "code",
      "source": [
        "##LAB 9-7\n",
        "n = 100\n",
        "m = 100\n",
        "if n is m:\n",
        "    print('n is m')\n",
        "else:\n",
        "    print('n is not m')"
      ],
      "metadata": {
        "colab": {
          "base_uri": "https://localhost:8080/"
        },
        "id": "jMahP_AD4DQk",
        "outputId": "8572ddc8-8b09-4694-f0cc-658e89624e67"
      },
      "execution_count": 17,
      "outputs": [
        {
          "output_type": "stream",
          "name": "stdout",
          "text": [
            "n is m\n"
          ]
        }
      ]
    },
    {
      "cell_type": "code",
      "source": [
        "##LAB 9-8 /문제_1\n",
        "class Vector2D:\n",
        "  def __init__(self,x,y):\n",
        "    self.x = x\n",
        "    self.y = y\n",
        "  \n",
        "  def __str__(self):\n",
        "    return \"({},{})\".format(self.x, self.y)\n",
        "  \n",
        "  def __mul__(self, other):\n",
        "    return Vector2D(self.x * other.x , self.y * other.y)\n",
        "  \n",
        "  def __truediv__(self, other):\n",
        "    return Vector2D(self.x / other.x , self.y / other.y)\n",
        "  \n",
        "  \n",
        "\n",
        "v1 = Vector2D(30, 40)\n",
        "v2 = Vector2D(10, 20)\n",
        "v3 = v1 * v2\n",
        "v4 = v1 / v2\n",
        "print('v1 * v2 = ',v3)\n",
        "print('v1 / v2 = ',v4)\n"
      ],
      "metadata": {
        "colab": {
          "base_uri": "https://localhost:8080/"
        },
        "id": "36-ZzwOX4DSo",
        "outputId": "533bc26a-9d64-4ceb-f9af-79c9f45d89bd"
      },
      "execution_count": 18,
      "outputs": [
        {
          "output_type": "stream",
          "name": "stdout",
          "text": [
            "v1 * v2 =  (300,800)\n",
            "v1 / v2 =  (3.0,2.0)\n"
          ]
        }
      ]
    },
    {
      "cell_type": "code",
      "source": [
        "##LAB 9-8 /문제_2\n",
        "class Vector2D:\n",
        "  def __init__(self, x, y):\n",
        "    self.x = x\n",
        "    self.y = y\n",
        "    \n",
        "  def __str__(self):\n",
        "    return \"({},{})\".format(self.x, self.y)\n",
        "  \n",
        "  def __neg__(self):\n",
        "    return Vector2D(-self.x , -self.y)\n",
        "\n",
        "v1 = Vector2D(10, 20)\n",
        "v1 = -v1\n",
        "print(\"-v1 = \",v1)"
      ],
      "metadata": {
        "colab": {
          "base_uri": "https://localhost:8080/"
        },
        "id": "B2LgOci1_lmi",
        "outputId": "84399f4d-e893-4305-f639-7f37ec674af2"
      },
      "execution_count": 19,
      "outputs": [
        {
          "output_type": "stream",
          "name": "stdout",
          "text": [
            "-v1 =  (-10,-20)\n"
          ]
        }
      ]
    },
    {
      "cell_type": "code",
      "source": [
        "##LAB 9-9\n",
        "class Vector2D:\n",
        "  def __init__(self, x, y):\n",
        "    self.x = x\n",
        "    self.y = y\n",
        "  \n",
        "  def __gt__(self, other):\n",
        "    return pow(self.x,2) + pow(self.y,2) > pow(other.x,2) + pow(other.y,2)\n",
        "  \n",
        "  def __ge__(self, other):\n",
        "    return pow(self.x,2) + pow(self.y,2) >= pow(other.x,2) + pow(other.y,2)\n",
        "\n",
        "  def __lt__(self, other):\n",
        "    return pow(self.x,2) + pow(self.y,2) < pow(other.x,2) + pow(other.y,2)\n",
        "  \n",
        "  def __le__(self, other):\n",
        "    return pow(self.x,2) + pow(self.y,2) >= pow(other.x,2) + pow(other.y,2)\n",
        "  \n",
        "  \n",
        "v1 = Vector2D(30, 40)\n",
        "v2 = Vector2D(45, 35)\n",
        "v3 = v1 > v2\n",
        "print(\"v1 > v2 = \", v3)\n",
        "v3 = v1 >= v2\n",
        "print(\"v1 >= v2 = \", v3)\n",
        "v3 = v1 < v2\n",
        "print(\"v1 < v2 = \", v3)\n",
        "v3 = v1 <= v2\n",
        "print(\"v1 <= v2 = \", v3)"
      ],
      "metadata": {
        "colab": {
          "base_uri": "https://localhost:8080/"
        },
        "id": "gMhn3Cg-_lo9",
        "outputId": "04bede02-a5be-43cd-9523-c58ea26c4473"
      },
      "execution_count": 20,
      "outputs": [
        {
          "output_type": "stream",
          "name": "stdout",
          "text": [
            "v1 > v2 =  False\n",
            "v1 >= v2 =  False\n",
            "v1 < v2 =  True\n",
            "v1 <= v2 =  False\n"
          ]
        }
      ]
    },
    {
      "cell_type": "code",
      "source": [
        "##LAB 9-10 /문제_1\n",
        "class Rect:\n",
        "    def __init__(self, width, height):\n",
        "        self.width = width\n",
        "        self.height = height\n",
        "r1 = Rect(100, 200)\n",
        "print(r1.__dict__)\n",
        "print(r1.__dict__['width'])"
      ],
      "metadata": {
        "colab": {
          "base_uri": "https://localhost:8080/"
        },
        "id": "Ay-oTbGe_lrh",
        "outputId": "2c9efc70-b068-4a64-aee9-b2ce24c440cf"
      },
      "execution_count": 21,
      "outputs": [
        {
          "output_type": "stream",
          "name": "stdout",
          "text": [
            "{'width': 100, 'height': 200}\n",
            "100\n"
          ]
        }
      ]
    },
    {
      "cell_type": "code",
      "source": [
        "##LAB 9-10 /문제_2\n",
        "class Rect:\n",
        "    def __init__(self, width, height):\n",
        "        self.width = width\n",
        "        self.height = height\n",
        "\n",
        "r1 = Rect(100, 200)\n",
        "print(r1.__dict__)\n",
        "print(r1.__dict__['_Rect__width'])"
      ],
      "metadata": {
        "colab": {
          "base_uri": "https://localhost:8080/",
          "height": 218
        },
        "id": "ewwEnCc__lt_",
        "outputId": "f6e18ffa-a3fb-4f94-e7b4-30db9fce443d"
      },
      "execution_count": 22,
      "outputs": [
        {
          "output_type": "stream",
          "name": "stdout",
          "text": [
            "{'width': 100, 'height': 200}\n"
          ]
        },
        {
          "output_type": "error",
          "ename": "KeyError",
          "evalue": "ignored",
          "traceback": [
            "\u001b[0;31m---------------------------------------------------------------------------\u001b[0m",
            "\u001b[0;31mKeyError\u001b[0m                                  Traceback (most recent call last)",
            "\u001b[0;32m<ipython-input-22-314e9b793fa6>\u001b[0m in \u001b[0;36m<module>\u001b[0;34m\u001b[0m\n\u001b[1;32m      7\u001b[0m \u001b[0mr1\u001b[0m \u001b[0;34m=\u001b[0m \u001b[0mRect\u001b[0m\u001b[0;34m(\u001b[0m\u001b[0;36m100\u001b[0m\u001b[0;34m,\u001b[0m \u001b[0;36m200\u001b[0m\u001b[0;34m)\u001b[0m\u001b[0;34m\u001b[0m\u001b[0;34m\u001b[0m\u001b[0m\n\u001b[1;32m      8\u001b[0m \u001b[0mprint\u001b[0m\u001b[0;34m(\u001b[0m\u001b[0mr1\u001b[0m\u001b[0;34m.\u001b[0m\u001b[0m__dict__\u001b[0m\u001b[0;34m)\u001b[0m\u001b[0;34m\u001b[0m\u001b[0;34m\u001b[0m\u001b[0m\n\u001b[0;32m----> 9\u001b[0;31m \u001b[0mprint\u001b[0m\u001b[0;34m(\u001b[0m\u001b[0mr1\u001b[0m\u001b[0;34m.\u001b[0m\u001b[0m__dict__\u001b[0m\u001b[0;34m[\u001b[0m\u001b[0;34m'_Rect__width'\u001b[0m\u001b[0;34m]\u001b[0m\u001b[0;34m)\u001b[0m\u001b[0;34m\u001b[0m\u001b[0;34m\u001b[0m\u001b[0m\n\u001b[0m",
            "\u001b[0;31mKeyError\u001b[0m: '_Rect__width'"
          ]
        }
      ]
    }
  ]
}