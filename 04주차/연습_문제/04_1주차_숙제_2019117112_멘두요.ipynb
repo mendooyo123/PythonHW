{
  "nbformat": 4,
  "nbformat_minor": 0,
  "metadata": {
    "colab": {
      "provenance": []
    },
    "kernelspec": {
      "name": "python3",
      "display_name": "Python 3"
    },
    "language_info": {
      "name": "python"
    }
  },
  "cells": [
    {
      "cell_type": "code",
      "execution_count": null,
      "metadata": {
        "colab": {
          "base_uri": "https://localhost:8080/"
        },
        "id": "azCH2lGosMkH",
        "outputId": "f6816c9b-255a-491b-b103-64ab23efb0e9"
      },
      "outputs": [
        {
          "output_type": "stream",
          "name": "stdout",
          "text": [
            "3 * 2 = 6\n",
            "3 * 3 = 9\n",
            "3 * 4 = 12\n",
            "3 * 5 = 15\n",
            "3 * 6 = 18\n",
            "5 * 2 = 10\n",
            "5 * 3 = 15\n",
            "5 * 4 = 20\n",
            "5 * 5 = 25\n",
            "5 * 6 = 30\n",
            "7 * 2 = 14\n",
            "7 * 3 = 21\n",
            "7 * 4 = 28\n",
            "7 * 5 = 35\n",
            "7 * 6 = 42\n"
          ]
        }
      ],
      "source": [
        "#문제_1\n",
        "list1 = [3, 5, 7]\n",
        "list2 = [2, 3, 4, 5, 6]\n",
        "for i in list1 :\n",
        "    for t in list2 :\n",
        "        print(i, '*', t, '=', i * t)"
      ]
    },
    {
      "cell_type": "code",
      "source": [
        "#문제_2\n",
        "a = [2, 3, 4, 5, 6]\n",
        "print('a = ', a)\n",
        "result = []\n",
        "list = len(a)\n",
        "for i in range(0, list):\n",
        "  result.append(a.pop())\n",
        "\n",
        "print('rev_a = ', result)"
      ],
      "metadata": {
        "colab": {
          "base_uri": "https://localhost:8080/"
        },
        "id": "_AlV7IZ9x1He",
        "outputId": "8406d29d-dfb2-4990-91d4-99538256388d"
      },
      "execution_count": null,
      "outputs": [
        {
          "output_type": "stream",
          "name": "stdout",
          "text": [
            "a =  [2, 3, 4, 5, 6]\n",
            "rev_a =  [6, 5, 4, 3, 2]\n"
          ]
        }
      ]
    },
    {
      "cell_type": "code",
      "source": [
        "#문제_3\n",
        "n_list = [10, 20, 30, 50, 60]\n",
        "sum = 0\n",
        "for i in n_list:\n",
        "  sum += i\n",
        "print('리스트 원소들: ', n_list)\n",
        "print('리스트 원소들의 합: ', sum)\n",
        "  \n"
      ],
      "metadata": {
        "colab": {
          "base_uri": "https://localhost:8080/"
        },
        "id": "ffiZkzQHz-NL",
        "outputId": "ba88720d-e34a-40dc-b9db-6f84c5a8677c"
      },
      "execution_count": null,
      "outputs": [
        {
          "output_type": "stream",
          "name": "stdout",
          "text": [
            "리스트 원소들:  [10, 20, 30, 50, 60]\n",
            "리스트 원소들의 합:  170\n"
          ]
        }
      ]
    },
    {
      "cell_type": "code",
      "source": [
        "#문제_4\n",
        "n_list = [10, 20, 30, 50, 60]\n",
        "print('리스트 원소들: ', n_list)\n",
        "max = 0\n",
        "for i in n_list:\n",
        "  if i > max:\n",
        "    max = i\n",
        "\n",
        "\n",
        "print('리스트 원소들 중 최댓값: ', max)"
      ],
      "metadata": {
        "colab": {
          "base_uri": "https://localhost:8080/"
        },
        "id": "hIyN-WWy3jL4",
        "outputId": "c8f7387c-8012-4587-f57e-0151af74d405"
      },
      "execution_count": null,
      "outputs": [
        {
          "output_type": "stream",
          "name": "stdout",
          "text": [
            "리스트 원소들:  [10, 20, 30, 50, 60]\n",
            "리스트 원소들 중 최댓값:  60\n"
          ]
        }
      ]
    },
    {
      "cell_type": "code",
      "source": [
        "#문제_5_1\n",
        "s_list = ['abc', 'bcd', 'bcdefg', 'abba', 'cddc', 'opq']\n",
        "min = s_list[0]\n",
        "max = s_list[0]\n",
        "for i in range(1, len(s_list)):\n",
        "  if len(min) > len(s_list[i]):\n",
        "    min = s_list[i]\n",
        "  if len(max) < len(s_list[i]):\n",
        "    max = s_list[i]\n",
        "\n",
        "\n",
        "print('가장 길이가 짧은 문자열: ', min)\n",
        "print('가장 길이가 긴 문자열: ', max)"
      ],
      "metadata": {
        "colab": {
          "base_uri": "https://localhost:8080/"
        },
        "id": "A5wMPPqZ4miU",
        "outputId": "1c9a2f9c-8c50-41fb-fcfb-04c80e1b1d39"
      },
      "execution_count": null,
      "outputs": [
        {
          "output_type": "stream",
          "name": "stdout",
          "text": [
            "가장 길이가 짧은 문자열:  abc\n",
            "가장 길이가 긴 문자열:  bcdefg\n"
          ]
        }
      ]
    },
    {
      "cell_type": "code",
      "source": [
        "#문제_5_2\n",
        "s_list = ['abc', 'bcd', 'bcdefg', 'abba', 'cddc', 'opq']\n",
        "s_list.sort(key=len)\n",
        "\n",
        "print('가장 길이가 짧은 문자열: ', s_list)\n",
        "print('가장 길이가 짧은 문자열: ', s_list[0:3])"
      ],
      "metadata": {
        "colab": {
          "base_uri": "https://localhost:8080/"
        },
        "id": "KTZ_cUbGCzo8",
        "outputId": "0397adab-a07c-42ac-8d04-3ab8375aa614"
      },
      "execution_count": null,
      "outputs": [
        {
          "output_type": "stream",
          "name": "stdout",
          "text": [
            "가장 길이가 짧은 문자열:  ['abc', 'bcd', 'opq', 'abba', 'cddc', 'bcdefg']\n",
            "가장 길이가 짧은 문자열:  ['abc', 'bcd', 'opq']\n"
          ]
        }
      ]
    },
    {
      "cell_type": "code",
      "source": [
        "#문졔_5_3\n",
        "li = list(map(int,input(\"5개의 수를 입력하세요: \").split()))\n",
        "\n",
        "m = li[0]\n",
        "for i in li:\n",
        "  if i < m:\n",
        "    m = i\n",
        "    print('최소값: ', m)\n",
        "  if i > m:\n",
        "    m = i\n",
        "    print('최대값: ', m)\n"
      ],
      "metadata": {
        "id": "YCcJ6do6JOc3",
        "colab": {
          "base_uri": "https://localhost:8080/"
        },
        "outputId": "31247b3f-abb6-4f1e-f19a-6b2416d4e7d6"
      },
      "execution_count": null,
      "outputs": [
        {
          "output_type": "stream",
          "name": "stdout",
          "text": [
            "5개의 수를 입력하세요: 45 67 20 34 2\n",
            "최대값:  67\n",
            "최소값:  20\n",
            "최대값:  34\n",
            "최소값:  2\n"
          ]
        }
      ]
    },
    {
      "cell_type": "code",
      "source": [
        "#문제_6\n",
        "N=int(input(\"n을 입력하세요 : \"))\n",
        "n=list(map(int,input(f\"{N}개의 수를 입력하세요: \").split()))\n",
        "\n",
        "s = 0\n",
        "for i in n:\n",
        "    s+=i    #합 계산\n",
        "f = s/len(n)    #평균계산\n",
        "\n",
        "m1=m2=n[0]  #m1:최대값, m2:최소값\n",
        "for i in n:\n",
        "    if m1<i: #최대값 찾기\n",
        "        m1=i\n",
        "\n",
        "    if m2>i: #최소값 찾기\n",
        "        m2=i\n",
        "\n",
        "print('합 :', s)\n",
        "print('평균 :', f)\n",
        "print('최대값 :', m1)\n",
        "print('최소값 :', m2)"
      ],
      "metadata": {
        "colab": {
          "base_uri": "https://localhost:8080/"
        },
        "id": "PPvMHpjIAb38",
        "outputId": "505df177-1c9b-4bf4-bba6-ecc0566f6c32"
      },
      "execution_count": null,
      "outputs": [
        {
          "output_type": "stream",
          "name": "stdout",
          "text": [
            "n을 입력하세요 : 3\n",
            "3개의 수를 입력하세요: 45 67 2\n",
            "합 : 114\n",
            "평균 : 38.0\n",
            "최대값 : 67\n",
            "최소값 : 2\n"
          ]
        }
      ]
    },
    {
      "cell_type": "code",
      "source": [
        "#문제_7\n",
        "animals = ['dog', 'cat', 'tiger', 'lion']\n",
        "print(\"animals =\", animals)\n",
        "animals.pop(0)\n",
        "animals.insert(3, 'dog')\n",
        "print(\"animals =\", animals)\n",
        "for i in animals:\n",
        "  print(\"I love {}.\".format(i))\n",
        "\n"
      ],
      "metadata": {
        "colab": {
          "base_uri": "https://localhost:8080/"
        },
        "id": "MuBAFaqcFmzb",
        "outputId": "1b285667-962a-4110-f6d4-1c53f1caf3f6"
      },
      "execution_count": null,
      "outputs": [
        {
          "output_type": "stream",
          "name": "stdout",
          "text": [
            "animals = ['dog', 'cat', 'tiger', 'lion']\n",
            "animals = ['cat', 'tiger', 'lion', 'dog']\n",
            "I love cat.\n",
            "I love tiger.\n",
            "I love lion.\n",
            "I love dog.\n"
          ]
        }
      ]
    },
    {
      "cell_type": "code",
      "source": [
        "#문제_8\n",
        "s_list = ['abc', 'bcd', 'abba', 'cddc', 'opq', 'opq']\n",
        "print(\"s_list =\", s_list)\n",
        "s_list.pop(5)\n",
        "new_list = list(s_list)\n",
        "\n",
        "print(\"new_list =\", new_list)"
      ],
      "metadata": {
        "colab": {
          "base_uri": "https://localhost:8080/"
        },
        "id": "Kty7ikQtPumK",
        "outputId": "a912f9a1-ea97-4936-bfde-eebd58daa947"
      },
      "execution_count": null,
      "outputs": [
        {
          "output_type": "stream",
          "name": "stdout",
          "text": [
            "s_list = ['abc', 'bcd', 'abba', 'cddc', 'opq', 'opq']\n",
            "new_list = ['abc', 'bcd', 'abba', 'cddc', 'opq']\n"
          ]
        }
      ]
    },
    {
      "cell_type": "code",
      "source": [
        "#문제_9\n",
        "src = input('src = ')\n",
        "\n",
        "result = src[0]\n",
        "count  = 0\n",
        "\n",
        "for i in src:\n",
        "    if i == result[-1]:\n",
        "        count += 1\n",
        "    else:\n",
        "        result += str(count) + i\n",
        "        count = 1\n",
        "result += str(count)\n",
        "print(\"output = '{}' \". format(result))"
      ],
      "metadata": {
        "colab": {
          "base_uri": "https://localhost:8080/"
        },
        "id": "3M87X5RScugz",
        "outputId": "9efed9cc-f900-483b-ec58-a4c66f1742ea"
      },
      "execution_count": null,
      "outputs": [
        {
          "output_type": "stream",
          "name": "stdout",
          "text": [
            "src = aaaabbb\n",
            "src = 'aaaabbb' \n",
            "output = 'a4b3' \n"
          ]
        }
      ]
    },
    {
      "cell_type": "code",
      "source": [
        "#문제_10\n",
        "src = input('src = ')\n",
        "s = [src[i] for i in range(len(src)) if i%2 == 0]\n",
        "n = [int(src[i]) for i in range(len(src)) if i%2 != 0]\n",
        "res = ''\n",
        "for i in range(len(n)):\n",
        "    for j in range(n[i]):\n",
        "        res += s[i]\n",
        "print('output = '+res)"
      ],
      "metadata": {
        "colab": {
          "base_uri": "https://localhost:8080/"
        },
        "id": "UupZGHNUeVjq",
        "outputId": "a85081af-d14d-40bf-eeeb-1be26234d3a8"
      },
      "execution_count": null,
      "outputs": [
        {
          "output_type": "stream",
          "name": "stdout",
          "text": [
            "src = a2b3c6a2c4f1g1\n",
            "output = aabbbccccccaaccccfg\n"
          ]
        }
      ]
    }
  ]
}