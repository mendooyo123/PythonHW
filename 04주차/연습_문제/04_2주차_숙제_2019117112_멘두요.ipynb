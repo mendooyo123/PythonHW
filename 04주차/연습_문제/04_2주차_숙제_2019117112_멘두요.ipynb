{
  "nbformat": 4,
  "nbformat_minor": 0,
  "metadata": {
    "colab": {
      "provenance": []
    },
    "kernelspec": {
      "name": "python3",
      "display_name": "Python 3"
    },
    "language_info": {
      "name": "python"
    }
  },
  "cells": [
    {
      "cell_type": "code",
      "execution_count": null,
      "metadata": {
        "id": "t1rrnlHesWK_",
        "colab": {
          "base_uri": "https://localhost:8080/"
        },
        "outputId": "3801d589-2e3f-4494-d333-d9aaa270bac3"
      },
      "outputs": [
        {
          "output_type": "stream",
          "name": "stdout",
          "text": [
            "before :  [5, 6, 3, 9, 2, 12, 3, 8, 7]\n",
            "after :  [5, 6, 3, 9, 2, 3, 8, 7, 12]\n"
          ]
        }
      ],
      "source": [
        "#문제_1\n",
        "aa = [5, 6, 3, 9, 2, 12, 3, 8, 7]\n",
        "bb = [5, 6, 3, 9, 2, 3, 8, 7, 12]\n",
        "print(\"before : \", aa)\n",
        "t1 = aa\n",
        "aa = bb\n",
        "bb = t1\n",
        "print(\"after : \", aa)"
      ]
    },
    {
      "cell_type": "code",
      "source": [
        "#문제_2\n",
        "def bubble_sort(array):\n",
        "    for i in range(len(array)):\n",
        "        for j in range(len(array)-i-1):\n",
        "            if (array[j] > array[j+1]):\n",
        "                temp = array[j]\n",
        "                array[j] =array[j+1]\n",
        "                array[j+1] = temp\n",
        "            print(array)\n",
        "array = [5, 6, 3, 9, 2, 12, 3, 8, 7]\n",
        "print(\"주어진 리스트는 = \", array)\n",
        "bubble_sort(array)\n",
        "print(\"정렬된 결과는  = \", array)"
      ],
      "metadata": {
        "colab": {
          "base_uri": "https://localhost:8080/"
        },
        "id": "u8pjlAsxSipb",
        "outputId": "66cf66b9-edab-4c26-f535-8c0e0c0e6cca"
      },
      "execution_count": null,
      "outputs": [
        {
          "output_type": "stream",
          "name": "stdout",
          "text": [
            "주어진 리스트는 =  [5, 6, 3, 9, 2, 12, 3, 8, 7]\n",
            "[5, 6, 3, 9, 2, 12, 3, 8, 7]\n",
            "[5, 3, 6, 9, 2, 12, 3, 8, 7]\n",
            "[5, 3, 6, 9, 2, 12, 3, 8, 7]\n",
            "[5, 3, 6, 2, 9, 12, 3, 8, 7]\n",
            "[5, 3, 6, 2, 9, 12, 3, 8, 7]\n",
            "[5, 3, 6, 2, 9, 3, 12, 8, 7]\n",
            "[5, 3, 6, 2, 9, 3, 8, 12, 7]\n",
            "[5, 3, 6, 2, 9, 3, 8, 7, 12]\n",
            "[3, 5, 6, 2, 9, 3, 8, 7, 12]\n",
            "[3, 5, 6, 2, 9, 3, 8, 7, 12]\n",
            "[3, 5, 2, 6, 9, 3, 8, 7, 12]\n",
            "[3, 5, 2, 6, 9, 3, 8, 7, 12]\n",
            "[3, 5, 2, 6, 3, 9, 8, 7, 12]\n",
            "[3, 5, 2, 6, 3, 8, 9, 7, 12]\n",
            "[3, 5, 2, 6, 3, 8, 7, 9, 12]\n",
            "[3, 5, 2, 6, 3, 8, 7, 9, 12]\n",
            "[3, 2, 5, 6, 3, 8, 7, 9, 12]\n",
            "[3, 2, 5, 6, 3, 8, 7, 9, 12]\n",
            "[3, 2, 5, 3, 6, 8, 7, 9, 12]\n",
            "[3, 2, 5, 3, 6, 8, 7, 9, 12]\n",
            "[3, 2, 5, 3, 6, 7, 8, 9, 12]\n",
            "[2, 3, 5, 3, 6, 7, 8, 9, 12]\n",
            "[2, 3, 5, 3, 6, 7, 8, 9, 12]\n",
            "[2, 3, 3, 5, 6, 7, 8, 9, 12]\n",
            "[2, 3, 3, 5, 6, 7, 8, 9, 12]\n",
            "[2, 3, 3, 5, 6, 7, 8, 9, 12]\n",
            "[2, 3, 3, 5, 6, 7, 8, 9, 12]\n",
            "[2, 3, 3, 5, 6, 7, 8, 9, 12]\n",
            "[2, 3, 3, 5, 6, 7, 8, 9, 12]\n",
            "[2, 3, 3, 5, 6, 7, 8, 9, 12]\n",
            "[2, 3, 3, 5, 6, 7, 8, 9, 12]\n",
            "[2, 3, 3, 5, 6, 7, 8, 9, 12]\n",
            "[2, 3, 3, 5, 6, 7, 8, 9, 12]\n",
            "[2, 3, 3, 5, 6, 7, 8, 9, 12]\n",
            "[2, 3, 3, 5, 6, 7, 8, 9, 12]\n",
            "[2, 3, 3, 5, 6, 7, 8, 9, 12]\n",
            "정렬된 결과는  =  [2, 3, 3, 5, 6, 7, 8, 9, 12]\n"
          ]
        }
      ]
    },
    {
      "cell_type": "code",
      "source": [
        "#문제_3\n",
        "word = input('문자열을 입력하세요: ')\n",
        " \n",
        "is_palindrome = '회문입니다'                 # 회문 판별값을 저장할 변수, 초깃값은 True\n",
        "for i in range(len(word) // 2):      # 0부터 문자열 길이의 절반만큼 반복\n",
        "    if word[i] != word[-1 - i]:      # 왼쪽 문자와 오른쪽 문자를 비교하여 문자가 다르면\n",
        "        is_palindrome = '회문이 아닙니다'        # 회문이 아님\n",
        "        break\n",
        " \n",
        "print(is_palindrome)      "
      ],
      "metadata": {
        "colab": {
          "base_uri": "https://localhost:8080/"
        },
        "id": "Dglwyns1WNvA",
        "outputId": "5eb7a4b1-eed3-48f9-b7b2-098c4c7d77cc"
      },
      "execution_count": null,
      "outputs": [
        {
          "output_type": "stream",
          "name": "stdout",
          "text": [
            "문자열을 입력하세요: A nut for a jar of tuna...\n",
            "회문이 아닙니다\n"
          ]
        }
      ]
    },
    {
      "cell_type": "code",
      "source": [
        "#문제_4\n",
        "print(\"사전 프로그램 시작... 종료는 q를 입력\")\n",
        "dictionary = {}\n",
        "\n",
        "while True:\n",
        "    st = input('$ ')\n",
        "    command = st[0]       # 첫 입력 문자를 추출한다\n",
        "    if command == '<':\n",
        "        st = st[1:]\n",
        "        inputStr = st.split(':')\n",
        "        if len(inputStr) < 2 :\n",
        "            print('입력 오류가 발생했습니다.')\n",
        "        else:\n",
        "            dictionary[inputStr[0].strip()] = inputStr[1].strip()\n",
        "    elif command == '>':\n",
        "        st = st[1:]\n",
        "        inputStr = st.strip()\n",
        "        if inputStr in dictionary:\n",
        "            print(dictionary[inputStr])\n",
        "        else :\n",
        "            print('{}가 사전에 없습니다.'.format(inputStr))\n",
        "    elif command == 'q':\n",
        "       break\n",
        "    else :\n",
        "        print('입력 오류가 발생했습니다.')\n",
        "print(\"사전 프로그램을 종료합니다.\")"
      ],
      "metadata": {
        "colab": {
          "base_uri": "https://localhost:8080/"
        },
        "id": "hhYvyAGxdgh4",
        "outputId": "590545c1-8554-4224-ee41-ab6617ad3618"
      },
      "execution_count": null,
      "outputs": [
        {
          "output_type": "stream",
          "name": "stdout",
          "text": [
            "사전 프로그램 시작... 종료는 q를 입력\n",
            "$ < boy:소년\n",
            "$ < girl:소녀\n",
            "$ < man:남자, 사람\n",
            "$ <woman:여자\n",
            "$ < house:집\n",
            "$ < Korea:한국\n",
            "$ >boy\n",
            "소년\n",
            "$ > boy\n",
            "소년\n",
            "$ > body\n",
            "body가 사전에 없습니다.\n",
            "$ man\n",
            "입력 오류가 발생했습니다.\n",
            "$ > man\n",
            "남자, 사람\n",
            "$ q\n",
            "사전 프로그램을 종료합니다.\n"
          ]
        }
      ]
    },
    {
      "cell_type": "code",
      "source": [
        "mylist = {1:(0,1), 2:(2,3), 3:(4,2), 4:(4,3), 5:(9,4)}\n",
        "input('2 정수를 입력하세요: ')\n",
        "\n",
        "if x in mylist:\n",
        "  print(\"번째에\")\n"
      ],
      "metadata": {
        "colab": {
          "base_uri": "https://localhost:8080/",
          "height": 253
        },
        "id": "x1JUW4wdm5Gf",
        "outputId": "5b1dc00c-ae69-4695-d062-3bfdab5de26d"
      },
      "execution_count": null,
      "outputs": [
        {
          "name": "stdout",
          "output_type": "stream",
          "text": [
            "2 정수를 입력하세요: 0 1\n"
          ]
        },
        {
          "output_type": "error",
          "ename": "NameError",
          "evalue": "ignored",
          "traceback": [
            "\u001b[0;31m---------------------------------------------------------------------------\u001b[0m",
            "\u001b[0;31mNameError\u001b[0m                                 Traceback (most recent call last)",
            "\u001b[0;32m<ipython-input-53-de1ee10ebe04>\u001b[0m in \u001b[0;36m<module>\u001b[0;34m\u001b[0m\n\u001b[1;32m      1\u001b[0m \u001b[0mmylist\u001b[0m \u001b[0;34m=\u001b[0m \u001b[0;34m{\u001b[0m\u001b[0;36m1\u001b[0m\u001b[0;34m:\u001b[0m\u001b[0;34m(\u001b[0m\u001b[0;36m0\u001b[0m\u001b[0;34m,\u001b[0m\u001b[0;36m1\u001b[0m\u001b[0;34m)\u001b[0m\u001b[0;34m,\u001b[0m \u001b[0;36m2\u001b[0m\u001b[0;34m:\u001b[0m\u001b[0;34m(\u001b[0m\u001b[0;36m2\u001b[0m\u001b[0;34m,\u001b[0m\u001b[0;36m3\u001b[0m\u001b[0;34m)\u001b[0m\u001b[0;34m,\u001b[0m \u001b[0;36m3\u001b[0m\u001b[0;34m:\u001b[0m\u001b[0;34m(\u001b[0m\u001b[0;36m4\u001b[0m\u001b[0;34m,\u001b[0m\u001b[0;36m2\u001b[0m\u001b[0;34m)\u001b[0m\u001b[0;34m,\u001b[0m \u001b[0;36m4\u001b[0m\u001b[0;34m:\u001b[0m\u001b[0;34m(\u001b[0m\u001b[0;36m4\u001b[0m\u001b[0;34m,\u001b[0m\u001b[0;36m3\u001b[0m\u001b[0;34m)\u001b[0m\u001b[0;34m,\u001b[0m \u001b[0;36m5\u001b[0m\u001b[0;34m:\u001b[0m\u001b[0;34m(\u001b[0m\u001b[0;36m9\u001b[0m\u001b[0;34m,\u001b[0m\u001b[0;36m4\u001b[0m\u001b[0;34m)\u001b[0m\u001b[0;34m}\u001b[0m\u001b[0;34m\u001b[0m\u001b[0;34m\u001b[0m\u001b[0m\n\u001b[1;32m      2\u001b[0m \u001b[0ma\u001b[0m\u001b[0;34m,\u001b[0m \u001b[0mb\u001b[0m \u001b[0;34m=\u001b[0m \u001b[0minput\u001b[0m\u001b[0;34m(\u001b[0m\u001b[0;34m'2 정수를 입력하세요: '\u001b[0m\u001b[0;34m)\u001b[0m\u001b[0;34m.\u001b[0m\u001b[0msplit\u001b[0m\u001b[0;34m(\u001b[0m\u001b[0;34m)\u001b[0m\u001b[0;34m\u001b[0m\u001b[0;34m\u001b[0m\u001b[0m\n\u001b[0;32m----> 3\u001b[0;31m \u001b[0ma\u001b[0m\u001b[0;34m,\u001b[0m \u001b[0mb\u001b[0m \u001b[0;34m=\u001b[0m \u001b[0mx\u001b[0m\u001b[0;34m\u001b[0m\u001b[0;34m\u001b[0m\u001b[0m\n\u001b[0m\u001b[1;32m      4\u001b[0m \u001b[0;32mif\u001b[0m \u001b[0mx\u001b[0m \u001b[0;32min\u001b[0m \u001b[0mmylist\u001b[0m\u001b[0;34m:\u001b[0m\u001b[0;34m\u001b[0m\u001b[0;34m\u001b[0m\u001b[0m\n\u001b[1;32m      5\u001b[0m   \u001b[0mprint\u001b[0m\u001b[0;34m(\u001b[0m\u001b[0;34m\"번째에\"\u001b[0m\u001b[0;34m)\u001b[0m\u001b[0;34m\u001b[0m\u001b[0;34m\u001b[0m\u001b[0m\n",
            "\u001b[0;31mNameError\u001b[0m: name 'x' is not defined"
          ]
        }
      ]
    },
    {
      "cell_type": "code",
      "source": [
        "#문제_7\n",
        "s = (1, 2, 5, 4, 3, 1, 1, 1, 3, 2, 1, 5, 7, 7)\n",
        "print(\"주어진 튜플: \", s)\n",
        "s = set(s)\n",
        "s\n",
        "print(\"중복 제거 튜플: \", s)"
      ],
      "metadata": {
        "colab": {
          "base_uri": "https://localhost:8080/"
        },
        "id": "zezRNpu6HD9p",
        "outputId": "e4aec0af-c5c1-4d66-eeef-5c3ce79ef9f5"
      },
      "execution_count": null,
      "outputs": [
        {
          "output_type": "stream",
          "name": "stdout",
          "text": [
            "주어진 튜플:  (1, 2, 5, 4, 3, 1, 1, 1, 3, 2, 1, 5, 7, 7)\n",
            "중복 제거 튜플:  {1, 2, 3, 4, 5, 7}\n"
          ]
        }
      ]
    },
    {
      "cell_type": "code",
      "source": [
        "#문제_8\n",
        "student_tuple = {\"191101\": \"홍길동\", \"191102\": \"임꺽정\", \"191103\": \"장길산\"}\n",
        "a = ('key1', 'val1')\n",
        "b = ('key2', 'val2')\n",
        "dictionary = dict((a, b))\n",
        "print(\"학생 정보: \", student_tuple)\n",
        "while True :\n",
        "      number = input(\"학번을 입력하세요  :\")\n",
        "      \n",
        "      if number in student_tuple:\n",
        "          print(\"%s번 학생은 %s입니다.\" % (number, student_tuple.get(number)))\n",
        "      elif number == \"-1\" :\n",
        "                print(\"프로그램을 종료합니다.\")\n",
        "                break\n",
        "                \n",
        "      else :\n",
        "          print(\"해당 학번의 학생이 없습니다.\")"
      ],
      "metadata": {
        "colab": {
          "base_uri": "https://localhost:8080/"
        },
        "id": "VDFixsESIymf",
        "outputId": "734993c3-6eaf-4199-cf03-62fc5af627df"
      },
      "execution_count": null,
      "outputs": [
        {
          "output_type": "stream",
          "name": "stdout",
          "text": [
            "학생 정보:  {'191101': '홍길동', '191102': '임꺽정', '191103': '장길산'}\n",
            "학번을 입력하세요  :191102\n",
            "191102번 학생은 임꺽정입니다.\n",
            "학번을 입력하세요  :191106\n",
            "해당 학번의 학생이 없습니다.\n",
            "학번을 입력하세요  :-1\n",
            "프로그램을 종료합니다.\n"
          ]
        }
      ]
    },
    {
      "cell_type": "code",
      "source": [
        "#문제_9\n",
        "population_A = [100,150,230,120,180,100,140,95,81,21,4]\n",
        "population_B = [300,420,530,420,400,300,40,5,1,1,1]\n",
        "\n",
        "\n",
        "sum_list1 = sum(population_A[2:])\n",
        "sum_list2 = sum(population_B[2:])\n",
        "print(\"마을 A와 B에 보낼 투표용지의 개수는 각각 %s 장과 %s 장입니다.\" % (sum_list1, sum_list2))\n",
        "\n",
        "sum_list3 = sum(population_A[7:])/sum(population_A)\n",
        "sum_list4 = sum(population_B[7:])/sum(population_B)\n",
        "print(\"마을 A와 B에 고령화 정도는 각각 %s와 %s입니다.\" % (round(sum_list3, 3), round(sum_list4, 3)))"
      ],
      "metadata": {
        "colab": {
          "base_uri": "https://localhost:8080/"
        },
        "id": "xe128jAoOo_s",
        "outputId": "bf664a58-1b2d-4805-da3a-819b242383bf"
      },
      "execution_count": null,
      "outputs": [
        {
          "output_type": "stream",
          "name": "stdout",
          "text": [
            "마을 A와 B에 보낼 투표용지의 개수는 각각 971 장과 1698 장입니다.\n",
            "마을 A와 B에 고령화 정도는 각각 0.165와 0.003입니다.\n"
          ]
        }
      ]
    },
    {
      "cell_type": "code",
      "source": [
        "#문제_10_1\n",
        "import string\n",
        " \n",
        "src_str = string.ascii_uppercase\n",
        "dst_str = src_str[3:] + src_str[:3]\n",
        "print(\"src_str = \",src_str)\n",
        "print(\"dst_str = \",dst_str)"
      ],
      "metadata": {
        "colab": {
          "base_uri": "https://localhost:8080/"
        },
        "id": "4_VYiT6iYAg0",
        "outputId": "a64f7f4e-fafe-45c9-8360-d61ba37d8f8a"
      },
      "execution_count": null,
      "outputs": [
        {
          "output_type": "stream",
          "name": "stdout",
          "text": [
            "src_str =  ABCDEFGHIJKLMNOPQRSTUVWXYZ\n",
            "dst_str =  DEFGHIJKLMNOPQRSTUVWXYZABC\n"
          ]
        }
      ]
    },
    {
      "cell_type": "code",
      "source": [
        "X = input(\"oruul: \")\n",
        "x = src_str.index('')\n",
        "\n",
        "\n",
        "print('src_str에서 {}는 dst_str의 {}가 된다.'.format(src_str[3:]))\n"
      ],
      "metadata": {
        "colab": {
          "base_uri": "https://localhost:8080/",
          "height": 218
        },
        "id": "SU-FqvIBibDk",
        "outputId": "29978a9f-7a9f-448f-8288-900458a82b1b"
      },
      "execution_count": null,
      "outputs": [
        {
          "name": "stdout",
          "output_type": "stream",
          "text": [
            "oruul: 0\n"
          ]
        },
        {
          "output_type": "error",
          "ename": "IndexError",
          "evalue": "ignored",
          "traceback": [
            "\u001b[0;31m---------------------------------------------------------------------------\u001b[0m",
            "\u001b[0;31mIndexError\u001b[0m                                Traceback (most recent call last)",
            "\u001b[0;32m<ipython-input-126-b12c003969ae>\u001b[0m in \u001b[0;36m<module>\u001b[0;34m\u001b[0m\n\u001b[1;32m      3\u001b[0m \u001b[0;34m\u001b[0m\u001b[0m\n\u001b[1;32m      4\u001b[0m \u001b[0;34m\u001b[0m\u001b[0m\n\u001b[0;32m----> 5\u001b[0;31m \u001b[0mprint\u001b[0m\u001b[0;34m(\u001b[0m\u001b[0;34m'src_str에서 {}는 dst_str의 {}가 된다.'\u001b[0m\u001b[0;34m.\u001b[0m\u001b[0mformat\u001b[0m\u001b[0;34m(\u001b[0m\u001b[0msrc_str\u001b[0m\u001b[0;34m[\u001b[0m\u001b[0;36m3\u001b[0m\u001b[0;34m:\u001b[0m\u001b[0;34m]\u001b[0m\u001b[0;34m)\u001b[0m\u001b[0;34m)\u001b[0m\u001b[0;34m\u001b[0m\u001b[0;34m\u001b[0m\u001b[0m\n\u001b[0m",
            "\u001b[0;31mIndexError\u001b[0m: tuple index out of range"
          ]
        }
      ]
    },
    {
      "cell_type": "code",
      "source": [
        "#문제_10_3\n",
        "sen = input(\"문장을 입력하시오: \")\n",
        "n = 3\n",
        "secret = ''\n",
        "\n",
        "for i in range(len(sen)):\n",
        "#입력 받은 문자가 알파벳이 아닐 때\n",
        "    if ord(sen[i]) < 65 or 90 < ord(sen[i]) < 97 or ord(sen[i]) > 122:\n",
        "        index = ord(sen[i])\n",
        "\n",
        "#ascii에서 n개 뒤에 오는 문자가 알파벳이 아닐 때, A(a)로 돌아가 카운트\n",
        "    elif ord(sen[i]) <= 90 and ord(sen[i])+n > 90:\n",
        "        index = ord(sen[i])+n-90+64\n",
        "\n",
        "    elif ord(sen[i]) >= 97 and ord(sen[i])+n > 122:\n",
        "        index = ord(sen[i])+n-122+96\n",
        "\n",
        "#그 외의 알파벳\n",
        "    else:\n",
        "        index = ord(sen[i])+n\n",
        "\n",
        "    secret += chr(index) \n",
        "\n",
        "print(\"암호화된 문장: \", secret)"
      ],
      "metadata": {
        "colab": {
          "base_uri": "https://localhost:8080/"
        },
        "id": "PoZ1etzgexZz",
        "outputId": "05df65aa-1fee-465c-d98e-73637391596a"
      },
      "execution_count": null,
      "outputs": [
        {
          "output_type": "stream",
          "name": "stdout",
          "text": [
            "문장을 입력하시오: ATTACK TONIGHT!\n",
            "암호화된 문장:  DWWDFN WRQLJKW!\n"
          ]
        }
      ]
    },
    {
      "cell_type": "code",
      "source": [
        "#문제_10_4\n",
        "sen = input(\"암호화된 문장을 입력하시오: \")\n",
        "n = -3\n",
        "secret = ''\n",
        "\n",
        "for i in range(len(sen)):\n",
        "#입력 받은 문자가 알파벳이 아닐 때\n",
        "    if ord(sen[i]) < 65 or 90 < ord(sen[i]) < 97 or ord(sen[i]) > 122:\n",
        "        index = ord(sen[i])\n",
        "\n",
        "#ascii에서 n개 뒤에 오는 문자가 알파벳이 아닐 때, A(a)로 돌아가 카운트\n",
        "    elif ord(sen[i]) <= 90 and ord(sen[i])+n > 90:\n",
        "        index = ord(sen[i])+n-90+64\n",
        "\n",
        "    elif ord(sen[i]) >= 97 and ord(sen[i])+n > 122:\n",
        "        index = ord(sen[i])+n-122+96\n",
        "\n",
        "#그 외의 알파벳\n",
        "    else:\n",
        "        index = ord(sen[i])+n\n",
        "\n",
        "    secret += chr(index) \n",
        "\n",
        "print(\"해독된 문장: \", secret)"
      ],
      "metadata": {
        "colab": {
          "base_uri": "https://localhost:8080/"
        },
        "id": "wTr8hnukgtd3",
        "outputId": "e0ae88ca-27e9-4b1d-a535-e5c38db6bf08"
      },
      "execution_count": null,
      "outputs": [
        {
          "output_type": "stream",
          "name": "stdout",
          "text": [
            "암호화된 문장을 입력하시오: DWWDFN WRQLJKW!\n",
            "해독된 문장:  ATTACK TONIGHT!\n"
          ]
        }
      ]
    }
  ]
}