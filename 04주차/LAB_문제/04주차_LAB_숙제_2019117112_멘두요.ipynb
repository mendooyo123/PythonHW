{
  "nbformat": 4,
  "nbformat_minor": 0,
  "metadata": {
    "colab": {
      "provenance": []
    },
    "kernelspec": {
      "name": "python3",
      "display_name": "Python 3"
    },
    "language_info": {
      "name": "python"
    }
  },
  "cells": [
    {
      "cell_type": "code",
      "source": [
        "##LAB 5-1 /문제_1\n",
        "even_list = [1, 2, 3, 4, 5, 6, 7, 8, 9, 10]\n",
        "print(\"even_list =\",[even_list[1],even_list[3],even_list[5],even_list[7],even_list[9]])"
      ],
      "metadata": {
        "colab": {
          "base_uri": "https://localhost:8080/"
        },
        "id": "qGmmpwvqoy0a",
        "outputId": "244227b2-e811-4d8f-ec75-e7157a75fd73"
      },
      "execution_count": null,
      "outputs": [
        {
          "output_type": "stream",
          "name": "stdout",
          "text": [
            "even_list = [2, 4, 6, 8, 10]\n"
          ]
        }
      ]
    },
    {
      "cell_type": "code",
      "execution_count": null,
      "metadata": {
        "colab": {
          "base_uri": "https://localhost:8080/"
        },
        "id": "FjlhNalcmesD",
        "outputId": "1cf1a499-ea58-4d27-b5d7-921b1b16165d"
      },
      "outputs": [
        {
          "output_type": "stream",
          "name": "stdout",
          "text": [
            "even_list = [2, 4, 6, 8, 10]\n"
          ]
        }
      ],
      "source": [
        "##LAB 5-1 /문제_2\n",
        "even_list = list(range(2,11,2))\n",
        "print(\"even_list =\", even_list)"
      ]
    },
    {
      "cell_type": "code",
      "source": [
        "##LAB 5-1 /문제_3\n",
        "nation_list = ['Korea', 'China', 'India', 'Nepal']\n",
        "print(\"nations =\",nation_list)"
      ],
      "metadata": {
        "colab": {
          "base_uri": "https://localhost:8080/"
        },
        "id": "w9hsR0PPoy21",
        "outputId": "8018909c-7a14-4111-b956-e8613b2897a1"
      },
      "execution_count": null,
      "outputs": [
        {
          "output_type": "stream",
          "name": "stdout",
          "text": [
            "nations = ['Korea', 'China', 'India', 'Nepal']\n"
          ]
        }
      ]
    },
    {
      "cell_type": "code",
      "source": [
        "##LAB 5-1 /문제_4\n",
        "friends = ['길동', '철수', '은지', '지은', '영민']\n",
        "print(\"friends =\",friends)"
      ],
      "metadata": {
        "colab": {
          "base_uri": "https://localhost:8080/"
        },
        "id": "cbX1wbEooy5b",
        "outputId": "41152799-a1cb-4e97-b50a-e8d3db81a94e"
      },
      "execution_count": null,
      "outputs": [
        {
          "output_type": "stream",
          "name": "stdout",
          "text": [
            "friends = ['길동', '철수', '은지', '지은', '영민']\n"
          ]
        }
      ]
    },
    {
      "cell_type": "code",
      "source": [
        "##LAB 5-1 /문제_5\n",
        "string = ['X', 'Y', 'Z']\n",
        "print(\"string =\",string)"
      ],
      "metadata": {
        "colab": {
          "base_uri": "https://localhost:8080/"
        },
        "id": "BoMn4ReVoy7z",
        "outputId": "26c5da24-1e85-423b-c24b-e472b46715ee"
      },
      "execution_count": null,
      "outputs": [
        {
          "output_type": "stream",
          "name": "stdout",
          "text": [
            "string = ['X', 'Y', 'Z']\n"
          ]
        }
      ]
    },
    {
      "cell_type": "code",
      "source": [
        "##LAB 5-2 /문제_1\n",
        "prime_list = ['2', '3', '5', '7']\n",
        "print(\"prime_list의 첫 원소:\",prime_list[0] )"
      ],
      "metadata": {
        "colab": {
          "base_uri": "https://localhost:8080/"
        },
        "id": "4jgrPikZoy9s",
        "outputId": "b6cc60e6-fcf1-4181-8aca-5693fa9165c6"
      },
      "execution_count": null,
      "outputs": [
        {
          "output_type": "stream",
          "name": "stdout",
          "text": [
            "prime_list의 첫 원소: 2\n"
          ]
        }
      ]
    },
    {
      "cell_type": "code",
      "source": [
        "##LAB 5-2 /문제_2\n",
        "prime_list = ['2', '3', '5', '7']\n",
        "print(\"prime_list의 마지막 원소:\",prime_list[3] )"
      ],
      "metadata": {
        "colab": {
          "base_uri": "https://localhost:8080/"
        },
        "id": "PWXKYoAnrYxF",
        "outputId": "0badc8db-5ab2-4be2-e861-7f544851f730"
      },
      "execution_count": null,
      "outputs": [
        {
          "output_type": "stream",
          "name": "stdout",
          "text": [
            "prime_list의 마지막 원소: 7\n"
          ]
        }
      ]
    },
    {
      "cell_type": "code",
      "source": [
        "##LAB 5-2 /문제_3\n",
        "prime_list = ['2', '3', '5', '7']\n",
        "print(\"prime_list의 마지막 원소:\",prime_list[-1] )"
      ],
      "metadata": {
        "colab": {
          "base_uri": "https://localhost:8080/"
        },
        "id": "qIuILW9srYzs",
        "outputId": "586b2aeb-300f-416c-dae2-6898ea5cbc68"
      },
      "execution_count": null,
      "outputs": [
        {
          "output_type": "stream",
          "name": "stdout",
          "text": [
            "prime_list의 마지막 원소: 7\n"
          ]
        }
      ]
    },
    {
      "cell_type": "code",
      "source": [
        "##LAB 5-2 /문제_4\n",
        "nations = ['Korea', 'China', 'Russia', 'Malaysia']\n",
        "print(\"nations 첫 원소:\", nations[0])"
      ],
      "metadata": {
        "colab": {
          "base_uri": "https://localhost:8080/"
        },
        "id": "E1-YDRWQrY17",
        "outputId": "95172dcd-1e45-4fed-c234-1f46a24360ae"
      },
      "execution_count": null,
      "outputs": [
        {
          "output_type": "stream",
          "name": "stdout",
          "text": [
            "nations 첫 원소: Korea\n"
          ]
        }
      ]
    },
    {
      "cell_type": "code",
      "source": [
        "##LAB 5-2 /문제_5\n",
        "nations = ['Korea', 'China', 'Russia', 'Malaysia']\n",
        "print(\"nations 마지막 원소:\", nations[3])"
      ],
      "metadata": {
        "colab": {
          "base_uri": "https://localhost:8080/"
        },
        "id": "vvg7enVWygLc",
        "outputId": "c1ca5356-8e5e-405f-d626-f08f81c489a2"
      },
      "execution_count": null,
      "outputs": [
        {
          "output_type": "stream",
          "name": "stdout",
          "text": [
            "nations 마지막 원소: Malaysia\n"
          ]
        }
      ]
    },
    {
      "cell_type": "code",
      "source": [
        "##LAB 5-2 /문제_6\n",
        "nations = ['Korea', 'China', 'Russia', 'Malaysia']\n",
        "print(\"nations 마지막 원소:\", nations[-1])"
      ],
      "metadata": {
        "colab": {
          "base_uri": "https://localhost:8080/"
        },
        "id": "3y7g8AB3ygN0",
        "outputId": "f60ec8ec-fbc6-413e-cb58-6b037171c49c"
      },
      "execution_count": null,
      "outputs": [
        {
          "output_type": "stream",
          "name": "stdout",
          "text": [
            "nations 마지막 원소: Malaysia\n"
          ]
        }
      ]
    },
    {
      "cell_type": "code",
      "source": [
        "##LAB 5-3 /문제_1\n",
        "prime_list = ['2', '3', '5','7']\n",
        "print(\"소수 목록: [{}, {}, {}, {}]\".format(prime_list[0],prime_list[1],prime_list[2],prime_list[3]))\n",
        "prime_list.append('11')\n",
        "print(\"추가 후 소수 목록: [{}, {}, {}, {}, {}]\".format(prime_list[0],prime_list[1],prime_list[2],prime_list[3],prime_list[4]))"
      ],
      "metadata": {
        "colab": {
          "base_uri": "https://localhost:8080/"
        },
        "id": "r85qsPt0ygQG",
        "outputId": "e57a5070-868f-4f21-e969-5e0f759e8d12"
      },
      "execution_count": null,
      "outputs": [
        {
          "output_type": "stream",
          "name": "stdout",
          "text": [
            "소수 목록: [2, 3, 5, 7]\n",
            "추가 후 소수 목록: [2, 3, 5, 7, 11]\n"
          ]
        }
      ]
    },
    {
      "cell_type": "code",
      "source": [
        "##LAB 5-3 /문제_2\n",
        "prime_list = ['2', '3', '5','7','11']\n",
        "print(\"삭제 전 소수 목록: [{}, {}, {}, {}, {}]\".format(prime_list[0],prime_list[1],prime_list[2],prime_list[3],prime_list[4]))\n",
        "prime_list.remove('3')\n",
        "print(\"삭제 후 소수 목록: [{}, {}, {}, {}]\".format(prime_list[0],prime_list[1],prime_list[2],prime_list[3]))\n"
      ],
      "metadata": {
        "colab": {
          "base_uri": "https://localhost:8080/"
        },
        "id": "jstO7ll-ygSU",
        "outputId": "ad0e457f-6bc5-4fad-c7b6-b42f0039f660"
      },
      "execution_count": null,
      "outputs": [
        {
          "output_type": "stream",
          "name": "stdout",
          "text": [
            "삭제 전 소수 목록: [2, 3, 5, 7, 11]\n",
            "삭제 후 소수 목록: [2, 5, 7, 11]\n"
          ]
        }
      ]
    },
    {
      "cell_type": "code",
      "source": [
        "##LAB 5-3 /문제_3\n",
        "nations = ['Korea', 'China', 'Russia', 'Malaysia']\n",
        "print(\"국가 목록 :\",nations)\n",
        "nations.append('Nepal')\n",
        "print(\"추가 후 국가 목록 :\",nations)\n"
      ],
      "metadata": {
        "colab": {
          "base_uri": "https://localhost:8080/"
        },
        "id": "b6Z-ks8FygUV",
        "outputId": "6f7732e2-e519-4259-f7a0-935ca69d2d9a"
      },
      "execution_count": null,
      "outputs": [
        {
          "output_type": "stream",
          "name": "stdout",
          "text": [
            "국가 목록 : ['Korea', 'China', 'Russia', 'Malaysia']\n",
            "추가 후 국가 목록 : ['Korea', 'China', 'Russia', 'Malaysia', 'Nepal']\n"
          ]
        }
      ]
    },
    {
      "cell_type": "code",
      "source": [
        "##LAB 5-3 /문제_4\n",
        "nations = ['Korea', 'China', 'Russia', 'Malaysia']\n",
        "if('Russia' in nations):\n",
        "  print(\"Russia 는/은 국가 목록에 있습니다.\")\n",
        "else:\n",
        "  print(\"No\")\n",
        "if('Japan' in nations):\n",
        "  print(\"Yes\")\n",
        "else:\n",
        "  print(\"Japan 는/은 국가 목록에 없습니다.\")\n",
        "\n",
        "\n"
      ],
      "metadata": {
        "colab": {
          "base_uri": "https://localhost:8080/"
        },
        "id": "USYJFbaDygWH",
        "outputId": "81c37ee8-f4ca-4442-977f-9b0568bf7f66"
      },
      "execution_count": null,
      "outputs": [
        {
          "output_type": "stream",
          "name": "stdout",
          "text": [
            "Russia 는/은 국가 목록에 있습니다.\n",
            "Japan 는/은 국가 목록에 없습니다.\n"
          ]
        }
      ]
    },
    {
      "cell_type": "code",
      "source": [
        "##LAB 5-4 /문제_1\n",
        "prime_list = [2, 3, 5, 7]\n",
        "print(\"1에서 10까지의 소수 : \", [prime_list[0],prime_list[1],prime_list[2],prime_list[3]])\n",
        "print(\"최솟값 :\",min(prime_list))\n",
        "print(\"최댓값 :\",max(prime_list))\n",
        "print(\"합계 :\",sum(prime_list))\n",
        "print(\"평균 :\",len(prime_list))"
      ],
      "metadata": {
        "id": "SdTkU2BE5TQm",
        "colab": {
          "base_uri": "https://localhost:8080/"
        },
        "outputId": "18026aaa-f8fa-43f3-cf41-44faf1e22048"
      },
      "execution_count": null,
      "outputs": [
        {
          "output_type": "stream",
          "name": "stdout",
          "text": [
            "1에서 10까지의 소수 :  [2, 3, 5, 7]\n",
            "최솟값 : 2\n",
            "최댓값 : 7\n",
            "합계 : 17\n",
            "평균 : 4\n"
          ]
        }
      ]
    },
    {
      "cell_type": "code",
      "source": [
        "##LAB 5-4 /문제_2\n",
        "nations = ['Korea', 'China', 'Russia', 'Malaysia']\n",
        "print(\"국가 목록 :\",nations)\n",
        "print(\"사전에 가장 먼저 나오는 나라 :\", min(nations))\n",
        "print(\"사전에 가장 뒤에 나오는 나라 :\", max(nations))\n"
      ],
      "metadata": {
        "id": "pj9Qb05E5TVY",
        "colab": {
          "base_uri": "https://localhost:8080/"
        },
        "outputId": "35c34853-082d-47e0-9a6c-247b4c04ce3a"
      },
      "execution_count": null,
      "outputs": [
        {
          "output_type": "stream",
          "name": "stdout",
          "text": [
            "국가 목록 : ['Korea', 'China', 'Russia', 'Malaysia']\n",
            "사전에 가장 먼저 나오는 나라 : China\n",
            "사전에 가장 뒤에 나오는 나라 : Russia\n"
          ]
        }
      ]
    },
    {
      "cell_type": "code",
      "source": [
        "##LAB 5-5 /문제_1\n",
        "a = [1, 2, 3]\n",
        "b = [10, 20, 30]\n",
        "a.append(b)\n",
        "a"
      ],
      "metadata": {
        "id": "cappurSi5TXp",
        "colab": {
          "base_uri": "https://localhost:8080/"
        },
        "outputId": "e6874df1-6956-4e6c-9b3b-13cb348b0baa"
      },
      "execution_count": null,
      "outputs": [
        {
          "output_type": "execute_result",
          "data": {
            "text/plain": [
              "[1, 2, 3, [10, 20, 30]]"
            ]
          },
          "metadata": {},
          "execution_count": 25
        }
      ]
    },
    {
      "cell_type": "code",
      "source": [
        "##LAB 5-5 /문제_1_2\n",
        "a = [1, 2, 3]\n",
        "b = [10, 20, 30]\n",
        "a.extend(b)\n",
        "a"
      ],
      "metadata": {
        "id": "MkBKW4K05TZg",
        "colab": {
          "base_uri": "https://localhost:8080/"
        },
        "outputId": "c2b4e82f-5569-4061-905d-7b10f7e1e5c6"
      },
      "execution_count": null,
      "outputs": [
        {
          "output_type": "execute_result",
          "data": {
            "text/plain": [
              "[1, 2, 3, 10, 20, 30]"
            ]
          },
          "metadata": {},
          "execution_count": 26
        }
      ]
    },
    {
      "cell_type": "code",
      "source": [
        "##LAB 5-5 /문제_2\n",
        "nlist = [5, 4, 7, 1, 2, 9, 3, 10, 6, 8]\n",
        "nlist.sort()\n",
        "print(\"nlist =\",nlist)"
      ],
      "metadata": {
        "colab": {
          "base_uri": "https://localhost:8080/"
        },
        "id": "oH7e2hERVtrQ",
        "outputId": "cdcb0aff-1c8e-427c-92f4-d21516c7d548"
      },
      "execution_count": null,
      "outputs": [
        {
          "output_type": "stream",
          "name": "stdout",
          "text": [
            "nlist = [1, 2, 3, 4, 5, 6, 7, 8, 9, 10]\n"
          ]
        }
      ]
    },
    {
      "cell_type": "code",
      "source": [
        "##LAB 5-5 /문제_3\n",
        "nlist = [5, 4, 7, 1, 2, 9, 3, 10, 6, 8]\n",
        "nlist.sort()\n",
        "nlist.insert(0, 0)\n",
        "print(\"nlist =\",nlist)"
      ],
      "metadata": {
        "colab": {
          "base_uri": "https://localhost:8080/"
        },
        "id": "dQGmj-7RVtwu",
        "outputId": "aa5ecac6-120c-47e7-ed11-366b4d6eeb98"
      },
      "execution_count": null,
      "outputs": [
        {
          "output_type": "stream",
          "name": "stdout",
          "text": [
            "nlist = [0, 1, 2, 3, 4, 5, 6, 7, 8, 9, 10]\n"
          ]
        }
      ]
    },
    {
      "cell_type": "code",
      "source": [
        "##LAB 5-5 /문제_4\n",
        "nlist = [5, 4, 7, 1, 2, 9, 3, 10, 6, 8]\n",
        "nlist.sort()\n",
        "nlist.insert(0, 0)\n",
        "nlist.reverse()\n",
        "print(\"nlist =\",nlist)"
      ],
      "metadata": {
        "colab": {
          "base_uri": "https://localhost:8080/"
        },
        "id": "K4AzcDXeVtzS",
        "outputId": "00f71aa9-7a73-4ffd-a5e2-1a707be1daf5"
      },
      "execution_count": null,
      "outputs": [
        {
          "output_type": "stream",
          "name": "stdout",
          "text": [
            "nlist = [10, 9, 8, 7, 6, 5, 4, 3, 2, 1, 0]\n"
          ]
        }
      ]
    },
    {
      "cell_type": "code",
      "source": [
        "##LAB 5-5 /문제_5\n",
        "nlist = [5, 4, 7, 1, 2, 9, 3, 10, 6, 8]\n",
        "nlist.sort()\n",
        "nlist.insert(0, 0)\n",
        "nlist.reverse()\n",
        "a = nlist.pop(10)\n",
        "print(\"마지막 원소 = {} \\nnlist = {}\".format(a, nlist))"
      ],
      "metadata": {
        "colab": {
          "base_uri": "https://localhost:8080/"
        },
        "id": "LHwreGbKVt1H",
        "outputId": "1a5bcbfb-7172-4ad4-d1ac-4558c544ba91"
      },
      "execution_count": null,
      "outputs": [
        {
          "output_type": "stream",
          "name": "stdout",
          "text": [
            "마지막 원소 = 0 \n",
            "nlist = [10, 9, 8, 7, 6, 5, 4, 3, 2, 1]\n"
          ]
        }
      ]
    },
    {
      "cell_type": "code",
      "source": [
        "##LAB 5-6\n",
        "slist = [1, 2, 3]\n",
        "n = int(input(\"반복할 정수를 입력하시오 : \"))\n",
        "print(slist * n)\n",
        "\n"
      ],
      "metadata": {
        "colab": {
          "base_uri": "https://localhost:8080/"
        },
        "id": "hBrftLPDZQdJ",
        "outputId": "ac712c71-47d8-4696-e7ed-5bd1765c3f0c"
      },
      "execution_count": null,
      "outputs": [
        {
          "output_type": "stream",
          "name": "stdout",
          "text": [
            "반복할 정수를 입력하시오 : 4\n",
            "[1, 2, 3, 1, 2, 3, 1, 2, 3, 1, 2, 3]\n"
          ]
        }
      ]
    },
    {
      "cell_type": "code",
      "source": [
        "##LAB 5-7 /문제_1\n",
        "n_list = list(range(15))\n",
        "print(\"n_list =\",n_list)"
      ],
      "metadata": {
        "colab": {
          "base_uri": "https://localhost:8080/"
        },
        "id": "ZcgHjGp_ZQfp",
        "outputId": "b72bf234-0751-43a8-8598-9fc88e6f574b"
      },
      "execution_count": null,
      "outputs": [
        {
          "output_type": "stream",
          "name": "stdout",
          "text": [
            "n_list = [0, 1, 2, 3, 4, 5, 6, 7, 8, 9, 10, 11, 12, 13, 14]\n"
          ]
        }
      ]
    },
    {
      "cell_type": "code",
      "source": [
        "##LAB 5-7 /문제_2\n",
        "n_list = list(range(15))\n",
        "print(\"s_list1 =\",n_list[0:5])\n",
        "print(\"s_list2 =\",n_list[6:11])\n",
        "print(\"s_list3 =\",n_list[11:15])\n",
        "print(\"s_list4 =\",n_list[2:11:2])\n",
        "a = n_list[::-1]\n",
        "print(\"s_list5 =\",a[4:9])\n",
        "print(\"s_list6 =\",a[4:13:2])"
      ],
      "metadata": {
        "colab": {
          "base_uri": "https://localhost:8080/"
        },
        "id": "8Mhw-hofZQiC",
        "outputId": "78453f68-c77d-4cde-c962-a34dfab4c762"
      },
      "execution_count": null,
      "outputs": [
        {
          "output_type": "stream",
          "name": "stdout",
          "text": [
            "s_list1 = [0, 1, 2, 3, 4]\n",
            "s_list2 = [6, 7, 8, 9, 10]\n",
            "s_list3 = [11, 12, 13, 14]\n",
            "s_list4 = [2, 4, 6, 8, 10]\n",
            "s_list5 = [10, 9, 8, 7, 6]\n",
            "s_list6 = [10, 8, 6, 4, 2]\n"
          ]
        }
      ]
    },
    {
      "cell_type": "code",
      "source": [
        "##LAB 6-1 /문제_1\n",
        "capital_dic = {\n",
        "    'Korea' : 'Seoul',\n",
        "    'China' : 'Beijing',\n",
        "    'USA'   : 'Washington DC'\n",
        "\n",
        "}\n",
        "print(capital_dic['Korea'])\n",
        "print(capital_dic['China'])\n",
        "print(capital_dic['USA'])"
      ],
      "metadata": {
        "colab": {
          "base_uri": "https://localhost:8080/"
        },
        "id": "knxCW7ZHZQkd",
        "outputId": "e494b982-c4cd-4886-c9cb-c459d788febb"
      },
      "execution_count": null,
      "outputs": [
        {
          "output_type": "stream",
          "name": "stdout",
          "text": [
            "Seoul\n",
            "Beijing\n",
            "Washington DC\n"
          ]
        }
      ]
    },
    {
      "cell_type": "code",
      "source": [
        "##LAB 6-1 /문제_2\n",
        "fruits_dic = {\n",
        "    'apple' : 5000,\n",
        "    'banana' : 4000,\n",
        "    'grape' : 5300,\n",
        "    'melon' : 6500,\n",
        "\n",
        "}\n",
        "print(\"apple의 가격은 {}원입니다. \\nbanana의 가격은 {}원입니다. \\ngrape의 가격은 {}원입니다. \\nmelon의 가격은 {}원입니다. \"\n",
        ".format(fruits_dic['apple'],fruits_dic['banana'],fruits_dic['grape'],fruits_dic['melon']))"
      ],
      "metadata": {
        "colab": {
          "base_uri": "https://localhost:8080/"
        },
        "id": "VSzSJFcYZQmf",
        "outputId": "e3a32fdd-1c42-46aa-f25e-5e10a2089a92"
      },
      "execution_count": null,
      "outputs": [
        {
          "output_type": "stream",
          "name": "stdout",
          "text": [
            "apple의 가격은 5000원입니다. \n",
            "banana의 가격은 4000원입니다. \n",
            "grape의 가격은 5300원입니다. \n",
            "melon의 가격은 6500원입니다. \n"
          ]
        }
      ]
    },
    {
      "cell_type": "code",
      "source": [
        "##LAB 6-2 \n",
        "person = {\n",
        "    '이름' : '홍길동',\n",
        "    '나이' : 26,\n",
        "    '몸무게' : 82,\n",
        "}\n",
        "person['특기'] = '분신술'\n",
        "person['아버지'] = '홍판사'\n",
        "del person['나이']\n",
        "person"
      ],
      "metadata": {
        "colab": {
          "base_uri": "https://localhost:8080/"
        },
        "id": "-nu5EbOnZQoV",
        "outputId": "036a3d57-98d9-47e2-b713-e9a3a0e9416f"
      },
      "execution_count": null,
      "outputs": [
        {
          "output_type": "execute_result",
          "data": {
            "text/plain": [
              "{'이름': '홍길동', '몸무게': 82, '특기': '분신술', '아버지': '홍판사'}"
            ]
          },
          "metadata": {},
          "execution_count": 117
        }
      ]
    },
    {
      "cell_type": "code",
      "source": [
        "##LAB 6-3\n",
        "capital_dic = {\n",
        "    'Korea' : 'Seoul',\n",
        "    'China' : 'Beijing',\n",
        "    'USA' : 'Washington DC'\n",
        "}\n",
        "print('Korea' in capital_dic)\n",
        "print('China' in capital_dic)\n",
        "print('Indonesia' in capital_dic)\n",
        "print('Beijing' in capital_dic)"
      ],
      "metadata": {
        "colab": {
          "base_uri": "https://localhost:8080/"
        },
        "id": "Py8VzIADqTAL",
        "outputId": "d90716a0-f741-48a4-c677-0e68d4a650c9"
      },
      "execution_count": null,
      "outputs": [
        {
          "output_type": "stream",
          "name": "stdout",
          "text": [
            "True\n",
            "True\n",
            "False\n",
            "False\n"
          ]
        }
      ]
    },
    {
      "cell_type": "code",
      "source": [
        "##LAB 6-4\n",
        "fruits_dic = {\n",
        "    'apple' : 6000,\n",
        "    'melon' : 3000,\n",
        "    'banana' : 5000,\n",
        "    'orange' : 7000\n",
        "}\n",
        "print(fruits_dic.keys())\n",
        "print(fruits_dic.values())\n",
        "fruits_dic.pop('apple')\n",
        "fruits_dic.clear()\n",
        "fruits_dic"
      ],
      "metadata": {
        "colab": {
          "base_uri": "https://localhost:8080/"
        },
        "id": "J3GELruSqTCm",
        "outputId": "e843db15-88df-4496-8213-000cce938d24"
      },
      "execution_count": null,
      "outputs": [
        {
          "output_type": "stream",
          "name": "stdout",
          "text": [
            "dict_keys(['apple', 'melon', 'banana', 'orange'])\n",
            "dict_values([6000, 3000, 5000, 7000])\n"
          ]
        },
        {
          "output_type": "execute_result",
          "data": {
            "text/plain": [
              "{}"
            ]
          },
          "metadata": {},
          "execution_count": 127
        }
      ]
    },
    {
      "cell_type": "code",
      "source": [
        "##LAB 6-5 /문제_1\n",
        "fruits_dic = {\n",
        "    'apple' : 6000,\n",
        "    'melon' : 3000,\n",
        "    'banana' : 5000,\n",
        "    'orange' : 4000,\n",
        "}\n",
        "key_list = list(fruits_dic.keys())\n",
        "print(key_list)"
      ],
      "metadata": {
        "colab": {
          "base_uri": "https://localhost:8080/"
        },
        "id": "MHcLKlekqTEu",
        "outputId": "8472b089-c875-436e-e201-d3dc3a9bb958"
      },
      "execution_count": null,
      "outputs": [
        {
          "output_type": "stream",
          "name": "stdout",
          "text": [
            "['apple', 'melon', 'banana', 'orange']\n"
          ]
        }
      ]
    },
    {
      "cell_type": "code",
      "source": [
        "##LAB 6-5 /문제_2\n",
        "fruits_dic = {\n",
        "    'apple' : 6000,\n",
        "    'melon' : 3000,\n",
        "    'banana' : 5000,\n",
        "    'orange' : 4000,\n",
        "}\n",
        "values_list = list(fruits_dic.values())\n",
        "print(values_list)"
      ],
      "metadata": {
        "colab": {
          "base_uri": "https://localhost:8080/"
        },
        "id": "AI9YesVJzMsG",
        "outputId": "7bd5b0d2-977e-4c3b-a0a9-9fe725e7a8c1"
      },
      "execution_count": null,
      "outputs": [
        {
          "output_type": "stream",
          "name": "stdout",
          "text": [
            "[6000, 3000, 5000, 4000]\n"
          ]
        }
      ]
    },
    {
      "cell_type": "code",
      "source": [
        "##LAB 6-5 /문제_3\n",
        "fruits_dic = {\n",
        "    'apple' : 6000,\n",
        "    'melon' : 3000,\n",
        "    'banana' : 5000,\n",
        "    'orange' : 4000,\n",
        "}\n",
        "print(\"fruits_dic 딕셔너리의 항목의 개수 : \",len(fruits_dic))"
      ],
      "metadata": {
        "colab": {
          "base_uri": "https://localhost:8080/"
        },
        "id": "AHXUyuc2zMyY",
        "outputId": "efa3cdf1-c7ae-4e3f-86f9-438c1fa76849"
      },
      "execution_count": null,
      "outputs": [
        {
          "output_type": "stream",
          "name": "stdout",
          "text": [
            "fruits_dic 딕셔너리의 항목의 개수 :  4\n"
          ]
        }
      ]
    },
    {
      "cell_type": "code",
      "source": [
        "##LAB 6-5 /문제_4\n",
        "fruits_dic = {\n",
        "    'apple' : 6000,\n",
        "    'melon' : 3000,\n",
        "    'banana' : 5000,\n",
        "    'orange' : 4000,\n",
        "}\n",
        "\n",
        "if 'apple' in fruits_dic and 'mango' in fruits_dic:\n",
        "  print(\"apple is in fruits_dic. \\nmango is in fruits_dic\")\n",
        "elif 'apple' in fruits_dic and 'mango' not in  fruits_dic:\n",
        "  print(\"apple is in fruits_dic. \\nmango is not in fruits_dic\")\n",
        "elif 'apple' not in fruits_dic and 'mango' in  fruits_dic:\n",
        "  print(\"apple is not in fruits_dic. \\nmango is in fruits_dic\")\n",
        "else:\n",
        "  print(\"apple is not in fruits_dic. \\nmango is not in fruits_dic\")\n"
      ],
      "metadata": {
        "colab": {
          "base_uri": "https://localhost:8080/"
        },
        "id": "gl7MmOdlzM06",
        "outputId": "fe7fc181-de00-4cdb-ad1d-24c0385b1bbc"
      },
      "execution_count": null,
      "outputs": [
        {
          "output_type": "stream",
          "name": "stdout",
          "text": [
            "apple is in fruits_dic. \n",
            "mango is not in fruits_dic\n"
          ]
        }
      ]
    },
    {
      "cell_type": "code",
      "source": [
        "##LAB 6-6 /문제_1\n",
        "the_day = (1919, 3, 1)\n",
        "year, month, day = the_day\n",
        "print(\"{}년 {}월 {}일은 삼일절입니다\".format(year, month, day))"
      ],
      "metadata": {
        "colab": {
          "base_uri": "https://localhost:8080/"
        },
        "id": "9wZZ1H3C46ef",
        "outputId": "891c6abb-3c9a-403b-bd17-0e759a987d43"
      },
      "execution_count": null,
      "outputs": [
        {
          "output_type": "stream",
          "name": "stdout",
          "text": [
            "1919년 3월 1일은 삼일절입니다\n"
          ]
        }
      ]
    },
    {
      "cell_type": "code",
      "source": [
        "##LAB 6-6 /문제_2\n",
        "list1 = (10, 20, 30)\n",
        "a, b, c = list1\n",
        "a, c = c, a\n",
        "print(\"a = {} \\nb = {} \\nc = {} \\n\".format(a, b, c))"
      ],
      "metadata": {
        "colab": {
          "base_uri": "https://localhost:8080/"
        },
        "id": "90xE4b8a46hT",
        "outputId": "66372fc5-b455-4c79-d1d7-76860976e2ea"
      },
      "execution_count": null,
      "outputs": [
        {
          "output_type": "stream",
          "name": "stdout",
          "text": [
            "a = 30 \n",
            "b = 20 \n",
            "c = 10 \n",
            "\n"
          ]
        }
      ]
    },
    {
      "cell_type": "code",
      "source": [
        "##LAB 6-7\n",
        "person = ('홍길동', 2019001, 179)\n",
        "\n",
        "print(\"person = \", person)\n",
        "\n",
        "a_list = list(person)\n",
        "a_list[1] = '2019003'\n",
        "person = tuple(a_list)\n",
        "print(\"학번 변동 후 person =\", person)"
      ],
      "metadata": {
        "id": "pD9M7m1t46nz",
        "outputId": "98c796be-ef42-4dbd-8bac-a0badbc751bf",
        "colab": {
          "base_uri": "https://localhost:8080/"
        }
      },
      "execution_count": null,
      "outputs": [
        {
          "output_type": "stream",
          "name": "stdout",
          "text": [
            "person =  ('홍길동', 2019001, 179)\n",
            "학번 변동 후 person = ('홍길동', '2019003', 179)\n"
          ]
        }
      ]
    },
    {
      "cell_type": "code",
      "source": [
        "##LAB 6-8 /문제_1\n",
        "(10, 20, 30) + (40, 50, 60)"
      ],
      "metadata": {
        "colab": {
          "base_uri": "https://localhost:8080/"
        },
        "id": "11GugJFtAXqa",
        "outputId": "c85e9e72-1854-41fd-8464-2146f566e18b"
      },
      "execution_count": null,
      "outputs": [
        {
          "output_type": "execute_result",
          "data": {
            "text/plain": [
              "(10, 20, 30, 40, 50, 60)"
            ]
          },
          "metadata": {},
          "execution_count": 5
        }
      ]
    },
    {
      "cell_type": "code",
      "source": [
        "##LAB 6-8 /문제_2\n",
        "print('Hello' * 3)\n",
        "print(('Hello ',) * 3)"
      ],
      "metadata": {
        "colab": {
          "base_uri": "https://localhost:8080/"
        },
        "id": "OxJNh-UjAXwf",
        "outputId": "8b378461-3fde-4130-a528-c60542bff675"
      },
      "execution_count": null,
      "outputs": [
        {
          "output_type": "stream",
          "name": "stdout",
          "text": [
            "HelloHelloHello\n",
            "('Hello ', 'Hello ', 'Hello ')\n"
          ]
        }
      ]
    },
    {
      "cell_type": "code",
      "source": [
        "##LAB 6-9 /문제_1\n",
        "lst = ['apple', 'mango', 'banana']\n",
        "print(\"lst =\", lst)\n",
        "lst_set = set(lst)\n",
        "print(\"s1 =\", lst_set)"
      ],
      "metadata": {
        "colab": {
          "base_uri": "https://localhost:8080/"
        },
        "id": "8p9A9Ez-AXzP",
        "outputId": "c700db93-a8a5-4ad9-a058-02546234114e"
      },
      "execution_count": null,
      "outputs": [
        {
          "output_type": "stream",
          "name": "stdout",
          "text": [
            "lst = ['apple', 'mango', 'banana']\n",
            "s1 = {'mango', 'apple', 'banana'}\n"
          ]
        }
      ]
    },
    {
      "cell_type": "code",
      "source": [
        "##LAB 6-9 /문제_2\n",
        "greet = 'Good afternoon'\n",
        "s2 = set(greet)\n",
        "print(\"s2 =\", s2)"
      ],
      "metadata": {
        "colab": {
          "base_uri": "https://localhost:8080/"
        },
        "id": "A3Agef3sCEVi",
        "outputId": "4a334fa0-9175-4a1d-ee55-3311ca59d2cd"
      },
      "execution_count": null,
      "outputs": [
        {
          "output_type": "stream",
          "name": "stdout",
          "text": [
            "s2 = {' ', 'G', 'a', 't', 'e', 'o', 'd', 'r', 'n', 'f'}\n"
          ]
        }
      ]
    },
    {
      "cell_type": "code",
      "source": [
        "##LAB 6-10\n",
        "s1 = {10, 20, 30, 40}\n",
        "s2 = {30, 40, 50, 60, 70}\n",
        "print(s1 | s2)\n",
        "print(s1 & s2)\n",
        "print(s1 - s2)\n",
        "print(s1 ^ s2)\n",
        "print(s1.issubset(s2))\n",
        "print(s1.issuperset(s2))\n",
        "print(s1.isdisjoint(s2))"
      ],
      "metadata": {
        "colab": {
          "base_uri": "https://localhost:8080/"
        },
        "id": "AkyklwMoCEad",
        "outputId": "158c693b-3295-462d-d8b4-88d1e3a559b4"
      },
      "execution_count": null,
      "outputs": [
        {
          "output_type": "stream",
          "name": "stdout",
          "text": [
            "{70, 40, 10, 50, 20, 60, 30}\n",
            "{40, 30}\n",
            "{10, 20}\n",
            "{50, 20, 70, 10, 60}\n",
            "False\n",
            "False\n",
            "False\n"
          ]
        }
      ]
    },
    {
      "cell_type": "code",
      "source": [
        "##LAB 6-11\n",
        "def product_set(A, B):\n",
        "  res = set()\n",
        "  for i in A:\n",
        "    for j in B:\n",
        "      res = res | {(i,j)}\n",
        "  return res\n",
        "\n",
        "A = {1, 2}\n",
        "B = {'A', 'B', 'C'}\n",
        "AxB = product_set(A,B)\n",
        "BxA = product_set(B,A)\n",
        "AxA = product_set(A,A)\n",
        "BxB = product_set(B,B)\n",
        "print('A =',A)\n",
        "print('B =',B)\n",
        "print('AxB =', AxB)\n",
        "print('BxA =', BxA)\n",
        "print('AxA =', AxA)\n",
        "print('BxB =', BxB)"
      ],
      "metadata": {
        "colab": {
          "base_uri": "https://localhost:8080/"
        },
        "id": "5ZXYv4ltCEdG",
        "outputId": "c4633efe-1516-4db5-e9fa-0b197b34ecf6"
      },
      "execution_count": null,
      "outputs": [
        {
          "output_type": "stream",
          "name": "stdout",
          "text": [
            "A = {1, 2}\n",
            "B = {'C', 'B', 'A'}\n",
            "AxB = {(1, 'A'), (1, 'B'), (2, 'B'), (1, 'C'), (2, 'C'), (2, 'A')}\n",
            "BxA = {('B', 2), ('C', 1), ('C', 2), ('A', 1), ('B', 1), ('A', 2)}\n",
            "AxA = {(1, 2), (1, 1), (2, 1), (2, 2)}\n",
            "BxB = {('A', 'C'), ('B', 'C'), ('B', 'B'), ('A', 'A'), ('C', 'C'), ('A', 'B'), ('B', 'A'), ('C', 'A'), ('C', 'B')}\n"
          ]
        }
      ]
    },
    {
      "cell_type": "code",
      "source": [
        "##LAB 6-12\n",
        "\n",
        "def tuple_sum(tup) :\n",
        "  if isinstance(tup, int) : \n",
        "    return tup\n",
        "  else:\n",
        "    accum = 0\n",
        "    for element in tup : \n",
        "      accum += tuple_sum(element)\n",
        "  return accum\n",
        "def product_set(set1, set2) :\n",
        "  res = set()\n",
        "  for i in set1:\n",
        "    for j in set2:\n",
        "      res = res | {(i,j)}\n",
        "  return res\n",
        "cases = { 1, 2, 3, 4, 5, 6 }\n",
        "cases_2times = product_set(cases, cases)\n",
        "cases_3times = product_set(cases, cases_2times)\n",
        "sums = [tuple_sum(tup) for tup in cases_3times]\n",
        "\n",
        "print(\"주사위를 세 번 단져 발생할 수 있는 사건은 {} 가지 경우가 존재합니다.\".format(len(sums)))\n"
      ],
      "metadata": {
        "colab": {
          "base_uri": "https://localhost:8080/"
        },
        "id": "kqJsQ8GZCEiM",
        "outputId": "c531f207-2134-472e-80d6-fe99ddd417da"
      },
      "execution_count": null,
      "outputs": [
        {
          "output_type": "stream",
          "name": "stdout",
          "text": [
            "주사위를 세 번 단져 발생할 수 있는 사건은 216 가지 경우가 존재합니다.\n"
          ]
        }
      ]
    },
    {
      "cell_type": "code",
      "source": [
        "def tuple_sum(tup) :\n",
        "  if isinstance(tup, int) : \n",
        "    return tup\n",
        "  else:\n",
        "    accum = 0\n",
        "    for element in tup : \n",
        "      accum += tuple_sum(element)\n",
        "  return accum\n",
        "def product_set(set1, set2) :\n",
        "  res = set()\n",
        "  for i in set1:\n",
        "    for j in set2:\n",
        "      res = res | {(i,j)}\n",
        "  return res\n",
        "cases = { 1, 2, 3, 4, 5, 6 }\n",
        "cases_2times = product_set(cases, cases)\n",
        "cases_3times = product_set(cases, cases_2times)\n",
        "sums = [tuple_sum(tup) for tup in cases_3times]\n",
        "  sums = "
      ],
      "metadata": {
        "colab": {
          "base_uri": "https://localhost:8080/"
        },
        "id": "JUASgMCjCEko",
        "outputId": "2476cf78-468a-42cc-e47c-331415c3ba63"
      },
      "execution_count": null,
      "outputs": [
        {
          "output_type": "stream",
          "name": "stdout",
          "text": [
            "216\n"
          ]
        }
      ]
    },
    {
      "cell_type": "code",
      "source": [],
      "metadata": {
        "id": "Tw06l_wgCEme"
      },
      "execution_count": null,
      "outputs": []
    },
    {
      "cell_type": "code",
      "source": [],
      "metadata": {
        "id": "IGeH8dJ-AX1R"
      },
      "execution_count": null,
      "outputs": []
    }
  ]
}